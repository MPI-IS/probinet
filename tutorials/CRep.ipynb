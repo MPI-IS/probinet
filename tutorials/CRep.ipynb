{
 "cells": [
  {
   "cell_type": "code",
   "execution_count": 11,
   "outputs": [],
   "source": [
    "import os\n",
    "\n",
    "import numpy as np\n",
    "import sktensor as skt\n",
    "import yaml"
   ],
   "metadata": {
    "collapsed": false,
    "ExecuteTime": {
     "end_time": "2023-11-14T18:32:25.981289409Z",
     "start_time": "2023-11-14T18:32:25.585948468Z"
    }
   }
  },
  {
   "cell_type": "markdown",
   "source": [
    "# Jupyter Tutorial for Probabilistic Generative Models for Network Analysis (PGM)\n",
    "\n",
    "Welcome to this tutorial on using the _Probabilistic Generative Models for Network Analysis_ (`pgm`) package. In this tutorial, we'll walk through the process of running the _CRep0_ algorithm on a sample dataset.\n"
   ],
   "metadata": {
    "collapsed": false
   }
  },
  {
   "cell_type": "markdown",
   "source": [
    "## Configuration\n",
    "Let's start by configuring the algorithm. We'll use the _CRep0_ algorithm, and we need to set the input folder and adjacency file."
   ],
   "metadata": {
    "collapsed": false
   }
  },
  {
   "cell_type": "code",
   "execution_count": 2,
   "outputs": [],
   "source": [
    "# setting to run the algorithm\n",
    "algorithm = 'CRep0'\n",
    "in_folder = '../pgm/config/data/input/'\n",
    "adj = 'syn111.dat'\n",
    "config_path = 'setting_' + algorithm + '.yaml'"
   ],
   "metadata": {
    "collapsed": false,
    "ExecuteTime": {
     "end_time": "2023-11-14T18:31:14.755746413Z",
     "start_time": "2023-11-14T18:31:14.751781608Z"
    }
   }
  },
  {
   "cell_type": "markdown",
   "source": [
    "We load the configuration file using the data files in the `pgm` package:"
   ],
   "metadata": {
    "collapsed": false
   }
  },
  {
   "cell_type": "code",
   "execution_count": 6,
   "outputs": [],
   "source": [
    "import importlib.resources as res\n",
    "\n",
    "with res.open_binary('pgm.data.model', config_path) as fp:\n",
    "    conf = yaml.load(fp, Loader=yaml.Loader)"
   ],
   "metadata": {
    "collapsed": false,
    "ExecuteTime": {
     "end_time": "2023-11-14T18:31:30.724901682Z",
     "start_time": "2023-11-14T18:31:30.698967075Z"
    }
   }
  },
  {
   "cell_type": "code",
   "execution_count": 9,
   "outputs": [
    {
     "name": "stdout",
     "output_type": "stream",
     "text": [
      "N_real: 5\n",
      "assortative: true\n",
      "constrained: true\n",
      "decision: 10\n",
      "end_file: _CRep0\n",
      "err: 0.1\n",
      "err_max: 1.0e-12\n",
      "eta0: 0\n",
      "files: ../data/input/synthetic/theta.npz\n",
      "fix_eta: true\n",
      "inf: 10000000000.0\n",
      "initialization: 0\n",
      "max_iter: 1000\n",
      "out_folder: ./CRep0_output/\n",
      "out_inference: true\n",
      "rseed: 0\n",
      "tolerance: 0.0001\n",
      "undirected: false\n",
      "verbose: false\n",
      "\n"
     ]
    }
   ],
   "source": [
    "# Print the configuration file\n",
    "print(yaml.dump(conf))"
   ],
   "metadata": {
    "collapsed": false
   }
  },
  {
   "cell_type": "markdown",
   "source": [
    "Now, let's change the path to the output folder:"
   ],
   "metadata": {
    "collapsed": false
   }
  },
  {
   "cell_type": "code",
   "execution_count": 7,
   "outputs": [],
   "source": [
    "# Change the output folder\n",
    "conf['out_folder'] = './' + algorithm + '_output/'"
   ],
   "metadata": {
    "collapsed": false,
    "ExecuteTime": {
     "end_time": "2023-11-14T18:31:34.105431163Z",
     "start_time": "2023-11-14T18:31:34.097982619Z"
    }
   }
  },
  {
   "cell_type": "code",
   "execution_count": 8,
   "outputs": [],
   "source": [
    "# Ensure the output folder exists\n",
    "if not os.path.exists(conf['out_folder']):\n",
    "    os.makedirs(conf['out_folder'])"
   ],
   "metadata": {
    "collapsed": false,
    "ExecuteTime": {
     "end_time": "2023-11-14T18:31:35.337975525Z",
     "start_time": "2023-11-14T18:31:35.328663170Z"
    }
   }
  },
  {
   "cell_type": "code",
   "execution_count": 15,
   "outputs": [],
   "source": [
    "# Save the configuration file\n",
    "output_config_path = conf['out_folder'] + '/setting_' + algorithm + '.yaml'\n",
    "with open(output_config_path, 'w') as f:\n",
    "    yaml.dump(conf, f)"
   ],
   "metadata": {
    "collapsed": false,
    "ExecuteTime": {
     "end_time": "2023-11-10T15:33:27.799607299Z",
     "start_time": "2023-11-10T15:33:27.755945650Z"
    }
   }
  },
  {
   "cell_type": "markdown",
   "source": [
    "## Importing Data\n",
    "Now, let's import the data using the `pgm` package:"
   ],
   "metadata": {
    "collapsed": false
   }
  },
  {
   "cell_type": "code",
   "execution_count": 16,
   "outputs": [
    {
     "name": "stdout",
     "output_type": "stream",
     "text": [
      "../pgm/config/data/input/syn111.dat shape: (5512, 3)\n",
      "Removing self loops\n",
      "Number of nodes = 600\n",
      "Number of layers = 1\n",
      "Number of edges and average degree in each layer:\n",
      "E[0] = 5512 - <k> = 18.373\n",
      "M[0] = 5899 - <k_weighted> = 19.663\n",
      "Reciprocity (networkX) = 0.423\n",
      "Reciprocity (intended as the proportion of bi-directional edges over the unordered pairs) = 0.268\n",
      "Reciprocity (considering the weights of the edges) = 0.515\n"
     ]
    }
   ],
   "source": [
    "from pgm.input.loader import import_data\n",
    "\n",
    "ego = 'source'\n",
    "alter = 'target'\n",
    "force_dense = False\n",
    "\n",
    "network = in_folder + adj  # network complete path\n",
    "# TODO: the following function probably reads local data. Should we use the data in the package?\n",
    "A, B, B_T, data_T_vals = import_data(network,\n",
    "                                     ego=ego,\n",
    "                                     alter=alter,\n",
    "                                     force_dense=force_dense,\n",
    "                                     header=0)\n",
    "nodes = A[0].nodes()"
   ],
   "metadata": {
    "collapsed": false,
    "ExecuteTime": {
     "end_time": "2023-11-10T15:34:23.105621609Z",
     "start_time": "2023-11-10T15:34:22.185498057Z"
    }
   }
  },
  {
   "cell_type": "code",
   "execution_count": null,
   "outputs": [],
   "source": [
    "valid_types = [np.ndarray, skt.dtensor, skt.sptensor]\n",
    "assert any(isinstance(B, vt) for vt in valid_types)"
   ],
   "metadata": {
    "collapsed": false
   }
  },
  {
   "cell_type": "markdown",
   "source": [
    "## Running the Model\n",
    "Finally, let's run the _CRep0_ model:"
   ],
   "metadata": {
    "collapsed": false
   }
  },
  {
   "cell_type": "code",
   "execution_count": null,
   "outputs": [],
   "source": [
    "from pgm.model import CRep as CREP\n",
    "import time\n",
    "\n",
    "print(f'\\n### Run {algorithm} ###')\n",
    "\n",
    "K = 3\n",
    "flag_conv = 'log'\n",
    "\n",
    "time_start = time.time()\n",
    "model = CREP.CRep(N=A[0].number_of_nodes(), L=len(A), K=K, **conf)\n",
    "_ = model.fit(data=B,\n",
    "              data_T=B_T,\n",
    "              data_T_vals=data_T_vals,\n",
    "              flag_conv=flag_conv,\n",
    "              nodes=nodes)\n",
    "\n",
    "print(f'\\nTime elapsed: {np.round(time.time() - time_start, 2)} seconds.')"
   ],
   "metadata": {
    "collapsed": false
   }
  },
  {
   "cell_type": "code",
   "execution_count": null,
   "outputs": [],
   "source": [],
   "metadata": {
    "collapsed": false
   }
  }
 ],
 "metadata": {
  "kernelspec": {
   "display_name": "Python 3",
   "language": "python",
   "name": "python3"
  },
  "language_info": {
   "codemirror_mode": {
    "name": "ipython",
    "version": 2
   },
   "file_extension": ".py",
   "mimetype": "text/x-python",
   "name": "python",
   "nbconvert_exporter": "python",
   "pygments_lexer": "ipython2",
   "version": "2.7.6"
  }
 },
 "nbformat": 4,
 "nbformat_minor": 0
}
