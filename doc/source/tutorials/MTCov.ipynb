{
 "cells": [
  {
   "cell_type": "markdown",
   "source": [
    "# Tutorial: A Beginner's Guide to Probabilistic Generative Models and the `MTCov` Algorithm\n",
    "\n",
    "Welcome to this tutorial on using the _Probabilistic Generative Models for Network Analysis_ \n",
    "(`pgm`) package. In this tutorial, we'll walk through the process of running the `MTCov` algorithm \n",
    "on a sample dataset.\n",
    "\n",
    "The `MTCov` algorithm (which name comes from a mix of \"Multitensor and Covariates\") is a \n",
    "probabilistic generative model used for network analysis. It is designed to detect communities \n",
    "within multilayer networks with node attributes."
   ],
   "metadata": {
    "collapsed": false
   }
  },
  {
   "cell_type": "markdown",
   "source": [
    "## Package Structure\n",
    "Before explaining how to use the _MTCov_ algorithm, let's explore the structure of the `pgm` \n",
    "package, which is organized into four main modules:\n",
    "\n",
    "### 1. Input\n",
    "The `input` module handles data input for subsequent use by the algorithms in the `model` module. It comprises the following submodules:  \n",
    "\n",
    "- `loader`: Functions to load data from input files.  \n",
    "- `preprocessing`: Functions for data preprocessing, such as converting NetworkX graphs to sparse adjacency matrices.  \n",
    "- `tools`: Utility functions for working with matrices, tensors, and sparsity.  \n",
    "- `stats`: Functions for computing statistics on the data.  \n",
    "- `generate_networks`: Functions for generating synthetic networks.  \n",
    "\n",
    "In most cases where users have their own data, they typically use only the `loader` and `preprocessing` modules. The other modules serve as internal components supporting these primary functionalities. The `generate_networks` module is utilized when no data is available, and the user wants to generate synthetic networks.\n",
    "\n",
    "### 2. Model\n",
    "The `model` module encompasses the implementation of various algorithms, including the following submodules:  \n",
    "\n",
    "- `MTCov`: Implementation of the `MTCov` algorithm.\n",
    "- `CRep`: Implementation of the `CRep` algorithm.  \n",
    "- `JointCRep`: Implementation of the `JointCRep` algorithm. \n",
    "- `cv_CRep`: Cross-validation for the CRep algorithm.\n",
    "- `cv`: Implementation of the general cross-validation algorithm.  \n",
    "\n",
    "\n",
    "### 3. Output\n",
    "The `output` module contains functions responsible for handling the outputs of the models. It consists of the following submodules:\n",
    "\n",
    "- `evaluate`: Essential functions for model assessment, such as AUC for link prediction, conditional and marginal expectations, and the pseudo log-likelihood of the data.\n",
    "- `plot`: Functions for visualizing the results and performance metrics of the models.\n",
    "\n",
    "### 4. Data\n",
    "The `data` module contains the data files used by the package. It consists of the following submodules:\n",
    "\n",
    "- `input`: Input data files.\n",
    "- `model`: Configuration files for the models."
   ],
   "metadata": {
    "collapsed": false
   }
  },
  {
   "cell_type": "markdown",
   "source": [
    "Having explored the package structure, let's see how to use it to run the `MTCov` algorithm."
   ],
   "metadata": {
    "collapsed": false
   }
  },
  {
   "cell_type": "markdown",
   "source": [
    "## Configuration\n",
    "Let's start by configuring the algorithm and the parameters needed. The pipeline works based on two types of parameters:\n",
    "\n",
    "**Numerical Parameters:** these are operational parameters that control the execution of the algorithm. They are not directly related to the model's theoretical framework but are crucial for its practical implementation. Examples include:\n",
    "\n",
    "- **Convergence tolerance:** This is a threshold used to determine when the algorithm has converged, i.e., when the changes in the model's parameters between iterations are small enough to consider the model as having reached its final state.\n",
    "\n",
    "- **Maximum number of iterations:** This is the maximum number of times the algorithm will update the model's parameters. If the model hasn't converged by this point, the algorithm will stop anyway.\n",
    "\n",
    "- **Number of realizations:** In the context of the `MTCov` algorithm, this refers to the number of times the entire process (initialization and iterative updates) is repeated. This is done to account for the randomness in the initialization step and to ensure a more robust final model. \n",
    "\n",
    "These are set by default in the model's class definition, but they can be changed by the user.\n",
    "\n",
    "**Model parameters:**  These are parameters that are part of the model's theoretical framework. They have a direct impact on the model's behavior and the results it produces. Examples include:\n",
    "\n",
    "- **Number of communities (K)**: This is a fundamental parameter of the `MTCov` algorithm. It determines the number of communities the algorithm will try to find in the network. Each node in the network will be assigned to one of these communities, at least.\n",
    "\n",
    "- **Reciprocity coefficient (eta)**: This is another fundamental parameter of the `MTCov` algorithm. It quantifies the level of reciprocity in the network, i.e., the tendency of node pairs to form mutual connections.\n",
    "\n",
    "These are set by the user in the configuration file corresponding to the used model. In the case of the `MTCov` algorithm, this file is `setting_MTCov.yaml`.  \n",
    "\n",
    "Notice that the data is not a parameter, but an input to the algorithm, hence, it is not included in the default configuration of the class nor in the configuration file. This will be shown later in the tutorial."
   ],
   "metadata": {
    "collapsed": false
   }
  },
  {
   "cell_type": "code",
   "execution_count": 1,
   "outputs": [],
   "source": [
    "from pathlib import Path\n",
    "\n",
    "import numpy as np\n",
    "import yaml"
   ],
   "metadata": {
    "collapsed": false,
    "ExecuteTime": {
     "end_time": "2024-02-12T16:00:10.021313937Z",
     "start_time": "2024-02-12T16:00:09.974365595Z"
    }
   }
  },
  {
   "cell_type": "markdown",
   "source": [
    "Let's start by loading the configuration file for the _MTCov_ algorithm. This file is located in \n",
    "the `pgm/data/model` folder. "
   ],
   "metadata": {
    "collapsed": false
   }
  },
  {
   "cell_type": "code",
   "execution_count": 2,
   "outputs": [],
   "source": [
    "# Set the algorithm to 'MTCov'\n",
    "algorithm = 'MTCov'\n",
    "\n",
    "# Define the path to the configuration file for the 'MTCov' algorithm\n",
    "config_path = 'setting_' + algorithm + '.yaml'"
   ],
   "metadata": {
    "collapsed": false,
    "ExecuteTime": {
     "end_time": "2024-02-12T16:00:10.319543593Z",
     "start_time": "2024-02-12T16:00:10.304972948Z"
    }
   }
  },
  {
   "cell_type": "markdown",
   "source": [
    "We load the configuration file using the data files in the `pgm` package instead of a relative path to it:"
   ],
   "metadata": {
    "collapsed": false
   }
  },
  {
   "cell_type": "code",
   "execution_count": 3,
   "outputs": [],
   "source": [
    "# Import the 'open_binary' function from the 'importlib.resources' module\n",
    "# This function is used to open a binary file included in a package\n",
    "from importlib.resources import open_binary\n",
    "\n",
    "# Open the configuration file for the 'MTCov' algorithm\n",
    "# The 'open_binary' function takes two arguments:\n",
    "# - The name of the package where the file is located ('pgm.data.model')\n",
    "# - The name of the file to open ('config_path')\n",
    "# The function returns a binary file object, which is opened in read mode\n",
    "with open_binary('pgm.data.model', config_path) as fp:\n",
    "    # Load the contents of the configuration file into a dictionary\n",
    "    # The 'load' function from the 'yaml' module is used to \n",
    "    # convert the data from a YAML formatted string into a Python dictionary.\n",
    "    # The 'Loader=yaml.Loader' argument specifies the loader class to use for \n",
    "    # loading the data.\n",
    "    conf = yaml.load(fp, Loader=yaml.Loader)"
   ],
   "metadata": {
    "collapsed": false,
    "ExecuteTime": {
     "end_time": "2024-02-12T16:00:10.684439721Z",
     "start_time": "2024-02-12T16:00:10.666570428Z"
    }
   }
  },
  {
   "cell_type": "code",
   "execution_count": 4,
   "outputs": [
    {
     "name": "stdout",
     "output_type": "stream",
     "text": [
      "K: 2\n",
      "assortative: false\n",
      "end_file: _MTCov\n",
      "files: ../data/input/theta.npz\n",
      "gamma: 0.5\n",
      "initialization: 0\n",
      "out_folder: outputs/\n",
      "out_inference: true\n",
      "rseed: 107261\n"
     ]
    }
   ],
   "source": [
    "# Print the configuration file\n",
    "print(yaml.dump(conf))"
   ],
   "metadata": {
    "collapsed": false,
    "ExecuteTime": {
     "end_time": "2024-02-12T16:00:11.831760279Z",
     "start_time": "2024-02-12T16:00:11.812433601Z"
    }
   }
  },
  {
   "cell_type": "markdown",
   "source": [
    "The previous file shows the parameters actually needed to _run_ the model. These parameters set the algorithms basic needs to work.  \n",
    "\n",
    " "
   ],
   "metadata": {
    "collapsed": false
   }
  },
  {
   "cell_type": "markdown",
   "source": [
    "Now, let's change the path to the output folder, so we can save the results into the same folder where this notebook is. "
   ],
   "metadata": {
    "collapsed": false
   }
  },
  {
   "cell_type": "code",
   "execution_count": 9,
   "outputs": [],
   "source": [
    "# Set the output folder for the 'MTCov' algorithm\n",
    "# The output folder is set to the current directory, with \n",
    "# the folder name being the algorithm name followed by '_output/'\n",
    "conf['out_folder'] = './tutorial_outputs/' + algorithm\n",
    "\n",
    "# Set the end file for the 'MTCov' algorithm\n",
    "# The end file is set to be '_' followed by the algorithm name\n",
    "conf['end_file'] = '_' + algorithm"
   ],
   "metadata": {
    "collapsed": false,
    "ExecuteTime": {
     "end_time": "2024-02-12T16:00:50.793816661Z",
     "start_time": "2024-02-12T16:00:50.487324073Z"
    }
   }
  },
  {
   "cell_type": "code",
   "execution_count": 10,
   "outputs": [],
   "source": [
    "# Define the output folder\n",
    "out_folder = Path(conf['out_folder'])\n",
    "\n",
    "# Ensure the output folder exists\n",
    "out_folder.mkdir(parents=True, exist_ok=True)"
   ],
   "metadata": {
    "collapsed": false,
    "ExecuteTime": {
     "end_time": "2024-02-12T16:00:51.875438706Z",
     "start_time": "2024-02-12T16:00:51.821255299Z"
    }
   }
  },
  {
   "cell_type": "markdown",
   "source": [
    "Finally, let's save this configuration file to the output folder, so we can keep track of the parameters used to run the model."
   ],
   "metadata": {
    "collapsed": false
   }
  },
  {
   "cell_type": "code",
   "execution_count": 11,
   "outputs": [],
   "source": [
    "# Define the path for the output configuration file\n",
    "# The output configuration file is located in the output folder for \n",
    "# the 'MTCov' algorithm.\n",
    "# The file name is 'setting_' followed by the algorithm name with \n",
    "# a '.yaml' extension.\n",
    "output_config_path = conf['out_folder'] + '/setting_' + algorithm + '.yaml'\n",
    "\n",
    "# Open the output configuration file in write mode\n",
    "with open(output_config_path, 'w') as f:\n",
    "    # Write the contents of the 'conf' dictionary to the file\n",
    "    # The 'dump' function from the 'yaml' module is used to convert \n",
    "    # the data from a Python dictionary into a YAML formatted string.\n",
    "    # The 'f' argument specifies the file object where the \n",
    "    # data should be written.\n",
    "    yaml.dump(conf, f)"
   ],
   "metadata": {
    "collapsed": false,
    "ExecuteTime": {
     "end_time": "2024-02-12T16:00:54.852715637Z",
     "start_time": "2024-02-12T16:00:54.844178595Z"
    }
   }
  },
  {
   "cell_type": "markdown",
   "source": [
    "## Importing Data\n",
    "Once the configuration file is set, we can import the data. \n",
    "Now, let's import the data using the `pgm` package:"
   ],
   "metadata": {
    "collapsed": false
   }
  },
  {
   "cell_type": "code",
   "execution_count": 14,
   "outputs": [
    {
     "name": "stdout",
     "output_type": "stream",
     "text": [
      "\n",
      "Adjacency shape: (4037, 6)\n",
      "Indiv shape:  (300, 3)\n",
      "Creating the network ... Removing self loops\n",
      "\n",
      "Number of nodes = 300\n",
      "Number of layers = 4\n",
      "Number of edges and average degree in each layer:\n",
      "E[0] = 1294 - <k> = 8.627\n",
      "Sparsity [0] = 0.014\n",
      "Reciprocity (networkX) = 0.028\n",
      "Reciprocity (intended as the proportion of bi-directional edges over the unordered pairs) = 0.014\n",
      "\n",
      "E[1] = 1340 - <k> = 8.933\n",
      "Sparsity [1] = 0.015\n",
      "Reciprocity (networkX) = 0.021\n",
      "Reciprocity (intended as the proportion of bi-directional edges over the unordered pairs) = 0.011\n",
      "\n",
      "E[2] = 724 - <k> = 4.827\n",
      "Sparsity [2] = 0.008\n",
      "Reciprocity (networkX) = 0.03\n",
      "Reciprocity (intended as the proportion of bi-directional edges over the unordered pairs) = 0.015\n",
      "\n",
      "E[3] = 742 - <k> = 4.947\n",
      "Sparsity [3] = 0.008\n",
      "Reciprocity (networkX) = 0.003\n",
      "Reciprocity (intended as the proportion of bi-directional edges over the unordered pairs) = 0.001\n",
      "\n",
      "Design matrix shape:  (300, 2)\n",
      "Distribution of attribute Metadata: \n",
      "Meta0    143\n",
      "Meta1    157\n",
      "dtype: int64\n"
     ]
    }
   ],
   "source": [
    "from pgm.input.loader import import_data_mtcov\n",
    "\n",
    "# Define the names of the columns in the input file that \n",
    "# represent the source and target nodes of each edge\n",
    "ego = 'source'\n",
    "alter = 'target'\n",
    "egoX = 'Name'\n",
    "\n",
    "# Set the 'force_dense' flag to False\n",
    "# This flag determines whether the adjacency matrices \n",
    "# should be stored as dense matrices.\n",
    "# If set to False, the adjacency matrices will be stored \n",
    "# as sparse matrices, which is more memory-efficient \n",
    "# for large networks with few edges.\n",
    "force_dense = False\n",
    "\n",
    "# Get the absolute path of the root directory of the project\n",
    "root_dir = Path.cwd().parent.parent.parent.resolve()\n",
    "\n",
    "# Define the path to the input folder\n",
    "in_folder = root_dir / 'pgm/data/input/'\n",
    "\n",
    "# Define the name of the input file\n",
    "adj_name = Path('adj.csv')\n",
    "\n",
    "# Define the name of the covariates file\n",
    "cov_name = 'X.csv'\n",
    "\n",
    "# Define the attribute names\n",
    "attr_name = 'Metadata'\n",
    "\n",
    "# Signal if the network is undirected\n",
    "undirected = False\n",
    "\n",
    "# Call the 'import_data_mtcov' function to load the data from the input file\n",
    "# The function takes several arguments:\n",
    "# - in_folder: the path to the data\n",
    "# - adj_name: the name of the file where the adjacency matrix\n",
    "# - cov_name: the name of the file where the covariates are stored\n",
    "# - ego: the name of the column that references the node in one extreme of the directed edge\n",
    "# - alter: the name of the column that references the other node\n",
    "# - attr_name: name of the attribute to consider in the analysis\n",
    "# - undirected: the flag that signals if the network is directed\n",
    "# - force_dense: if set to True, the algorithm is forced to consider a dense adjacency tensor.\n",
    "# - noselfloop : if set to True, the algorithm removes the self-loops.\n",
    "# - verbose : Flag to print details.\n",
    "\n",
    "A, B, X, nodes = import_data_mtcov(in_folder,\n",
    "                                       adj_name=Path(adj_name),\n",
    "                                       cov_name=Path(cov_name),\n",
    "                                       ego=ego,\n",
    "                                       alter=alter,\n",
    "                                       egoX=egoX,\n",
    "                                       attr_name=attr_name,\n",
    "                                       undirected=undirected,\n",
    "                                       force_dense=force_dense,\n",
    "                                       noselfloop=True,\n",
    "                                       verbose=True)"
   ],
   "metadata": {
    "collapsed": false,
    "ExecuteTime": {
     "end_time": "2024-02-12T16:01:18.248787319Z",
     "start_time": "2024-02-12T16:01:17.654039083Z"
    }
   }
  },
  {
   "cell_type": "markdown",
   "source": [
    "The previous call to `import_data_mtcov` loads the data from the input folder, and returns the \n",
    "following:\n",
    "\n",
    "- `A`: a list of MultiGraph (or MultiDiGraph if undirected=False) NetworkX objects.\n",
    "- `B`: the adjacency tensor describing the graphs in `A`. \n",
    "- `X`: a pandas DataFrame object representing the one-hot encoding version of the design matrix.\n",
    "- `nodes`: a list of the nodes in the graph.\n",
    "    "
   ],
   "metadata": {
    "collapsed": false
   }
  },
  {
   "cell_type": "markdown",
   "source": [
    "The basic statistics related to the data have been shown after importing them. But if we are interested in seeing them again, we can compute them using the `statistics` module:"
   ],
   "metadata": {
    "collapsed": false
   }
  },
  {
   "cell_type": "code",
   "execution_count": 15,
   "outputs": [
    {
     "name": "stdout",
     "output_type": "stream",
     "text": [
      "Number of edges and average degree in each layer:\n",
      "E[0] = 1294 - <k> = 8.627\n",
      "Sparsity [0] = 0.014\n",
      "Reciprocity (networkX) = 0.028\n",
      "Reciprocity (intended as the proportion of bi-directional edges over the unordered pairs) = 0.014\n",
      "\n",
      "E[1] = 1340 - <k> = 8.933\n",
      "Sparsity [1] = 0.015\n",
      "Reciprocity (networkX) = 0.021\n",
      "Reciprocity (intended as the proportion of bi-directional edges over the unordered pairs) = 0.011\n",
      "\n",
      "E[2] = 724 - <k> = 4.827\n",
      "Sparsity [2] = 0.008\n",
      "Reciprocity (networkX) = 0.03\n",
      "Reciprocity (intended as the proportion of bi-directional edges over the unordered pairs) = 0.015\n",
      "\n",
      "E[3] = 742 - <k> = 4.947\n",
      "Sparsity [3] = 0.008\n",
      "Reciprocity (networkX) = 0.003\n",
      "Reciprocity (intended as the proportion of bi-directional edges over the unordered pairs) = 0.001\n"
     ]
    }
   ],
   "source": [
    "from pgm.input.stats import print_graph_stat\n",
    "\n",
    "# Call the 'print_graph_stat' function to print the basic \n",
    "# statistics of the graphs in the list 'A'.\n",
    "# The function takes two arguments:\n",
    "# - A list of NetworkX graphs ('A')\n",
    "print_graph_stat(A)"
   ],
   "metadata": {
    "collapsed": false,
    "ExecuteTime": {
     "end_time": "2024-02-12T16:01:24.032437883Z",
     "start_time": "2024-02-12T16:01:23.941888273Z"
    }
   }
  },
  {
   "cell_type": "code",
   "outputs": [],
   "source": [
    "import networkx as nx\n",
    "\n",
    "# Get the first graph\n",
    "graph = A[0] \n",
    "\n",
    "# Get the adjacency matrix\n",
    "adjacency_matrix = nx.adjacency_matrix(graph)"
   ],
   "metadata": {
    "collapsed": false,
    "ExecuteTime": {
     "end_time": "2024-02-12T16:01:25.450279794Z",
     "start_time": "2024-02-12T16:01:25.429559895Z"
    }
   },
   "execution_count": 16
  },
  {
   "cell_type": "code",
   "execution_count": 17,
   "outputs": [
    {
     "data": {
      "text/plain": "<matplotlib.colorbar.Colorbar at 0x7fc92b473d30>"
     },
     "execution_count": 17,
     "metadata": {},
     "output_type": "execute_result"
    },
    {
     "data": {
      "text/plain": "<Figure size 640x480 with 2 Axes>",
      "image/png": "[encoded data removed]"
     },
     "metadata": {},
     "output_type": "display_data"
    }
   ],
   "source": [
    "# Import the 'pyplot' module from 'matplotlib' for creating \n",
    "# static, animated, and interactive visualizations in Python.\n",
    "import matplotlib.pyplot as plt\n",
    "\n",
    "# Display the reshaped adjacency matrix 'B_reshaped' as an image.\n",
    "# The 'imshow' function from the 'pyplot' module is used to \n",
    "# display data as an image.\n",
    "# The 'cmap' argument specifies the colormap to use for the image.\n",
    "# The 'interpolation' argument specifies the interpolation method\n",
    "# to use when resizing the image.\n",
    "plt.imshow(adjacency_matrix.toarray(), cmap='Greys', interpolation='none')\n",
    "\n",
    "# Add a color bar to the plot for reference.\n",
    "# The colors in the color bar correspond to the values in the image:\n",
    "# black for 1, meaning no connection, and white for 0, meaning a connection.\n",
    "plt.colorbar()"
   ],
   "metadata": {
    "collapsed": false,
    "ExecuteTime": {
     "end_time": "2024-02-12T16:01:26.233607010Z",
     "start_time": "2024-02-12T16:01:25.696517757Z"
    }
   }
  },
  {
   "cell_type": "markdown",
   "source": [
    "As we can see in the matrix, the network is not fully connected, i.e., there are nodes that are not \n",
    "connected to any other node. This is a common characteristic of real-world networks. More \n",
    "importantly, we can see that the network has two main clusters of nodes, which are the \n",
    "communities that the _MTCov_ algorithm will try to detect."
   ],
   "metadata": {
    "collapsed": false
   }
  },
  {
   "cell_type": "markdown",
   "source": [
    "## Running the Model\n",
    "Finally, we are ready to run the _MTCov_ model! The way this works is in a two-step process: first, \n",
    "we called the `MTCov` class, which initializes the model. Then, we call the `fit` method, which \n",
    "runs the algorithm. "
   ],
   "metadata": {
    "collapsed": false
   }
  },
  {
   "cell_type": "code",
   "execution_count": 18,
   "outputs": [
    {
     "name": "stdout",
     "output_type": "stream",
     "text": [
      "{'inf': 10000000000.0, 'err_max': 1e-07, 'err': 0.1, 'num_realizations': 1, 'convergence_tol': 0.0001, 'decision': 10, 'max_iter': 500, 'verbose': True, 'plot_loglik': False, 'flag_conv': 'log'}\n"
     ]
    }
   ],
   "source": [
    "# Import the 'MTCov' class from the 'pgm.model.mtcov' module\n",
    "# This class is used to create an instance of the 'MTCov' algorithm\n",
    "from pgm.model.mtcov import MTCov\n",
    "\n",
    "# Import the 'time' module\n",
    "# This module provides various time-related functions\n",
    "import time\n",
    "\n",
    "# Create an instance of the 'MTCov' class\n",
    "# The 'MTCov' class takes no arguments\n",
    "model = MTCov(verbose=True)\n",
    "\n",
    "# Print all the attributes of the 'MTCov' instance\n",
    "# The '__dict__' attribute of an object is a dictionary containing \n",
    "# the object's attributes.\n",
    "print(model.__dict__)"
   ],
   "metadata": {
    "collapsed": false,
    "ExecuteTime": {
     "end_time": "2024-02-12T16:01:28.954011448Z",
     "start_time": "2024-02-12T16:01:28.602806430Z"
    }
   }
  },
  {
   "cell_type": "markdown",
   "source": [
    "Model created! Now, we can run the model using the `fit` method. As mentioned before, this method takes as input the data, and the configuration parameters."
   ],
   "metadata": {
    "collapsed": false
   }
  },
  {
   "cell_type": "code",
   "execution_count": 19,
   "outputs": [
    {
     "name": "stdout",
     "output_type": "stream",
     "text": [
      "\n",
      "### Run MTCov ###\n",
      "batch_size: None\n",
      "\n",
      "U, V, W and beta are initialized randomly.\n",
      "Updating realization 0 ... Nreal = 0 - Loglikelihood = -10085.204797093524 - iterations = 291 - time = 0.92 seconds\n",
      "\n",
      "Inferred parameters saved in: /home/dtheuerkauf/software-workshop/prob-gen-model-for-nets/doc/source/tutorials/tutorial_outputs/MTCov/theta_MTCov.npz\n",
      "To load: theta=np.load(filename), then e.g. theta[\"u\"]\n",
      "\n",
      "Time elapsed: 0.93 seconds.\n"
     ]
    }
   ],
   "source": [
    "# Print a message indicating the start of the 'MTCov' algorithm\n",
    "print(f'\\n### Run {algorithm} ###')\n",
    "\n",
    "# Get the current time\n",
    "time_start = time.time()\n",
    "\n",
    "# Run the 'MTCov' model\n",
    "# The 'fit' method of the 'MTCov' class takes several arguments:\n",
    "# - B: the adjacency tensor.\n",
    "# - X: the covariate matrix.\n",
    "# - nodes: the list of nodes in the graph.\n",
    "\n",
    "_ = model.fit(\n",
    "        data=B,\n",
    "        data_X=np.array(X),\n",
    "        nodes=nodes,\n",
    "        **conf)\n",
    "\n",
    "# Print the time elapsed since the start of the 'MTCov' algorithm\n",
    "print(f'\\nTime elapsed: {np.round(time.time() - time_start, 2)} seconds.')"
   ],
   "metadata": {
    "collapsed": false,
    "ExecuteTime": {
     "end_time": "2024-02-12T16:01:32.760143617Z",
     "start_time": "2024-02-12T16:01:31.832496730Z"
    }
   }
  },
  {
   "cell_type": "markdown",
   "source": [
    "Done! As we can see, the algorithm has converged after 291 iterations. The final state of the \n",
    "model is not returned, but it is saved to the output folder."
   ],
   "metadata": {
    "collapsed": false
   }
  },
  {
   "cell_type": "markdown",
   "source": [
    "## Analyzing the results\n",
    "Next, we will examine the outcomes produced by the model. To do this, it is necessary to load the\n",
    " contents from the file `MTCov_output/theta_MTCov.npz.`"
   ],
   "metadata": {
    "collapsed": false
   }
  },
  {
   "cell_type": "code",
   "execution_count": 21,
   "outputs": [],
   "source": [
    "# Define the path to the file containing the results of the 'MTCov' model\n",
    "# The file is located in the 'MTCov_output' folder and has a '.npz' extension\n",
    "filename = conf['out_folder'] + '/theta_' + algorithm + '.npz'\n",
    "\n",
    "# Load the contents of the file into a dictionary\n",
    "theta = np.load(filename)"
   ],
   "metadata": {
    "collapsed": false,
    "ExecuteTime": {
     "end_time": "2024-02-12T16:01:48.231829171Z",
     "start_time": "2024-02-12T16:01:47.858566863Z"
    }
   }
  },
  {
   "cell_type": "markdown",
   "source": [
    "Once this is done, we can unpack the latent variables as follows:"
   ],
   "metadata": {
    "collapsed": false
   }
  },
  {
   "cell_type": "code",
   "execution_count": 22,
   "outputs": [],
   "source": [
    "# Unpack the latent variables from the results of the 'MTCov' model\n",
    "# The 'u' variable represents the in-coming memberships of the \n",
    "# nodes in the graph.\n",
    "# The 'v' variable represents the out-going memberships of the \n",
    "# nodes in the graph.\n",
    "# The 'w' variable represents the community strengths.\n",
    "# The 'eta' variable represents the reciprocity coefficient.\n",
    "u, v, w, beta = theta['u'], theta['v'], theta['w'], theta['beta']"
   ],
   "metadata": {
    "collapsed": false,
    "ExecuteTime": {
     "end_time": "2024-02-12T16:01:50.359469771Z",
     "start_time": "2024-02-12T16:01:50.339836347Z"
    }
   }
  },
  {
   "cell_type": "markdown",
   "source": [
    "As outlined in [1], the variables _u_ and _v_ characterize the in-coming and out-going \n",
    "memberships of the nodes in the graph. In this specific demonstration, it's important to recall \n",
    "that we configured the model parameter _K_, representing the number of communities, to be 2. Consequently, by examining the values of _u_ for each node in _G_, we can ascertain the probability that the respective node belongs to either the first, second, or third community."
   ],
   "metadata": {
    "collapsed": false
   }
  },
  {
   "cell_type": "code",
   "execution_count": 23,
   "outputs": [
    {
     "name": "stdout",
     "output_type": "stream",
     "text": [
      "The probability that the node 0 belongs to one of the communities is given as [0.00163062 0.99836938]\n",
      "The probability that the node 1 belongs to one of the communities is given as [0. 1.]\n",
      "The probability that the node 2 belongs to one of the communities is given as [0. 1.]\n",
      "The probability that the node 3 belongs to one of the communities is given as [0. 1.]\n",
      "The probability that the node 4 belongs to one of the communities is given as [0. 1.]\n",
      "The probability that the node 5 belongs to one of the communities is given as [0.06063502 0.93936498]\n",
      "The probability that the node 6 belongs to one of the communities is given as [0. 1.]\n",
      "The probability that the node 7 belongs to one of the communities is given as [0. 1.]\n",
      "The probability that the node 8 belongs to one of the communities is given as [0.06281463 0.93718537]\n",
      "The probability that the node 9 belongs to one of the communities is given as [0. 1.]\n"
     ]
    }
   ],
   "source": [
    "# Iterate over the first 10 nodes in the graph\n",
    "for idx, values in enumerate(u[:10]):  # Only for the 10 first nodes\n",
    "    # Print the probability that the node belongs to one of the communities\n",
    "    print(f'The probability that the node {idx} belongs to one of the communities is given as {values}')"
   ],
   "metadata": {
    "collapsed": false,
    "ExecuteTime": {
     "end_time": "2024-02-12T16:01:51.489428718Z",
     "start_time": "2024-02-12T16:01:51.483594566Z"
    }
   }
  },
  {
   "cell_type": "markdown",
   "source": [
    "To visualize the hard membership for the in-coming case, we can assign each node to the community with the highest probability in u. We can then print the community assignments for the first 10 nodes."
   ],
   "metadata": {
    "collapsed": false
   }
  },
  {
   "cell_type": "code",
   "outputs": [
    {
     "name": "stdout",
     "output_type": "stream",
     "text": [
      "Some nodes in community 1:\n",
      "[150 151 152 153 154 155 156 157 158 159]\n",
      "\n",
      "Some nodes in community 2:\n",
      "[0 1 2 3 4 5 6 7 8 9]\n"
     ]
    }
   ],
   "source": [
    "# Calculate the hard membership for the in-coming case\n",
    "u_hard = np.argmax(u, axis=1)\n",
    "\n",
    "# Get the indices of nodes in community 1 and community 2\n",
    "community1_nodes = np.where(u_hard == 0)[0]  # Community 1 corresponds to index 0\n",
    "community2_nodes = np.where(u_hard == 1)[0]  # Community 2 corresponds to index 1\n",
    "\n",
    "# Print some nodes from community 1\n",
    "print(\"Some nodes in community 1:\")\n",
    "print(community1_nodes[:10])\n",
    "\n",
    "# Print some nodes from community 2\n",
    "print(\"\\nSome nodes in community 2:\")\n",
    "print(community2_nodes[0:10])"
   ],
   "metadata": {
    "collapsed": false,
    "ExecuteTime": {
     "end_time": "2024-02-12T16:01:53.508379478Z",
     "start_time": "2024-02-12T16:01:53.503720219Z"
    }
   },
   "execution_count": 24
  },
  {
   "cell_type": "markdown",
   "source": [
    "We have learned this way to assign each node to a community, using the results given by the \n",
    "`MTCov`alorithm. For a more graphical apporach, we invite the reader to see the tutorial on the \n",
    "[`JointCRep` algorithm](./JointCRep.ipynb), where we show how to plot the communities in the \n",
    "network. For a tutorial on how to generate networks that follow a particular probabilist model, \n",
    "please check the notebook [`CRep` algorithm](./CRep.ipynb).\n",
    "\n",
    "For more details about the meaning of the latent variables, we refer the user to the publication [1]. \n",
    "\n",
    "## Summary\n",
    "\n",
    "The tutorial provides a comprehensive guide on using the Probabilistic Generative Models for \n",
    "Network Analysis (`pgm`) package, specifically focusing on the `MTCov` algorithm. The `MTCov` \n",
    "algorithm is a probabilistic generative model used for network analysis, designed to detect \n",
    "communities within a multilayer network where node properties are considered.\n",
    "\n",
    "The tutorial begins by explaining the structure of the `pgm` package, which is organized into four main modules: `input`, `model`, `output`, and `data`. Each module has its own submodules and functionalities.\n",
    "\n",
    "The tutorial then proceeds to demonstrate how to configure the `MTCov` algorithm using a YAML \n",
    "configuration file. It shows how to load the configuration file, modify the output folder path, and save the updated configuration.\n",
    "\n",
    "Next, the tutorial guides the user on how to import data using the `pgm` package. It demonstrates how to load data from an input file and print basic statistics of the loaded data. It also shows how to visualize the adjacency matrix of the network.\n",
    "\n",
    "The tutorial then explains how to run the `MTCov` model. It demonstrates how to create an \n",
    "instance of the `MTCov` class and run the model using the `fit` method.\n",
    "\n",
    "Finally, the tutorial shows how to analyze the results produced by the model. It explains how to load the results from a file, unpack the latent variables, and calculate the hard membership for the in-coming case. It concludes by referring the user to a publication for more details about the meaning of the latent variables.\n",
    "\n",
    "## References\n",
    "\n",
    "[1] Contisciani, M., Power, E. A., & De Bacco, C. (2020). Community detection with node \n",
    "attributes in multilayer networks. _Scientific reports_, 10(1), 15736."
   ],
   "metadata": {
    "collapsed": false
   }
  },
  {
   "cell_type": "code",
   "outputs": [],
   "source": [],
   "metadata": {
    "collapsed": false
   }
  }
 ],
 "metadata": {
  "kernelspec": {
   "display_name": "Python 3",
   "language": "python",
   "name": "python3"
  },
  "language_info": {
   "codemirror_mode": {
    "name": "ipython",
    "version": 2
   },
   "file_extension": ".py",
   "mimetype": "text/x-python",
   "name": "python",
   "nbconvert_exporter": "python",
   "pygments_lexer": "ipython2",
   "version": "2.7.6"
  }
 },
 "nbformat": 4,
 "nbformat_minor": 0
}
