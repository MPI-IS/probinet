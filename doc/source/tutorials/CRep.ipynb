{
 "cells": [
  {
   "cell_type": "markdown",
   "source": [
    "# Tutorial: A Beginner's Guide to Probabilistic Generative Models and the CRep Algorithm\n",
    "\n",
    "Welcome to this tutorial on using the _Probabilistic Generative Models for Network Analysis_ (`pgm`) package. In this tutorial, we'll walk through the process of running the `CRep` algorithm on a sample dataset.\n",
    "\n",
    "The `CRep` algorithm (which name comes from a mix of \"Community and Reciprocity\") is a probabilistic generative model used for network analysis. It is designed to detect communities within a network and quantify the level of reciprocity. Reciprocity, in this context, refers to the tendency of node pairs to form mutual connections."
   ],
   "metadata": {
    "collapsed": false
   }
  },
  {
   "cell_type": "markdown",
   "source": [
    "## Package Structure\n",
    "Before delving into the usage of the _CRep_ algorithm, let's explore the structure of the `pgm` package, which is organized into four main modules:\n",
    "\n",
    "### 1. Input\n",
    "The `input` module handles data input for subsequent use by the algorithms in the `model` module. It comprises the following submodules:  \n",
    "\n",
    "- `loader`: Functions to load data from input files.  \n",
    "- `preprocessing`: Functions for data preprocessing, such as converting NetworkX graphs to sparse adjacency matrices.  \n",
    "- `tools`: Utility functions for working with matrices, tensors, and sparsity.  \n",
    "- `stats`: Functions for computing statistics on the data.  \n",
    "- `generate_networks`: Functions for generating synthetic networks.  \n",
    "\n",
    "In most cases where users have their own data, they typically use only the `loader` and `preprocessing` modules. The other modules serve as internal components supporting these primary functionalities. The `generate_networks` module is utilized when no data is available, and the user wants to generate synthetic networks.\n",
    "\n",
    "### 2. Model\n",
    "The `model` module encompasses the implementation of various algorithms, including the following submodules:  \n",
    "\n",
    "- `CRep`: Implementation of the `CRep` algorithm.  \n",
    "- `JointCRep`: Implementation of the `JointCRep` algorithm. \n",
    "- `cv_CRep`: Cross-validation for the CRep algorithm.\n",
    "- `cv`: Implementation of the general cross-validation algorithm.  \n",
    "\n",
    "\n",
    "### 3. Output\n",
    "The `output` module contains functions responsible for handling the outputs of the models. It consists of the following submodules:\n",
    "\n",
    "- `evaluate`: Essential functions for model assessment, such as AUC for link prediction, conditional and marginal expectations, and the pseudo log-likelihood of the data.\n",
    "- `plot`: Functions for visualizing the results and performance metrics of the models.\n",
    "\n",
    "### 4. Data\n",
    "The `data` module contains the data files used by the package. It consists of the following submodules:\n",
    "\n",
    "- `input`: Input data files.\n",
    "- `model`: Configuration files for the models."
   ],
   "metadata": {
    "collapsed": false
   }
  },
  {
   "cell_type": "markdown",
   "source": [
    "Having explored the package structure, let's see how to use it to run the `CRep` algorithm."
   ],
   "metadata": {
    "collapsed": false
   }
  },
  {
   "cell_type": "markdown",
   "source": [
    "## Configuration\n",
    "Let's start by configuring the algorithm and the parameters needed. The pipeline works based on two types of parameters:\n",
    "\n",
    "**Numerical Parameters:** these are operational parameters that control the execution of the algorithm. They are not directly related to the model's theoretical framework but are crucial for its practical implementation. Examples include:\n",
    "\n",
    "- **Convergence tolerance:** This is a threshold used to determine when the algorithm has converged, i.e., when the changes in the model's parameters between iterations are small enough to consider the model as having reached its final state.\n",
    "\n",
    "- **Maximum number of iterations:** This is the maximum number of times the algorithm will update the model's parameters. If the model hasn't converged by this point, the algorithm will stop anyway.\n",
    "\n",
    "- **Number of realizations:** In the context of the `CRep` algorithm, this refers to the number of times the entire process (initialization and iterative updates) is repeated. This is done to account for the randomness in the initialization step and to ensure a more robust final model. \n",
    "\n",
    "These are set by default in the model's class definition, but they can be changed by the user.\n",
    "\n",
    "**Model parameters:**  These are parameters that are part of the model's theoretical framework. They have a direct impact on the model's behavior and the results it produces. Examples include:\n",
    "\n",
    "- **Number of communities (K)**: This is a fundamental parameter of the `CRep` algorithm. It determines the number of communities the algorithm will try to find in the network. Each node in the network will be assigned to one of these communities, at least.\n",
    "\n",
    "- **Reciprocity coefficient (eta)**: This is another fundamental parameter of the `CRep` algorithm. It quantifies the level of reciprocity in the network, i.e., the tendency of node pairs to form mutual connections.\n",
    "\n",
    "These are set by the user in the configuration file corresponding to the used model. In the case of the `CRep` algorithm, this file is `setting_CRep.yaml`.  \n",
    "\n",
    "Notice that the data is not a parameter, but an input to the algorithm, hence, it is not included in the default configuration of the class nor in the configuration file. This will be shown later in the tutorial."
   ],
   "metadata": {
    "collapsed": false
   }
  },
  {
   "cell_type": "code",
   "execution_count": 1,
   "outputs": [],
   "source": [
    "from pathlib import Path\n",
    "\n",
    "import numpy as np\n",
    "import yaml"
   ],
   "metadata": {
    "collapsed": false,
    "ExecuteTime": {
     "end_time": "2024-01-31T15:42:54.723616575Z",
     "start_time": "2024-01-31T15:42:54.163417247Z"
    }
   }
  },
  {
   "cell_type": "markdown",
   "source": [
    "Let's start by loading the configuration file for the _CRep_ algorithm. This file is located in the `pgm/data/model` folder. "
   ],
   "metadata": {
    "collapsed": false
   }
  },
  {
   "cell_type": "code",
   "execution_count": 2,
   "outputs": [],
   "source": [
    "# Set the algorithm to 'CRep'\n",
    "algorithm = 'CRep'\n",
    "\n",
    "# Define the path to the configuration file for the 'CRep' algorithm\n",
    "config_path = 'setting_' + algorithm + '.yaml'"
   ],
   "metadata": {
    "collapsed": false,
    "ExecuteTime": {
     "end_time": "2024-01-31T15:42:54.908556268Z",
     "start_time": "2024-01-31T15:42:54.501315016Z"
    }
   }
  },
  {
   "cell_type": "markdown",
   "source": [
    "We load the configuration file using the data files in the `pgm` package instead of a relative path to it:"
   ],
   "metadata": {
    "collapsed": false
   }
  },
  {
   "cell_type": "code",
   "execution_count": 4,
   "outputs": [],
   "source": [
    "# Import the 'open_binary' function from the 'importlib.resources' module\n",
    "# This function is used to open a binary file included in a package\n",
    "from importlib.resources import open_binary\n",
    "\n",
    "# Open the configuration file for the 'CRep' algorithm\n",
    "# The 'open_binary' function takes two arguments:\n",
    "# - The name of the package where the file is located ('pgm.data.model')\n",
    "# - The name of the file to open ('config_path')\n",
    "# The function returns a binary file object, which is opened in read mode\n",
    "with open_binary('pgm.data.model', config_path) as fp:\n",
    "    # Load the contents of the configuration file into a dictionary\n",
    "    # The 'load' function from the 'yaml' module is used to \n",
    "    # convert the data from a YAML formatted string into a Python dictionary.\n",
    "    # The 'Loader=yaml.Loader' argument specifies the loader class to use for \n",
    "    # loading the data.\n",
    "    conf = yaml.load(fp, Loader=yaml.Loader)"
   ],
   "metadata": {
    "collapsed": false,
    "ExecuteTime": {
     "end_time": "2024-01-31T15:42:55.277086458Z",
     "start_time": "2024-01-31T15:42:54.817922138Z"
    }
   }
  },
  {
   "cell_type": "code",
   "execution_count": 5,
   "outputs": [
    {
     "name": "stdout",
     "output_type": "stream",
     "text": [
      "K: 3\n",
      "assortative: true\n",
      "constrained: true\n",
      "end_file: _test\n",
      "eta0: null\n",
      "files: config/data/input/theta_gt111.npz\n",
      "fix_eta: false\n",
      "initialization: 0\n",
      "out_folder: outputs/\n",
      "out_inference: true\n",
      "rseed: 0\n",
      "undirected: false\n"
     ]
    }
   ],
   "source": [
    "# Print the configuration file\n",
    "print(yaml.dump(conf))"
   ],
   "metadata": {
    "collapsed": false,
    "ExecuteTime": {
     "end_time": "2024-01-31T15:42:55.639325599Z",
     "start_time": "2024-01-31T15:42:55.231055421Z"
    }
   }
  },
  {
   "cell_type": "markdown",
   "source": [
    "The previous file shows the parameters actually needed to _run_ the model. These parameters set the algorithms basic needs to work.  \n",
    "\n",
    " "
   ],
   "metadata": {
    "collapsed": false
   }
  },
  {
   "cell_type": "markdown",
   "source": [
    "Now, let's change the path to the output folder, so we can save the results into the same folder where this notebook is. "
   ],
   "metadata": {
    "collapsed": false
   }
  },
  {
   "cell_type": "code",
   "execution_count": 6,
   "outputs": [],
   "source": [
    "# Set the output folder for the 'CRep' algorithm\n",
    "# The output folder is set to the current directory, with \n",
    "# the folder name being the algorithm name followed by '_output/'\n",
    "conf['out_folder'] = './' + algorithm + '_output/'\n",
    "\n",
    "# Set the end file for the 'CRep' algorithm\n",
    "# The end file is set to be '_' followed by the algorithm name\n",
    "conf['end_file'] = '_' + algorithm"
   ],
   "metadata": {
    "collapsed": false,
    "ExecuteTime": {
     "end_time": "2024-01-31T15:42:59.084403657Z",
     "start_time": "2024-01-31T15:42:58.693799630Z"
    }
   }
  },
  {
   "cell_type": "code",
   "execution_count": 7,
   "outputs": [],
   "source": [
    "# Define the output folder\n",
    "out_folder = Path(conf['out_folder'])\n",
    "\n",
    "# Ensure the output folder exists\n",
    "out_folder.mkdir(parents=True, exist_ok=True)"
   ],
   "metadata": {
    "collapsed": false,
    "ExecuteTime": {
     "end_time": "2024-01-31T15:43:00.580860602Z",
     "start_time": "2024-01-31T15:42:59.836759600Z"
    }
   }
  },
  {
   "cell_type": "markdown",
   "source": [
    "Finally, let's save this configuration file to the output folder, so we can keep track of the parameters used to run the model."
   ],
   "metadata": {
    "collapsed": false
   }
  },
  {
   "cell_type": "code",
   "execution_count": 8,
   "outputs": [],
   "source": [
    "# Define the path for the output configuration file\n",
    "# The output configuration file is located in the output folder for \n",
    "# the 'CRep' algorithm.\n",
    "# The file name is 'setting_' followed by the algorithm name with \n",
    "# a '.yaml' extension.\n",
    "output_config_path = conf['out_folder'] + '/setting_' + algorithm + '.yaml'\n",
    "\n",
    "# Open the output configuration file in write mode\n",
    "with open(output_config_path, 'w') as f:\n",
    "    # Write the contents of the 'conf' dictionary to the file\n",
    "    # The 'dump' function from the 'yaml' module is used to convert \n",
    "    # the data from a Python dictionary into a YAML formatted string.\n",
    "    # The 'f' argument specifies the file object where the \n",
    "    # data should be written.\n",
    "    yaml.dump(conf, f)"
   ],
   "metadata": {
    "collapsed": false,
    "ExecuteTime": {
     "end_time": "2024-01-31T15:43:05.515481443Z",
     "start_time": "2024-01-31T15:43:04.567470810Z"
    }
   }
  },
  {
   "cell_type": "markdown",
   "source": [
    "## Importing Data\n",
    "Once the configuration file is set, we can import the data. \n",
    "Now, let's import the data using the `pgm` package:"
   ],
   "metadata": {
    "collapsed": false
   }
  },
  {
   "cell_type": "code",
   "execution_count": 9,
   "outputs": [
    {
     "name": "stdout",
     "output_type": "stream",
     "text": [
      "/home/dtheuerkauf/software-workshop/prob-gen-model-for-nets/pgm/data/input/syn111.dat shape: (5512, 3)\n",
      "Creating the network ... Removing self loops\n",
      "\n",
      "Number of nodes = 600\n",
      "Number of layers = 1\n",
      "Number of edges and average degree in each layer:\n",
      "E[0] = 5512 - <k> = 18.373\n",
      "Sparsity [0] = 0.015\n",
      "Reciprocity (networkX) = 0.423\n",
      "Reciprocity (intended as the proportion of bi-directional edges over the unordered pairs) = 0.268\n",
      "\n",
      "Reciprocity (considering the weights of the edges) = 0.423\n"
     ]
    }
   ],
   "source": [
    "from pgm.input.loader import import_data\n",
    "\n",
    "# Define the names of the columns in the input file that \n",
    "# represent the source and target nodes of each edge\n",
    "ego = 'source'\n",
    "alter = 'target'\n",
    "\n",
    "# Set the 'force_dense' flag to False\n",
    "# This flag determines whether the adjacency matrices \n",
    "# should be stored as dense matrices.\n",
    "# If set to False, the adjacency matrices will be stored \n",
    "# as sparse matrices, which is more memory-efficient \n",
    "# for large networks with few edges.\n",
    "force_dense = False\n",
    "\n",
    "# Get the absolute path of the root directory of the project\n",
    "root_dir = Path.cwd().parent.parent.parent.resolve()\n",
    "\n",
    "# Define the path to the input folder\n",
    "in_folder = root_dir / 'pgm/data/input/'\n",
    "\n",
    "# Define the name of the input file\n",
    "adj = Path('syn111.dat')\n",
    "\n",
    "# Combine the paths to the input folder and the input file \n",
    "# to get the complete path to the input file.\n",
    "network = in_folder / adj\n",
    "\n",
    "# Call the 'import_data' function to load the data from the input file\n",
    "# The function takes several arguments:\n",
    "# - The path to the input file ('network')\n",
    "# - The names of the columns in the input file that represent the source \n",
    "# and target nodes of each edge ('ego' and 'alter')\n",
    "# - The 'force_dense' flag\n",
    "# - The number of the row in the input file that contains the header (0)\n",
    "A, B, B_T, data_T_vals = import_data(network,\n",
    "                                     ego=ego,\n",
    "                                     alter=alter,\n",
    "                                     force_dense=force_dense,\n",
    "                                     header=0)"
   ],
   "metadata": {
    "collapsed": false,
    "ExecuteTime": {
     "end_time": "2024-01-31T15:43:09.369504694Z",
     "start_time": "2024-01-31T15:43:05.910987086Z"
    }
   }
  },
  {
   "cell_type": "markdown",
   "source": [
    "The previous call to `import_data` loads the data from the input folder, and returns the following:\n",
    "\n",
    "- `A`: A list of NetworkX graphs, where each graph represents a snapshot of the network.  \n",
    "- `B`: A list of (sparse) adjacency matrices, where each matrix represents a snapshot of the network.   \n",
    "- `B_T`: A list of (sparse) adjacency matrices, where each matrix represents a snapshot of the network, but with the rows and columns transposed.  \n",
    "- `data_T_vals`: Array with values of entries `A[j, i]` given non-zero entry `(i, j)`.  "
   ],
   "metadata": {
    "collapsed": false
   }
  },
  {
   "cell_type": "markdown",
   "source": [
    "Notice that `A` is this time consisting of only one graph, since we are using a single network. However, the _CRep_ algorithm can handle multiple networks, and in that case `A` would be a list of graphs."
   ],
   "metadata": {
    "collapsed": false
   }
  },
  {
   "cell_type": "code",
   "execution_count": 9,
   "outputs": [
    {
     "data": {
      "text/plain": "1"
     },
     "execution_count": 9,
     "metadata": {},
     "output_type": "execute_result"
    }
   ],
   "source": [
    "len(A)"
   ],
   "metadata": {
    "collapsed": false,
    "ExecuteTime": {
     "end_time": "2024-01-31T15:43:09.495429073Z",
     "start_time": "2024-01-31T15:43:08.920456945Z"
    }
   }
  },
  {
   "cell_type": "markdown",
   "source": [
    "The basic statistics related to the data have been shown after importing them. But if we are interested in seeing them again, we can compute them using the `statistics` module:"
   ],
   "metadata": {
    "collapsed": false
   }
  },
  {
   "cell_type": "code",
   "execution_count": 10,
   "outputs": [
    {
     "name": "stdout",
     "output_type": "stream",
     "text": [
      "Number of edges and average degree in each layer:\n",
      "E[0] = 5512 - <k> = 18.373\n",
      "Sparsity [0] = 0.015\n",
      "Reciprocity (networkX) = 0.423\n",
      "Reciprocity (intended as the proportion of bi-directional edges over the unordered pairs) = 0.268\n"
     ]
    }
   ],
   "source": [
    "from pgm.input.stats import print_graph_stat\n",
    "\n",
    "# Call the 'print_graph_stat' function to print the basic \n",
    "# statistics of the graphs in the list 'A'.\n",
    "# The function takes two arguments:\n",
    "# - A list of NetworkX graphs ('A')\n",
    "print_graph_stat(A)"
   ],
   "metadata": {
    "collapsed": false,
    "ExecuteTime": {
     "end_time": "2024-01-31T15:43:11.356588223Z",
     "start_time": "2024-01-31T15:43:10.865275756Z"
    }
   }
  },
  {
   "cell_type": "markdown",
   "source": [
    "We can see now that the network has 600 nodes, 5512 edges, average degree of 18.3733, and reciprocity of 0.423. "
   ],
   "metadata": {
    "collapsed": false
   }
  },
  {
   "cell_type": "markdown",
   "source": [
    "Let's take a look at the graph. Since it has a very large number of edges, we will show its adjacency matrix instead:"
   ],
   "metadata": {
    "collapsed": false
   }
  },
  {
   "cell_type": "code",
   "execution_count": 11,
   "outputs": [
    {
     "data": {
      "text/plain": "sktensor.sptensor.sptensor"
     },
     "execution_count": 11,
     "metadata": {},
     "output_type": "execute_result"
    }
   ],
   "source": [
    "type(B)"
   ],
   "metadata": {
    "collapsed": false,
    "ExecuteTime": {
     "end_time": "2024-01-31T15:43:18.481062469Z",
     "start_time": "2024-01-31T15:43:18.035549371Z"
    }
   }
  },
  {
   "cell_type": "code",
   "execution_count": 12,
   "outputs": [],
   "source": [
    "# Convert the sparse adjacency matrix 'B' to a dense array \n",
    "# using the 'toarray' method.\n",
    "# Then, reshape this array into a 2D array with the same \n",
    "# number of rows and columns as the original adjacency matrix.\n",
    "# The 'reshape' method takes two arguments:\n",
    "# - The number of rows in the reshaped array ('B.shape[1]')\n",
    "# - The number of columns in the reshaped array ('B.shape[2]')\n",
    "B_reshaped = B.toarray().reshape(B.shape[1], B.shape[2])"
   ],
   "metadata": {
    "collapsed": false,
    "ExecuteTime": {
     "end_time": "2024-01-31T15:43:24.467068316Z",
     "start_time": "2024-01-31T15:43:23.997309927Z"
    }
   }
  },
  {
   "cell_type": "code",
   "execution_count": 13,
   "outputs": [
    {
     "data": {
      "text/plain": "<matplotlib.colorbar.Colorbar at 0x7f795d9aed10>"
     },
     "execution_count": 13,
     "metadata": {},
     "output_type": "execute_result"
    },
    {
     "data": {
      "text/plain": "<Figure size 640x480 with 2 Axes>",
      "image/png": "[encoded data removed]"
     },
     "metadata": {},
     "output_type": "display_data"
    }
   ],
   "source": [
    "# Import the 'pyplot' module from 'matplotlib' for creating \n",
    "# static, animated, and interactive visualizations in Python.\n",
    "import matplotlib.pyplot as plt\n",
    "\n",
    "# Display the reshaped adjacency matrix 'B_reshaped' as an image.\n",
    "# The 'imshow' function from the 'pyplot' module is used to \n",
    "# display data as an image.\n",
    "# The 'cmap' argument specifies the colormap to use for the image.\n",
    "# The 'interpolation' argument specifies the interpolation method\n",
    "# to use when resizing the image.\n",
    "plt.imshow(B_reshaped, cmap='Greys', interpolation='none')\n",
    "\n",
    "# Add a color bar to the plot for reference.\n",
    "# The colors in the color bar correspond to the values in the image:\n",
    "# black for 1, meaning no connection, and white for 0, meaning a connection.\n",
    "plt.colorbar()"
   ],
   "metadata": {
    "collapsed": false,
    "ExecuteTime": {
     "end_time": "2024-01-31T15:43:26.479545114Z",
     "start_time": "2024-01-31T15:43:24.559112835Z"
    }
   }
  },
  {
   "cell_type": "markdown",
   "source": [
    "As we can in the matrix, the network is not fully connected, i.e., there are nodes that are not connected to any other node. This is a common characteristic of real-world networks. More importantly, we can see that the network has three main clusters of nodes, which are the communities that the _CRep_ algorithm will try to detect."
   ],
   "metadata": {
    "collapsed": false
   }
  },
  {
   "cell_type": "markdown",
   "source": [
    "## Running the Model\n",
    "Finally, we are ready to run the _CRep_ model! The way this works is in a two-step process: first, we called the `CRep` class, which initializes the model. Then, we call the `fit` method, which runs the algorithm. "
   ],
   "metadata": {
    "collapsed": false
   }
  },
  {
   "cell_type": "code",
   "execution_count": 14,
   "outputs": [
    {
     "name": "stdout",
     "output_type": "stream",
     "text": [
      "{'inf': 10000000000.0, 'err_max': 1e-12, 'err': 0.1, 'num_realizations': 5, 'convergence_tol': 0.0001, 'decision': 10, 'max_iter': 1000, 'verbose': True, 'flag_conv': 'log'}\n"
     ]
    }
   ],
   "source": [
    "# Import the 'CRep' class from the 'pgm.model.crep' module\n",
    "# This class is used to create an instance of the 'CRep' algorithm\n",
    "from pgm.model.crep import CRep\n",
    "\n",
    "# Import the 'time' module\n",
    "# This module provides various time-related functions\n",
    "import time\n",
    "\n",
    "# Get the list of nodes from the first graph in the list 'A'\n",
    "# The 'nodes' method from the 'NetworkX' module is used to get \n",
    "# the list of nodes in a graph.\n",
    "nodes = A[0].nodes()\n",
    "\n",
    "# Create an instance of the 'CRep' class\n",
    "# The 'CRep' class takes no arguments\n",
    "model = CRep()\n",
    "\n",
    "# Print all the attributes of the 'CRep' instance\n",
    "# The '__dict__' attribute of an object is a dictionary containing \n",
    "# the object's attributes.\n",
    "print(model.__dict__)"
   ],
   "metadata": {
    "collapsed": false,
    "ExecuteTime": {
     "end_time": "2024-01-31T15:43:27.290834485Z",
     "start_time": "2024-01-31T15:43:26.075228851Z"
    }
   }
  },
  {
   "cell_type": "markdown",
   "source": [
    "Model created! Now, we can run the model using the `fit` method. As mentioned before, this method takes as input the data, and the configuration parameters."
   ],
   "metadata": {
    "collapsed": false
   }
  },
  {
   "cell_type": "code",
   "execution_count": 15,
   "outputs": [
    {
     "name": "stdout",
     "output_type": "stream",
     "text": [
      "\n",
      "### Run CRep ###\n",
      "eta is initialized randomly.\n",
      "u, v and w are initialized randomly.\n",
      "Updating realization 0 ...\n",
      "Nreal = 0 - Pseudo Log-likelihood = -20559.999524667895 - iterations = 100 - time = 0.79 seconds\n",
      "Nreal = 0 - Pseudo Log-likelihood = -20509.785147827915 - iterations = 200 - time = 1.59 seconds\n",
      "Nreal = 0 - Pseudo Log-likelihood = -20501.590021281103 - iterations = 300 - time = 2.47 seconds\n",
      "Nreal = 0 - Pseudo Log-likelihood = -20496.560837053534 - iterations = 400 - time = 3.32 seconds\n",
      "Nreal = 0 - Pseudo Log-likelihood = -20495.342080216105 - iterations = 500 - time = 4.16 seconds\n",
      "Nreal = 0 - Pseudo Log-likelihood = -20495.342484775858 - iterations = 600 - time = 5.04 seconds\n",
      "Nreal = 0 - Pseudo Log-likelihood = -20495.02562960981 - iterations = 700 - time = 5.87 seconds\n",
      "Nreal = 0 - Pseudo Log-likelihood = -20495.025570604696 - iterations = 781 - time = 6.57 seconds\n",
      "\n",
      "eta is initialized randomly.\n",
      "u, v and w are initialized randomly.\n",
      "Updating realization 1 ...\n",
      "Nreal = 1 - Pseudo Log-likelihood = -20978.54607385122 - iterations = 100 - time = 0.89 seconds\n",
      "Nreal = 1 - Pseudo Log-likelihood = -20953.16502742939 - iterations = 200 - time = 1.72 seconds\n",
      "Nreal = 1 - Pseudo Log-likelihood = -20949.42750065819 - iterations = 300 - time = 2.61 seconds\n",
      "Nreal = 1 - Pseudo Log-likelihood = -20947.141648836652 - iterations = 400 - time = 3.48 seconds\n",
      "Nreal = 1 - Pseudo Log-likelihood = -20944.75328031292 - iterations = 500 - time = 4.38 seconds\n",
      "Nreal = 1 - Pseudo Log-likelihood = -20944.7119828598 - iterations = 600 - time = 5.25 seconds\n",
      "Nreal = 1 - Pseudo Log-likelihood = -20944.688915613762 - iterations = 700 - time = 6.1 seconds\n",
      "Nreal = 1 - Pseudo Log-likelihood = -20944.653543882258 - iterations = 800 - time = 6.96 seconds\n",
      "Nreal = 1 - Pseudo Log-likelihood = -20944.652694892484 - iterations = 900 - time = 7.82 seconds\n",
      "Nreal = 1 - Pseudo Log-likelihood = -20944.652692928852 - iterations = 931 - time = 8.12 seconds\n",
      "\n",
      "eta is initialized randomly.\n",
      "u, v and w are initialized randomly.\n",
      "Updating realization 2 ...\n",
      "Nreal = 2 - Pseudo Log-likelihood = -20989.291685836673 - iterations = 100 - time = 0.82 seconds\n",
      "Nreal = 2 - Pseudo Log-likelihood = -20968.316166739998 - iterations = 200 - time = 1.68 seconds\n",
      "Nreal = 2 - Pseudo Log-likelihood = -20959.379952653377 - iterations = 300 - time = 2.48 seconds\n",
      "Nreal = 2 - Pseudo Log-likelihood = -20958.493093566714 - iterations = 400 - time = 3.25 seconds\n",
      "Nreal = 2 - Pseudo Log-likelihood = -20958.493113062785 - iterations = 491 - time = 4.06 seconds\n",
      "\n",
      "eta is initialized randomly.\n",
      "u, v and w are initialized randomly.\n",
      "Updating realization 3 ...\n",
      "Nreal = 3 - Pseudo Log-likelihood = -21561.956895496354 - iterations = 100 - time = 0.79 seconds\n",
      "Nreal = 3 - Pseudo Log-likelihood = -21518.302466560526 - iterations = 200 - time = 1.55 seconds\n",
      "Nreal = 3 - Pseudo Log-likelihood = -21516.19214390663 - iterations = 300 - time = 2.25 seconds\n",
      "Nreal = 3 - Pseudo Log-likelihood = -21512.940543886725 - iterations = 400 - time = 3.08 seconds\n",
      "Nreal = 3 - Pseudo Log-likelihood = -21512.940139417802 - iterations = 500 - time = 3.92 seconds\n",
      "Nreal = 3 - Pseudo Log-likelihood = -21512.940139086033 - iterations = 511 - time = 4.05 seconds\n",
      "\n",
      "eta is initialized randomly.\n",
      "u, v and w are initialized randomly.\n",
      "Updating realization 4 ...\n",
      "Nreal = 4 - Pseudo Log-likelihood = -21625.351890487775 - iterations = 100 - time = 0.83 seconds\n",
      "Nreal = 4 - Pseudo Log-likelihood = -21603.773297318214 - iterations = 200 - time = 1.63 seconds\n",
      "Nreal = 4 - Pseudo Log-likelihood = -21596.848019078716 - iterations = 300 - time = 2.38 seconds\n",
      "Nreal = 4 - Pseudo Log-likelihood = -21593.21545075566 - iterations = 400 - time = 3.21 seconds\n",
      "Nreal = 4 - Pseudo Log-likelihood = -21593.2150341073 - iterations = 500 - time = 4.12 seconds\n",
      "Nreal = 4 - Pseudo Log-likelihood = -21587.425485356627 - iterations = 600 - time = 4.95 seconds\n",
      "Nreal = 4 - Pseudo Log-likelihood = -21587.42537445399 - iterations = 700 - time = 5.83 seconds\n",
      "Nreal = 4 - Pseudo Log-likelihood = -21587.425369006254 - iterations = 701 - time = 5.86 seconds\n",
      "\n",
      "\n",
      "Inferred parameters saved in: /home/dtheuerkauf/software-workshop/prob-gen-model-for-nets/doc/source/tutorials/CRep_output/theta_CRep.npz\n",
      "To load: theta=np.load(filename), then e.g. theta[\"u\"]\n",
      "\n",
      "Time elapsed: 28.67 seconds.\n"
     ]
    }
   ],
   "source": [
    "# Print a message indicating the start of the 'CRep' algorithm\n",
    "print(f'\\n### Run {algorithm} ###')\n",
    "\n",
    "# Get the current time\n",
    "time_start = time.time()\n",
    "\n",
    "# Run the 'CRep' model\n",
    "# The 'fit' method of the 'CRep' class takes several arguments:\n",
    "# - The list of adjacency matrices ('data=B')\n",
    "# - The list of transposed adjacency matrices ('data_T=B_T')\n",
    "# - An array with values of entries 'A[j, i]' given non-zero \n",
    "# entry '(i, j)' ('data_T_vals=data_T_vals')\n",
    "# - The list of nodes in the first graph in the list 'A' ('nodes=nodes')\n",
    "# - The configuration parameters for the 'CRep' algorithm ('**conf')\n",
    "# The method returns the final state of the model, which is \n",
    "# ignored in this case ('_ =')\n",
    "_ = model.fit(data=B,\n",
    "              data_T=B_T,\n",
    "              data_T_vals=data_T_vals,\n",
    "              nodes=nodes,\n",
    "              **conf)\n",
    "\n",
    "# Print the time elapsed since the start of the 'CRep' algorithm\n",
    "print(f'\\nTime elapsed: {np.round(time.time() - time_start, 2)} seconds.')"
   ],
   "metadata": {
    "collapsed": false,
    "ExecuteTime": {
     "end_time": "2024-01-31T15:43:55.710279607Z",
     "start_time": "2024-01-31T15:43:26.857720421Z"
    }
   }
  },
  {
   "cell_type": "markdown",
   "source": [
    "Done! As we can see, the algorithm has converged after 4 realizations (initializations of the parameters). The final state of the model is not returned, but it is saved to the output folder."
   ],
   "metadata": {
    "collapsed": false
   }
  },
  {
   "cell_type": "markdown",
   "source": [
    "## Analyzing the results\n",
    "Next, we will examine the outcomes produced by the model. To do this, it is necessary to load the contents from the file `CRep_output/theta_CRep.npz.`"
   ],
   "metadata": {
    "collapsed": false
   }
  },
  {
   "cell_type": "code",
   "execution_count": 16,
   "outputs": [],
   "source": [
    "# Define the path to the file containing the results of the 'CRep' model\n",
    "# The file is located in the 'CRep_output' folder and has a '.npz' extension\n",
    "filename = Path('./CRep_output/theta_CRep.npz')\n",
    "\n",
    "# Load the contents of the file into a dictionary\n",
    "theta = np.load(filename)"
   ],
   "metadata": {
    "collapsed": false,
    "ExecuteTime": {
     "end_time": "2024-01-31T15:44:13.587389738Z",
     "start_time": "2024-01-31T15:44:13.233378360Z"
    }
   }
  },
  {
   "cell_type": "markdown",
   "source": [
    "Once this is done, we can unpack the latent variables as follows:"
   ],
   "metadata": {
    "collapsed": false
   }
  },
  {
   "cell_type": "code",
   "execution_count": 17,
   "outputs": [],
   "source": [
    "# Unpack the latent variables from the results of the 'CRep' model\n",
    "# The 'u' variable represents the in-coming memberships of the \n",
    "# nodes in the graph.\n",
    "# The 'v' variable represents the out-going memberships of the \n",
    "# nodes in the graph.\n",
    "# The 'w' variable represents the community strengths.\n",
    "# The 'eta' variable represents the reciprocity coefficient.\n",
    "u, v, w, eta = theta['u'], theta['v'], theta['w'], theta['eta']"
   ],
   "metadata": {
    "collapsed": false,
    "ExecuteTime": {
     "end_time": "2024-01-31T15:44:14.788081224Z",
     "start_time": "2024-01-31T15:44:14.456515127Z"
    }
   }
  },
  {
   "cell_type": "markdown",
   "source": [
    "As outlined in [1], the variables _u_ and _v_ characterize the in-coming and out-going memberships of the nodes in the graph. In this specific demonstration, it's important to recall that we configured the model parameter _K_, representing the number of communities, to be 3. Consequently, by examining the values of _u_ for each node in _G_, we can ascertain the probability that the respective node belongs to either the first, second, or third community."
   ],
   "metadata": {
    "collapsed": false
   }
  },
  {
   "cell_type": "code",
   "execution_count": 18,
   "outputs": [
    {
     "name": "stdout",
     "output_type": "stream",
     "text": [
      "The probability that the node 0 belongs to one of the communities is given as [0. 1. 0.]\n",
      "The probability that the node 1 belongs to one of the communities is given as [0.        0.6657008 0.3342992]\n",
      "The probability that the node 2 belongs to one of the communities is given as [0.         0.81439264 0.18560736]\n",
      "The probability that the node 3 belongs to one of the communities is given as [0.18441403 0.81558597 0.        ]\n",
      "The probability that the node 4 belongs to one of the communities is given as [0. 1. 0.]\n",
      "The probability that the node 5 belongs to one of the communities is given as [0.         0.56928782 0.43071218]\n",
      "The probability that the node 6 belongs to one of the communities is given as [0. 1. 0.]\n",
      "The probability that the node 7 belongs to one of the communities is given as [0. 0. 1.]\n",
      "The probability that the node 8 belongs to one of the communities is given as [0. 1. 0.]\n",
      "The probability that the node 9 belongs to one of the communities is given as [0. 0. 1.]\n"
     ]
    }
   ],
   "source": [
    "# Iterate over the first 10 nodes in the graph\n",
    "for idx, values in enumerate(u[:10]):  # Only for the 10 first nodes\n",
    "    # Print the probability that the node belongs to one of the communities\n",
    "    print(f'The probability that the node {idx} belongs to one of the communities is given as {values}')"
   ],
   "metadata": {
    "collapsed": false,
    "ExecuteTime": {
     "end_time": "2024-01-31T15:44:15.456084871Z",
     "start_time": "2024-01-31T15:44:15.162555076Z"
    }
   }
  },
  {
   "cell_type": "markdown",
   "source": [
    "To visualize the hard membership for the in-coming case, we can assign each node to the community with the highest probability in u. We can then print the community assignments for the first 10 nodes."
   ],
   "metadata": {
    "collapsed": false
   }
  },
  {
   "cell_type": "code",
   "outputs": [
    {
     "name": "stdout",
     "output_type": "stream",
     "text": [
      "The node 0 belongs to community 2\n",
      "The node 1 belongs to community 2\n",
      "The node 2 belongs to community 2\n",
      "The node 3 belongs to community 2\n",
      "The node 4 belongs to community 2\n",
      "The node 5 belongs to community 2\n",
      "The node 6 belongs to community 2\n",
      "The node 7 belongs to community 3\n",
      "The node 8 belongs to community 2\n",
      "The node 9 belongs to community 3\n"
     ]
    }
   ],
   "source": [
    "# Calculate the hard membership for the in-coming case\n",
    "# The 'argmax' function from the 'numpy' module is used to find the \n",
    "# indices of the maximum values along an axis.\n",
    "# The 'axis=1' argument specifies that the function should operate \n",
    "# along the columns.\n",
    "u_hard = np.argmax(u, axis=1)\n",
    "\n",
    "# Iterate over the first 10 nodes in the graph\n",
    "for idx, community in enumerate(u_hard[:10]):  # Only for the 10 first nodes\n",
    "    # Print the community that the node belongs to\n",
    "    print(f'The node {idx} belongs to community {community+1}')"
   ],
   "metadata": {
    "collapsed": false,
    "ExecuteTime": {
     "end_time": "2024-01-31T15:44:17.406145095Z",
     "start_time": "2024-01-31T15:44:17.119033254Z"
    }
   },
   "execution_count": 19
  },
  {
   "cell_type": "markdown",
   "source": [
    "We have learned this way to assign each node to a community, using the results given the `CRep`alorithm. For a more graphical apporach, we invite the reader to see the tutorial on the [`JointCRep` algorithm](./JointCRep.ipynb), where we show how to plot the communities in the network. \n",
    "\n",
    "For more details about the meaning of the latent variables, we refer the user to the publication [1]. \n",
    "\n",
    "## Summary\n",
    "\n",
    "The tutorial provides a comprehensive guide on using the Probabilistic Generative Models for Network Analysis (`pgm`) package, specifically focusing on the `CRep` algorithm. The `CRep` algorithm is a probabilistic generative model used for network analysis, designed to detect communities within a network and quantify the level of reciprocity.\n",
    "\n",
    "The tutorial begins by explaining the structure of the `pgm` package, which is organized into four main modules: `input`, `model`, `output`, and `data`. Each module has its own submodules and functionalities.\n",
    "\n",
    "The tutorial then proceeds to demonstrate how to configure the `CRep` algorithm using a YAML configuration file. It shows how to load the configuration file, modify the output folder path, and save the updated configuration.\n",
    "\n",
    "Next, the tutorial guides the user on how to import data using the `pgm` package. It demonstrates how to load data from an input file and print basic statistics of the loaded data. It also shows how to visualize the adjacency matrix of the network.\n",
    "\n",
    "The tutorial then explains how to run the `CRep` model. It demonstrates how to create an instance of the `CRep` class and run the model using the `fit` method.\n",
    "\n",
    "Finally, the tutorial shows how to analyze the results produced by the model. It explains how to load the results from a file, unpack the latent variables, and calculate the hard membership for the in-coming case. It concludes by referring the user to a publication for more details about the meaning of the latent variables.\n",
    "\n",
    "## References\n",
    "\n",
    "[1] Hadiseh Safdari, Martina Contisciani, Caterina De Bacco. “A generative model for reciprocity and community detection in networks.” _Phys. Rev. Research_ Vol 3, 023209, 2021."
   ],
   "metadata": {
    "collapsed": false
   }
  }
 ],
 "metadata": {
  "kernelspec": {
   "display_name": "Python 3",
   "language": "python",
   "name": "python3"
  },
  "language_info": {
   "codemirror_mode": {
    "name": "ipython",
    "version": 2
   },
   "file_extension": ".py",
   "mimetype": "text/x-python",
   "name": "python",
   "nbconvert_exporter": "python",
   "pygments_lexer": "ipython2",
   "version": "2.7.6"
  }
 },
 "nbformat": 4,
 "nbformat_minor": 0
}
