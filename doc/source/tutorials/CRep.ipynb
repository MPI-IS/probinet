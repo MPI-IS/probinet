{
 "cells": [
  {
   "cell_type": "markdown",
   "source": [
    "# Tutorial: Generating model-based networks using the `CRep` algorithm\n",
    "\n",
    "Welcome to this tutorial on using the _Probabilistic Generative Models for Network Analysis_ (`pgm`) package. In this tutorial, we'll walk through the process of generating a network that follows a particular probabilistic model assumption. We'll use the `CRep` algorithm to generate a  network with planted reciprocity and community structure.\n"
   ],
   "metadata": {
    "collapsed": false
   }
  },
  {
   "cell_type": "markdown",
   "source": [
    "## Generating a network using the `CRep` algorithm"
   ],
   "metadata": {
    "collapsed": false
   }
  },
  {
   "cell_type": "markdown",
   "source": [
    "The first step in our network generating process consists of setting the configuration file. This file contains the parameters that the model will use to generate the network. As explained in  \n",
    "  the reference [1], the `CRep` algorithm has several parameters that can be set, including the  number of nodes, the number of communities, the reciprocity coefficient, and the community   strengths. Instead of setting these parameters manually, we can use the configuration file to illustrate the model's basic needs."
   ],
   "metadata": {
    "collapsed": false
   }
  },
  {
   "cell_type": "code",
   "outputs": [],
   "source": [
    "# We import the `open_binary` function from the `importlib.resources` module. This function is used to open a binary file included in a package.\n",
    "from importlib.resources import open_binary\n",
    "\n",
    "# We import the `yaml` module to convert the data from a YAML formatted string into a Python dictionary.\n",
    "import yaml\n",
    "\n",
    "# Define the path to the configuration file for the 'CRep' algorithm.\n",
    "config_path = 'setting_syn_data_CRep.yaml'\n",
    "\n",
    "# Open the configuration file for the 'CRep' algorithm\n",
    "with open_binary('pgm.data.model', config_path) as fp:\n",
    "    # Load the contents of the configuration file into a dictionary\n",
    "    synthetic_configuration = yaml.load(fp, Loader=yaml.Loader)"
   ],
   "metadata": {
    "collapsed": false,
    "ExecuteTime": {
     "end_time": "2024-03-13T08:51:03.387562Z",
     "start_time": "2024-03-13T08:51:03.352779Z"
    }
   },
   "execution_count": 1
  },
  {
   "cell_type": "code",
   "outputs": [
    {
     "data": {
      "text/plain": "{'N': 600,\n 'K': 3,\n 'eta': 0.5,\n 'k': 20,\n 'ExpM': None,\n 'over': 0.0,\n 'corr': 0.0,\n 'seed': 0,\n 'alpha': 0.1,\n 'ag': 0.1,\n 'beta': 0.1,\n 'Normalization': 0,\n 'structure': 'assortative',\n 'end_file': '',\n 'out_folder': '../data/input/',\n 'output_parameters': True,\n 'output_adj': True,\n 'outfile_adj': None}"
     },
     "execution_count": 2,
     "metadata": {},
     "output_type": "execute_result"
    }
   ],
   "source": [
    "synthetic_configuration"
   ],
   "metadata": {
    "collapsed": false,
    "ExecuteTime": {
     "end_time": "2024-03-13T08:51:03.400149Z",
     "start_time": "2024-03-13T08:51:03.390187Z"
    }
   },
   "execution_count": 2
  },
  {
   "cell_type": "markdown",
   "source": [
    "To get a more detailed explanation of the parameters, we refer the reader to the publication [1].\n",
    " However, as we can see in the dictionary, the reciprocity coefficient is set to 0.5. This means \n",
    " that the network will have a moderate level of reciprocity.  We will increase this value to 0.8 \n",
    " and generate a network with a higher level of reciprocity. We will also modify some details \n",
    " regarding the output of the algorithm as follows."
   ],
   "metadata": {
    "collapsed": false
   }
  },
  {
   "cell_type": "code",
   "outputs": [],
   "source": [
    "# Increase the reciprocity coefficient\n",
    "synthetic_configuration['eta'] = 0.8\n",
    "\n",
    "# The flag 'output_parameters' determines whether the parameters of the model should be saved to a file.\n",
    "synthetic_configuration['output_parameters'] = False\n",
    "# The flag 'output_adj' determines whether the adjacency matrices should be saved to a file.\n",
    "synthetic_configuration['output_adj'] = True\n",
    "# The flag 'out_folder' determines the output folder for the adjacency matrices.\n",
    "synthetic_configuration['out_folder'] = 'tutorial_outputs/CRep_synthetic/'\n",
    "# The flag 'outfile_adj' determines the name of the file for the adjacency matrices.\n",
    "synthetic_configuration['outfile_adj'] = 'syn_dataframe.dat'"
   ],
   "metadata": {
    "collapsed": false,
    "ExecuteTime": {
     "end_time": "2024-03-13T08:51:04.964928Z",
     "start_time": "2024-03-13T08:51:04.961599Z"
    }
   },
   "execution_count": 3
  },
  {
   "cell_type": "markdown",
   "source": [
    "Once the parameters are set, we can generate the network using the `GM_reciprocity` class."
   ],
   "metadata": {
    "collapsed": false
   }
  },
  {
   "cell_type": "code",
   "outputs": [],
   "source": [
    "# We load the `GM_reciprocity` class from the `pgm.input.generate_network` module.\n",
    "from pgm.input.generate_network import GM_reciprocity"
   ],
   "metadata": {
    "collapsed": false,
    "ExecuteTime": {
     "end_time": "2024-03-13T08:51:09.681355Z",
     "start_time": "2024-03-13T08:51:06.338627Z"
    }
   },
   "execution_count": 4
  },
  {
   "cell_type": "code",
   "outputs": [],
   "source": [
    "# We define the class `gen` as an instance of the `GM_reciprocity` class using the configuration parameters.\n",
    "gen = GM_reciprocity(**synthetic_configuration)"
   ],
   "metadata": {
    "collapsed": false,
    "ExecuteTime": {
     "end_time": "2024-03-13T08:51:09.694050Z",
     "start_time": "2024-03-13T08:51:09.686068Z"
    }
   },
   "execution_count": 5
  },
  {
   "cell_type": "markdown",
   "source": [
    "We can check that indeed the parameters were set correctly by attributes of the `gen` object."
   ],
   "metadata": {
    "collapsed": false
   }
  },
  {
   "cell_type": "code",
   "outputs": [
    {
     "data": {
      "text/plain": "{'N': 600,\n 'K': 3,\n 'k': 20,\n 'seed': 0,\n 'alpha': 0.1,\n 'ag': 0.1,\n 'beta': 0.1,\n 'end_file': '',\n 'out_folder': 'tutorial_outputs/CRep_synthetic/',\n 'output_parameters': False,\n 'output_adj': True,\n 'outfile_adj': 'syn_dataframe.dat',\n 'eta': 0.8,\n 'ExpM': 6000,\n 'over': 0.0,\n 'corr': 0.0,\n 'Normalization': 0,\n 'structure': 'assortative'}"
     },
     "execution_count": 6,
     "metadata": {},
     "output_type": "execute_result"
    }
   ],
   "source": [
    "gen.__dict__"
   ],
   "metadata": {
    "collapsed": false,
    "ExecuteTime": {
     "end_time": "2024-03-13T08:51:09.709879Z",
     "start_time": "2024-03-13T08:51:09.698231Z"
    }
   },
   "execution_count": 6
  },
  {
   "cell_type": "markdown",
   "source": [
    "As we can see, the parameters were set correctly. Now, we can generate the network using the `reciprocity_planted_network` method. This method creates a dataframe with the network's edges and saves it into the `syn_dataframe.dat` in the output folder. "
   ],
   "metadata": {
    "collapsed": false
   }
  },
  {
   "cell_type": "code",
   "outputs": [],
   "source": [
    "# We generate the network using the `reciprocity_planted_network`method. \n",
    "gen.reciprocity_planted_network();"
   ],
   "metadata": {
    "collapsed": false,
    "ExecuteTime": {
     "end_time": "2024-03-13T08:51:18.497183Z",
     "start_time": "2024-03-13T08:51:13.203888Z"
    }
   },
   "execution_count": 7
  },
  {
   "cell_type": "markdown",
   "source": [
    "We can now load the dataframe and inspect how the network looks like."
   ],
   "metadata": {
    "collapsed": false
   }
  },
  {
   "cell_type": "code",
   "outputs": [
    {
     "data": {
      "text/plain": "        0       1  2\n0  source  target  w\n1       0      18  1\n2       0      50  1\n3       0      95  1\n4       0     196  1",
      "text/html": "<div>\n<style scoped>\n    .dataframe tbody tr th:only-of-type {\n        vertical-align: middle;\n    }\n\n    .dataframe tbody tr th {\n        vertical-align: top;\n    }\n\n    .dataframe thead th {\n        text-align: right;\n    }\n</style>\n<table border=\"1\" class=\"dataframe\">\n  <thead>\n    <tr style=\"text-align: right;\">\n      <th></th>\n      <th>0</th>\n      <th>1</th>\n      <th>2</th>\n    </tr>\n  </thead>\n  <tbody>\n    <tr>\n      <th>0</th>\n      <td>source</td>\n      <td>target</td>\n      <td>w</td>\n    </tr>\n    <tr>\n      <th>1</th>\n      <td>0</td>\n      <td>18</td>\n      <td>1</td>\n    </tr>\n    <tr>\n      <th>2</th>\n      <td>0</td>\n      <td>50</td>\n      <td>1</td>\n    </tr>\n    <tr>\n      <th>3</th>\n      <td>0</td>\n      <td>95</td>\n      <td>1</td>\n    </tr>\n    <tr>\n      <th>4</th>\n      <td>0</td>\n      <td>196</td>\n      <td>1</td>\n    </tr>\n  </tbody>\n</table>\n</div>"
     },
     "execution_count": 8,
     "metadata": {},
     "output_type": "execute_result"
    }
   ],
   "source": [
    "import pandas as pd\n",
    "# Load the dataframe\n",
    "df = pd.read_csv(synthetic_configuration['out_folder'] + synthetic_configuration['outfile_adj'], sep=' ', header=None)\n",
    "# Print the first 5 rows of the dataframe \n",
    "df.head()"
   ],
   "metadata": {
    "collapsed": false,
    "ExecuteTime": {
     "end_time": "2024-03-13T08:51:18.522090Z",
     "start_time": "2024-03-13T08:51:18.499867Z"
    }
   },
   "execution_count": 8
  },
  {
   "cell_type": "markdown",
   "source": [
    "As we can see, the dataframe contains the edges of the network. The first column represents the \n",
    "source node, and the second column represents the target node. The last column represents the weight of the edge.\n",
    "\n",
    "This way we have generated a network using the `CRep` algorithm. In the next section, we will use the `pgm` package to analyze the network and extract the community structure and reciprocity coefficient."
   ],
   "metadata": {
    "collapsed": false
   }
  },
  {
   "cell_type": "markdown",
   "source": [
    "## Analyzing the network using the `pgm` package\n",
    "\n",
    "First, we start by importing the data using the `pgm` package. This means, we will load the data \n",
    "from the `syn_dataframe.dat` file and generate the adjacency matrices needed to run the `CRep` algorithm."
   ],
   "metadata": {
    "collapsed": false
   }
  },
  {
   "cell_type": "code",
   "outputs": [],
   "source": [
    "from pgm.input.loader import import_data\n",
    "from pathlib import Path\n",
    "\n",
    "# Define the names of the columns in the input file that \n",
    "# represent the source and target nodes of each edge\n",
    "ego = 'source'\n",
    "alter = 'target'\n",
    "\n",
    "# Set the 'force_dense' flag to False\n",
    "force_dense = False\n",
    "\n",
    "# Call the 'import_data' function to load the data from the input file\n",
    "A, B, B_T, data_T_vals = import_data(Path(synthetic_configuration['out_folder']) / synthetic_configuration['outfile_adj'],\n",
    "                                     ego=ego,\n",
    "                                     alter=alter,\n",
    "                                     force_dense=force_dense,\n",
    "                                     header=0)"
   ],
   "metadata": {
    "collapsed": false,
    "ExecuteTime": {
     "end_time": "2024-03-13T08:51:20.291644Z",
     "start_time": "2024-03-13T08:51:18.843406Z"
    }
   },
   "execution_count": 9
  },
  {
   "cell_type": "markdown",
   "source": [
    "Notice that the `import_data` prints some information about the data, such as the number of nodes\n",
    " and edges, together with the actual reciprocity coefficient that describes the network. Notice \n",
    " that, although we set the reciprocity coefficient to 0.8, the actual reciprocity coefficient is \n",
    " 0.638. This is because the `CRep` algorithm generates a network with a reciprocity coefficient \n",
    " that also follows other principles, such as the community structure. We will store this value \n",
    "for later comparison with the inferred reciprocity coefficient."
   ],
   "metadata": {
    "collapsed": false
   }
  },
  {
   "cell_type": "code",
   "outputs": [],
   "source": [
    "actual_reciprocity = 0.638"
   ],
   "metadata": {
    "collapsed": false,
    "ExecuteTime": {
     "end_time": "2024-03-13T08:51:21.201920Z",
     "start_time": "2024-03-13T08:51:21.195684Z"
    }
   },
   "execution_count": 10
  },
  {
   "cell_type": "markdown",
   "source": [
    "Once the data is loaded, we can pass it to the `CRep` algorithm to obtain estimates of the latent\n",
    "variables describing the network. To do so, we need to set the configuration file for the `CRep` algorithm."
   ],
   "metadata": {
    "collapsed": false
   }
  },
  {
   "cell_type": "code",
   "execution_count": 11,
   "outputs": [],
   "source": [
    "# Set the algorithm to 'CRep'\n",
    "algorithm = 'CRep'\n",
    "\n",
    "# Define the path to the configuration file for the 'CRep' algorithm\n",
    "config_path = 'setting_' + algorithm + '.yaml'"
   ],
   "metadata": {
    "collapsed": false,
    "ExecuteTime": {
     "end_time": "2024-03-13T08:51:23.411450Z",
     "start_time": "2024-03-13T08:51:23.407103Z"
    }
   }
  },
  {
   "cell_type": "markdown",
   "source": [
    "We load the configuration file using the data files in the `pgm` package instead of a relative path to it:"
   ],
   "metadata": {
    "collapsed": false
   }
  },
  {
   "cell_type": "code",
   "execution_count": 12,
   "outputs": [],
   "source": [
    "# Open the configuration file for the 'CRep' algorithm\n",
    "with open_binary('pgm.data.model', config_path) as fp:\n",
    "    conf = yaml.load(fp, Loader=yaml.Loader)"
   ],
   "metadata": {
    "collapsed": false,
    "ExecuteTime": {
     "end_time": "2024-03-13T08:51:26.111975Z",
     "start_time": "2024-03-13T08:51:26.103699Z"
    }
   }
  },
  {
   "cell_type": "code",
   "execution_count": 13,
   "outputs": [
    {
     "name": "stdout",
     "output_type": "stream",
     "text": [
      "K: 3\n",
      "assortative: true\n",
      "constrained: true\n",
      "end_file: _CRep\n",
      "eta0: null\n",
      "files: config/data/input/theta_gt111.npz\n",
      "fix_eta: false\n",
      "initialization: 0\n",
      "out_folder: outputs/\n",
      "out_inference: true\n",
      "rseed: 0\n",
      "undirected: false\n"
     ]
    }
   ],
   "source": [
    "# Print the configuration file\n",
    "print(yaml.dump(conf))"
   ],
   "metadata": {
    "collapsed": false,
    "ExecuteTime": {
     "end_time": "2024-03-13T08:51:28.273404Z",
     "start_time": "2024-03-13T08:51:28.269295Z"
    }
   }
  },
  {
   "cell_type": "markdown",
   "source": [
    "The previous file shows the parameters actually needed to _run_ the model. These parameters set the algorithms basic needs to work.  "
   ],
   "metadata": {
    "collapsed": false
   }
  },
  {
   "cell_type": "markdown",
   "source": [
    "Now, let's change the path to the output folder, so we can save the results into the same folder \n",
    "where the input data is located. "
   ],
   "metadata": {
    "collapsed": false
   }
  },
  {
   "cell_type": "code",
   "outputs": [],
   "source": [
    "# Set the output folder for the 'CRep' algorithm\n",
    "conf['out_folder'] = synthetic_configuration['out_folder']\n",
    "\n",
    "# Set the end file for the 'CRep' algorithm\n",
    "conf['end_file'] = '_' + algorithm"
   ],
   "metadata": {
    "collapsed": false,
    "ExecuteTime": {
     "end_time": "2024-03-13T08:51:31.041436Z",
     "start_time": "2024-03-13T08:51:31.035839Z"
    }
   },
   "execution_count": 14
  },
  {
   "cell_type": "markdown",
   "source": [
    "## Running the Model\n",
    "Finally, we are ready to run the _CRep_ model! The way this works is in a two-step process: first, we called the `CRep` class, which initializes the model. Then, we call the `fit` method, which runs the algorithm. "
   ],
   "metadata": {
    "collapsed": false
   }
  },
  {
   "cell_type": "code",
   "execution_count": 15,
   "outputs": [
    {
     "name": "stdout",
     "output_type": "stream",
     "text": [
      "{'inf': 10000000000.0, 'err_max': 1e-12, 'err': 0.1, 'num_realizations': 5, 'convergence_tol': 0.0001, 'decision': 10, 'max_iter': 1000, 'flag_conv': 'log'}\n"
     ]
    }
   ],
   "source": [
    "# Import the 'CRep' class from the 'pgm.model.crep' module\n",
    "from pgm.model.crep import CRep\n",
    "import numpy as np\n",
    "\n",
    "# Import the 'time' module\n",
    "import time\n",
    "\n",
    "# Get the list of nodes from the first graph in the list 'A'\n",
    "nodes = A[0].nodes()\n",
    "\n",
    "# Create an instance of the 'CRep' class\n",
    "model = CRep()\n",
    "\n",
    "# Print all the attributes of the 'CRep' instance\n",
    "# The '__dict__' attribute of an object is a dictionary containing \n",
    "# the object's attributes.\n",
    "print(model.__dict__)"
   ],
   "metadata": {
    "collapsed": false,
    "ExecuteTime": {
     "end_time": "2024-03-13T08:51:36.082279Z",
     "start_time": "2024-03-13T08:51:36.078597Z"
    }
   }
  },
  {
   "cell_type": "markdown",
   "source": [
    "Model created! Now, we can run the model using the `fit` method. As mentioned before, this method\n",
    " takes as input the data, and the configuration parameters. \n",
    " \n",
    "Before running the model, we set the logging level to `INFO` to print relevant information about the model's progress."
   ],
   "metadata": {
    "collapsed": false
   }
  },
  {
   "cell_type": "code",
   "outputs": [],
   "source": [
    "# Import the logging module\n",
    "import logging\n",
    "\n",
    "# Get the root logger and set its level to INFO.\n",
    "logging.getLogger().setLevel(logging.INFO)"
   ],
   "metadata": {
    "collapsed": false,
    "ExecuteTime": {
     "end_time": "2024-03-13T08:53:43.087396Z",
     "start_time": "2024-03-13T08:53:43.083674Z"
    }
   },
   "execution_count": 18
  },
  {
   "cell_type": "code",
   "execution_count": 17,
   "outputs": [
    {
     "name": "stderr",
     "output_type": "stream",
     "text": [
      "INFO:root:eta is initialized randomly.\n",
      "INFO:root:u, v and w are initialized randomly.\n",
      "INFO:root:Updating realization 0 ...\n"
     ]
    },
    {
     "name": "stdout",
     "output_type": "stream",
     "text": [
      "\n",
      "### Run CRep ###\n"
     ]
    },
    {
     "name": "stderr",
     "output_type": "stream",
     "text": [
      "INFO:root:Nreal = 0 - Pseudo Log-likelihood = -15341.547528742449 - iterations = 100 - time = 0.41 seconds\n",
      "INFO:root:Nreal = 0 - Pseudo Log-likelihood = -15333.775232560947 - iterations = 200 - time = 0.91 seconds\n",
      "INFO:root:Nreal = 0 - Pseudo Log-likelihood = -15331.614264064836 - iterations = 300 - time = 1.64 seconds\n",
      "INFO:root:Nreal = 0 - Pseudo Log-likelihood = -15330.479566359936 - iterations = 400 - time = 2.31 seconds\n",
      "INFO:root:Nreal = 0 - Pseudo Log-likelihood = -15330.064278151229 - iterations = 500 - time = 2.87 seconds\n",
      "INFO:root:Nreal = 0 - Pseudo Log-likelihood = -15329.23669960981 - iterations = 600 - time = 3.41 seconds\n",
      "INFO:root:Nreal = 0 - Pseudo Log-likelihood = -15328.947482113104 - iterations = 700 - time = 3.88 seconds\n",
      "INFO:root:Nreal = 0 - Pseudo Log-likelihood = -15328.945289296786 - iterations = 800 - time = 4.33 seconds\n",
      "INFO:root:Nreal = 0 - Pseudo Log-likelihood = -15328.94476636945 - iterations = 900 - time = 4.76 seconds\n",
      "INFO:root:Nreal = 0 - Pseudo Log-likelihood = -15328.944738246319 - iterations = 901 - time = 4.77 seconds\n",
      "\n",
      "INFO:root:eta is initialized randomly.\n",
      "INFO:root:u, v and w are initialized randomly.\n",
      "INFO:root:Updating realization 1 ...\n",
      "INFO:root:Nreal = 1 - Pseudo Log-likelihood = -15349.80174601557 - iterations = 100 - time = 0.42 seconds\n",
      "INFO:root:Nreal = 1 - Pseudo Log-likelihood = -15342.436228027767 - iterations = 200 - time = 0.87 seconds\n",
      "INFO:root:Nreal = 1 - Pseudo Log-likelihood = -15341.251402404907 - iterations = 300 - time = 1.3 seconds\n",
      "INFO:root:Nreal = 1 - Pseudo Log-likelihood = -15340.716106089556 - iterations = 400 - time = 1.75 seconds\n",
      "INFO:root:Nreal = 1 - Pseudo Log-likelihood = -15340.108838499904 - iterations = 500 - time = 2.16 seconds\n",
      "INFO:root:Nreal = 1 - Pseudo Log-likelihood = -15338.93159212242 - iterations = 600 - time = 2.57 seconds\n",
      "INFO:root:Nreal = 1 - Pseudo Log-likelihood = -15338.9347897858 - iterations = 700 - time = 2.97 seconds\n",
      "INFO:root:Nreal = 1 - Pseudo Log-likelihood = -15338.935978977035 - iterations = 800 - time = 3.36 seconds\n",
      "INFO:root:Nreal = 1 - Pseudo Log-likelihood = -15338.936333695741 - iterations = 861 - time = 3.66 seconds\n",
      "\n",
      "INFO:root:eta is initialized randomly.\n",
      "INFO:root:u, v and w are initialized randomly.\n",
      "INFO:root:Updating realization 2 ...\n",
      "INFO:root:Nreal = 2 - Pseudo Log-likelihood = -15389.442951369085 - iterations = 100 - time = 0.44 seconds\n",
      "INFO:root:Nreal = 2 - Pseudo Log-likelihood = -15383.329837177345 - iterations = 200 - time = 0.86 seconds\n",
      "INFO:root:Nreal = 2 - Pseudo Log-likelihood = -15380.912440176224 - iterations = 300 - time = 1.35 seconds\n",
      "INFO:root:Nreal = 2 - Pseudo Log-likelihood = -15380.918992795596 - iterations = 400 - time = 1.79 seconds\n",
      "INFO:root:Nreal = 2 - Pseudo Log-likelihood = -15380.922012703264 - iterations = 500 - time = 2.2 seconds\n",
      "INFO:root:Nreal = 2 - Pseudo Log-likelihood = -15380.923485512678 - iterations = 600 - time = 2.58 seconds\n",
      "INFO:root:Nreal = 2 - Pseudo Log-likelihood = -15380.924208585398 - iterations = 700 - time = 2.97 seconds\n",
      "INFO:root:Nreal = 2 - Pseudo Log-likelihood = -15380.924256212693 - iterations = 701 - time = 2.99 seconds\n",
      "\n",
      "INFO:root:eta is initialized randomly.\n",
      "INFO:root:u, v and w are initialized randomly.\n",
      "INFO:root:Updating realization 3 ...\n",
      "INFO:root:Nreal = 3 - Pseudo Log-likelihood = -15840.003742863733 - iterations = 100 - time = 0.39 seconds\n",
      "INFO:root:Nreal = 3 - Pseudo Log-likelihood = -15836.392109081673 - iterations = 200 - time = 0.78 seconds\n",
      "INFO:root:Nreal = 3 - Pseudo Log-likelihood = -15834.61869698314 - iterations = 300 - time = 1.18 seconds\n",
      "INFO:root:Nreal = 3 - Pseudo Log-likelihood = -15834.58762001284 - iterations = 400 - time = 1.57 seconds\n",
      "INFO:root:Nreal = 3 - Pseudo Log-likelihood = -15834.585441000467 - iterations = 500 - time = 1.94 seconds\n",
      "INFO:root:Nreal = 3 - Pseudo Log-likelihood = -15834.39871798359 - iterations = 600 - time = 2.31 seconds\n",
      "INFO:root:Nreal = 3 - Pseudo Log-likelihood = -15834.393567509238 - iterations = 700 - time = 2.68 seconds\n",
      "INFO:root:Nreal = 3 - Pseudo Log-likelihood = -15834.080149740528 - iterations = 800 - time = 3.04 seconds\n",
      "INFO:root:Nreal = 3 - Pseudo Log-likelihood = -15832.995353591374 - iterations = 900 - time = 3.4 seconds\n",
      "INFO:root:Nreal = 3 - Pseudo Log-likelihood = -15832.99535291782 - iterations = 991 - time = 3.73 seconds\n",
      "\n",
      "INFO:root:eta is initialized randomly.\n",
      "INFO:root:u, v and w are initialized randomly.\n",
      "INFO:root:Updating realization 4 ...\n",
      "INFO:root:Nreal = 4 - Pseudo Log-likelihood = -15803.378513640286 - iterations = 100 - time = 0.35 seconds\n",
      "INFO:root:Nreal = 4 - Pseudo Log-likelihood = -15801.245775885582 - iterations = 200 - time = 0.7 seconds\n",
      "INFO:root:Nreal = 4 - Pseudo Log-likelihood = -15799.59716276748 - iterations = 300 - time = 1.05 seconds\n",
      "INFO:root:Nreal = 4 - Pseudo Log-likelihood = -15799.595881117439 - iterations = 400 - time = 1.4 seconds\n",
      "INFO:root:Nreal = 4 - Pseudo Log-likelihood = -15799.595453261341 - iterations = 471 - time = 1.65 seconds\n",
      "\n",
      "INFO:root:Inferred parameters saved in: /home/dtheuerkauf/software-workshop/prob-gen-model-for-nets/doc/source/tutorials/tutorial_outputs/CRep_synthetic/theta_CRep.npz\n",
      "INFO:root:To load: theta=np.load(filename), then e.g. theta[\"u\"]\n"
     ]
    },
    {
     "name": "stdout",
     "output_type": "stream",
     "text": [
      "\n",
      "Time elapsed: 16.82 seconds.\n"
     ]
    }
   ],
   "source": [
    "# Print a message indicating the start of the 'CRep' algorithm\n",
    "print(f'\\n### Run {algorithm} ###')\n",
    "\n",
    "# Get the current time\n",
    "time_start = time.time()\n",
    "\n",
    "# Run the 'CRep' model\n",
    "inferred_parameters = model.fit(data=B,\n",
    "              data_T=B_T,\n",
    "              data_T_vals=data_T_vals,\n",
    "              nodes=nodes,\n",
    "              **conf)\n",
    "\n",
    "# Print the time elapsed since the start of the 'CRep' algorithm\n",
    "print(f'\\nTime elapsed: {np.round(time.time() - time_start, 2)} seconds.')"
   ],
   "metadata": {
    "collapsed": false,
    "ExecuteTime": {
     "end_time": "2024-03-13T08:52:15.495727Z",
     "start_time": "2024-03-13T08:51:58.666256Z"
    }
   }
  },
  {
   "cell_type": "markdown",
   "source": [
    "Done! The model has been run and the results are stored into the variable `inferred_parameters`. We \n",
    "can unpack the latent variables from it to take a closer look at."
   ],
   "metadata": {
    "collapsed": false
   }
  },
  {
   "cell_type": "markdown",
   "source": [
    "## Analyzing the results\n",
    "Next, we will examine the outcomes produced by the model. To do this, it is necessary to load the contents from the file `CRep/theta_CRep.npz.`"
   ],
   "metadata": {
    "collapsed": false
   }
  },
  {
   "cell_type": "code",
   "outputs": [
    {
     "data": {
      "text/plain": "5"
     },
     "execution_count": 17,
     "metadata": {},
     "output_type": "execute_result"
    }
   ],
   "source": [
    "len(inferred_parameters)"
   ],
   "metadata": {
    "collapsed": false,
    "ExecuteTime": {
     "end_time": "2024-03-12T15:44:16.521642Z",
     "start_time": "2024-03-12T15:44:16.496925Z"
    }
   },
   "execution_count": 17
  },
  {
   "cell_type": "code",
   "outputs": [],
   "source": [
    "u_inf, v_inf, w_inf, eta_inf, _ = inferred_parameters"
   ],
   "metadata": {
    "collapsed": false,
    "ExecuteTime": {
     "end_time": "2024-03-12T15:44:17.045901Z",
     "start_time": "2024-03-12T15:44:17.030918Z"
    }
   },
   "execution_count": 18
  },
  {
   "cell_type": "markdown",
   "source": [
    "Since we know the ground truth configuration of the network, we can compare the inferred \n",
    "parameters with the true ones. We will do this by comparing the inferred reciprocity coefficient with the true one.\n"
   ],
   "metadata": {
    "collapsed": false
   }
  },
  {
   "cell_type": "code",
   "outputs": [
    {
     "name": "stdout",
     "output_type": "stream",
     "text": [
      "Desired reciprocity coefficient: 0.8\n",
      "Actual reciprocity coefficient: 0.638\n",
      "Inferred reciprocity coefficient: 0.632408070678144\n"
     ]
    }
   ],
   "source": [
    "# Print the true reciprocity coefficient\n",
    "print(f'Desired reciprocity coefficient: {synthetic_configuration[\"eta\"]}')\n",
    "# Print the actual reciprocity coefficient\n",
    "print(f'Actual reciprocity coefficient: {actual_reciprocity}')\n",
    "# Print the inferred reciprocity coefficient\n",
    "print(f'Inferred reciprocity coefficient: {eta_inf}')\n"
   ],
   "metadata": {
    "collapsed": false,
    "ExecuteTime": {
     "end_time": "2024-03-12T15:44:18.513457Z",
     "start_time": "2024-03-12T15:44:18.503215Z"
    }
   },
   "execution_count": 19
  },
  {
   "cell_type": "markdown",
   "source": [
    "As we can see, the inferred reciprocity coefficient is very close to the true one. This \n",
    "means that the model was able to capture the reciprocity of the network. "
   ],
   "metadata": {
    "collapsed": false
   }
  },
  {
   "cell_type": "markdown",
   "source": [
    "## Summary\n",
    "\n",
    "In this tutorial, we have shown how to generate a network that follows the probabilistic rules \n",
    "guiding the `CRep` algorithm. We have also shown how to load the network and infer the latent \n",
    "variables using the `pgm` package. Given the probabilistic nature of the data, we also use the \n",
    "`CRep` as our main tool to infer the latent variables. We have shown that the inferred reciprocity\n",
    "coefficient is very close to the true one. This means that the model was able to successfully reconstruct the network's reciprocity."
   ],
   "metadata": {
    "collapsed": false
   }
  },
  {
   "cell_type": "markdown",
   "source": [
    "## References\n",
    "[1] Safdari H., Contisciani M. & De Bacco C. (2021). Generative model for reciprocity and \n",
    "community detection in networks, _Phys. Rev. Research_ 3, 023209."
   ],
   "metadata": {
    "collapsed": false
   }
  }
 ],
 "metadata": {
  "kernelspec": {
   "display_name": "Python 3",
   "language": "python",
   "name": "python3"
  },
  "language_info": {
   "codemirror_mode": {
    "name": "ipython",
    "version": 2
   },
   "file_extension": ".py",
   "mimetype": "text/x-python",
   "name": "python",
   "nbconvert_exporter": "python",
   "pygments_lexer": "ipython2",
   "version": "2.7.6"
  }
 },
 "nbformat": 4,
 "nbformat_minor": 0
}
