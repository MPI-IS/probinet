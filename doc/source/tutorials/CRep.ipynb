{
 "cells": [
  {
   "cell_type": "markdown",
   "source": [
    "# Tutorial for Probabilistic Generative Models for Network Analysis (`pgm`)\n",
    "\n",
    "Welcome to this tutorial on using the _Probabilistic Generative Models for Network Analysis_ (`pgm`) package. In this tutorial, we'll walk through the process of running the _CRep_ algorithm on a sample dataset."
   ],
   "metadata": {
    "collapsed": false
   }
  },
  {
   "cell_type": "markdown",
   "source": [
    "## Package Structure\n",
    "Before delving into the usage of the _CRep_ algorithm, let's explore the structure of the `pgm` package, which is organized into three main modules:\n",
    "\n",
    "### 1. Input\n",
    "The `input` module handles data input for subsequent use by the algorithms in the `model` module. It comprises the following submodules:  \n",
    "\n",
    "- `loader`: Functions to load data from input files.  \n",
    "- `preprocessing`: Functions for data preprocessing, such as converting NetworkX graphs to sparse adjacency matrices.  \n",
    "- `tools`: Utility functions for working with matrices, tensors, and sparsity.  \n",
    "- `statistics`: Functions for computing statistics on the data.  \n",
    "- `generate_networks`: Functions for generating synthetic networks.  \n",
    "\n",
    "In most cases where users have their own data, they typically use only the `loader` and `preprocessing` modules. The other modules serve as internal components supporting these primary functionalities. The `generate_networks` module is utilized when no data is available, and the user wants to generate synthetic networks.\n",
    "\n",
    "### 2. Model\n",
    "The `model` module encompasses the implementation of various algorithms, including the following submodules:  \n",
    "\n",
    "- `CRep`: Implementation of the CRep algorithm.  \n",
    "- `cv`: Implementation of the cross-validation algorithm.  \n",
    "- `cv_CRep`: Cross-validation for the CRep algorithm.  \n",
    "\n",
    "### 3. Output\n",
    "The `output` module contains functions responsible for handling the outputs of the models. It consists of the following submodule:\n",
    " \n",
    "- `evaluate`: Essential functions for model assessment, such as AUC for link prediction, conditional and marginal expectations, and the pseudo log-likelihood of the data.  "
   ],
   "metadata": {
    "collapsed": false
   }
  },
  {
   "cell_type": "markdown",
   "source": [
    "Having explored the package structure, let's see how to use it to run the _CRep_ algorithm."
   ],
   "metadata": {
    "collapsed": false
   }
  },
  {
   "cell_type": "markdown",
   "source": [
    "## Configuration\n",
    "Let's start by configuring the algorithm and the parameters needed. The pipeline works based on two types of parameters:\n",
    "1. **Numerical parameters:** These are the parameters that are used by the algorithm to run. For example, the convergence tolerance, the number of iterations, the number of realizations, etc. These are set by default in the model's class definition, but they can be changed by the user.\n",
    "2. **Model parameters:** These are the parameters that are used by the algorithm. For example, the number of communities _K_, the reciprocity coefficient _eta_, etc. These are set by the user in the configuration file corresponding to the used model. In the case of the _CRep_ algorithm, this file is `setting_CRep.yaml`.  \n",
    "Notice that the data is not a parameter, but an input to the algorithm, hence, it is not included in the default configuration of the class nor in the configuration file."
   ],
   "metadata": {
    "collapsed": false
   }
  },
  {
   "cell_type": "code",
   "execution_count": 5,
   "outputs": [],
   "source": [
    "import os\n",
    "\n",
    "import numpy as np\n",
    "import yaml"
   ],
   "metadata": {
    "collapsed": false,
    "ExecuteTime": {
     "end_time": "2023-12-04T11:04:03.082640587Z",
     "start_time": "2023-12-04T11:04:03.072448382Z"
    }
   }
  },
  {
   "cell_type": "markdown",
   "source": [
    "Let's start by loading the configuration file for the _CRep_ algorithm. This file is located in the `pgm/data/model` folder. "
   ],
   "metadata": {
    "collapsed": false
   }
  },
  {
   "cell_type": "code",
   "execution_count": 6,
   "outputs": [],
   "source": [
    "# setting to run the algorithm\n",
    "algorithm = 'CRep'\n",
    "config_path = 'setting_' + algorithm + '.yaml'"
   ],
   "metadata": {
    "collapsed": false,
    "ExecuteTime": {
     "end_time": "2023-12-04T11:04:05.435543051Z",
     "start_time": "2023-12-04T11:04:05.398177298Z"
    }
   }
  },
  {
   "cell_type": "markdown",
   "source": [
    "We load the configuration file using the data files in the `pgm` package instead of a relative path to it:"
   ],
   "metadata": {
    "collapsed": false
   }
  },
  {
   "cell_type": "code",
   "execution_count": 7,
   "outputs": [],
   "source": [
    "import importlib.resources as res\n",
    "\n",
    "with res.open_binary('pgm.data.model', config_path) as fp:\n",
    "    conf = yaml.load(fp, Loader=yaml.Loader)"
   ],
   "metadata": {
    "collapsed": false,
    "ExecuteTime": {
     "end_time": "2023-12-04T11:04:05.885788098Z",
     "start_time": "2023-12-04T11:04:05.744640059Z"
    }
   }
  },
  {
   "cell_type": "code",
   "execution_count": 8,
   "outputs": [
    {
     "name": "stdout",
     "output_type": "stream",
     "text": [
      "K: 3\n",
      "assortative: true\n",
      "constrained: true\n",
      "end_file: _test\n",
      "eta0: null\n",
      "files: config/data/input/theta_gt111.npz\n",
      "fix_eta: false\n",
      "initialization: 0\n",
      "out_folder: outputs/\n",
      "out_inference: true\n",
      "rseed: 0\n",
      "undirected: false\n"
     ]
    }
   ],
   "source": [
    "# Print the configuration file\n",
    "print(yaml.dump(conf))"
   ],
   "metadata": {
    "collapsed": false,
    "ExecuteTime": {
     "end_time": "2023-12-04T11:04:06.004528571Z",
     "start_time": "2023-12-04T11:04:05.948406712Z"
    }
   }
  },
  {
   "cell_type": "markdown",
   "source": [
    "The previous file shows the parameters actually needed to _run_ the model. These parameters set the algorithms basic needs to work.  \n",
    "\n",
    " "
   ],
   "metadata": {
    "collapsed": false
   }
  },
  {
   "cell_type": "markdown",
   "source": [
    "Now, let's change the path to the output folder, so we can save the results into the same folder where this notebook is. "
   ],
   "metadata": {
    "collapsed": false
   }
  },
  {
   "cell_type": "code",
   "execution_count": 9,
   "outputs": [],
   "source": [
    "# Change the output folder\n",
    "conf['out_folder'] = './' + algorithm + '_output/'"
   ],
   "metadata": {
    "collapsed": false,
    "ExecuteTime": {
     "end_time": "2023-12-04T11:04:07.064575089Z",
     "start_time": "2023-12-04T11:04:07.061810267Z"
    }
   }
  },
  {
   "cell_type": "code",
   "execution_count": 10,
   "outputs": [],
   "source": [
    "# Ensure the output folder exists\n",
    "if not os.path.exists(conf['out_folder']):\n",
    "    os.makedirs(conf['out_folder'])"
   ],
   "metadata": {
    "collapsed": false,
    "ExecuteTime": {
     "end_time": "2023-12-04T11:04:07.410200942Z",
     "start_time": "2023-12-04T11:04:07.396271061Z"
    }
   }
  },
  {
   "cell_type": "markdown",
   "source": [
    "Finally, let's save this configuration file to the output folder, so we can keep track of the parameters used to run the model."
   ],
   "metadata": {
    "collapsed": false
   }
  },
  {
   "cell_type": "code",
   "execution_count": 11,
   "outputs": [],
   "source": [
    "# Save the configuration file\n",
    "output_config_path = conf['out_folder'] + '/setting_' + algorithm + '.yaml'\n",
    "with open(output_config_path, 'w') as f:\n",
    "    yaml.dump(conf, f)"
   ],
   "metadata": {
    "collapsed": false,
    "ExecuteTime": {
     "end_time": "2023-12-04T11:04:21.991360542Z",
     "start_time": "2023-12-04T11:04:21.946559376Z"
    }
   }
  },
  {
   "cell_type": "markdown",
   "source": [
    "## Importing Data\n",
    "Once the configuration file is set, we can import the data. \n",
    "Now, let's import the data using the `pgm` package:"
   ],
   "metadata": {
    "collapsed": false
   }
  },
  {
   "cell_type": "code",
   "execution_count": 12,
   "outputs": [
    {
     "name": "stdout",
     "output_type": "stream",
     "text": [
      "/home/dtheuerkauf/toolkit/prob-gen-model-for-nets/pgm/data/input/syn111.dat shape: (5512, 3)\n",
      "Removing self loops\n",
      "Number of nodes = 600\n",
      "Number of layers = 1\n",
      "Number of edges and average degree in each layer:\n",
      "E[0] = 5512 - <k> = 18.373\n",
      "M[0] = 5899 - <k_weighted> = 19.663\n",
      "Reciprocity (networkX) = 0.423\n",
      "Reciprocity (intended as the proportion of bi-directional edges over the unordered pairs) = 0.268\n",
      "Reciprocity (considering the weights of the edges) = 0.515\n"
     ]
    }
   ],
   "source": [
    "from pgm.input.loader import import_data\n",
    "from pathlib import Path\n",
    "\n",
    "ego = 'source'\n",
    "alter = 'target'\n",
    "force_dense = False  # Sparse matrices\n",
    "root_dir = Path.cwd().parent.parent.parent.resolve()\n",
    "in_folder = root_dir / 'pgm/data/input/'\n",
    "adj = Path('syn111.dat')\n",
    "network = in_folder / adj  # network complete path\n",
    "\n",
    "A, B, B_T, data_T_vals = import_data(network,\n",
    "                                     ego=ego,\n",
    "                                     alter=alter,\n",
    "                                     force_dense=force_dense,\n",
    "                                     header=0)"
   ],
   "metadata": {
    "collapsed": false,
    "ExecuteTime": {
     "end_time": "2023-12-04T11:04:36.325000756Z",
     "start_time": "2023-12-04T11:04:34.837930415Z"
    }
   }
  },
  {
   "cell_type": "markdown",
   "source": [
    "The previous call to `import_data` loads the data from the input folder, and returns the following:\n",
    "\n",
    "- `A`: A list of NetworkX graphs, where each graph represents a snapshot of the network.  \n",
    "- `B`: A list of (sparse) adjacency matrices, where each matrix represents a snapshot of the network.   \n",
    "- `B_T`: A list of (sparse) adjacency matrices, where each matrix represents a snapshot of the network, but with the rows and columns transposed.  \n",
    "- `data_T_vals`: Array with values of entries `A[j, i]` given non-zero entry `(i, j)`.  "
   ],
   "metadata": {
    "collapsed": false
   }
  },
  {
   "cell_type": "markdown",
   "source": [
    "Notice that `A` is this time consisting of only one graph, since we are using a single network. However, the _CRep_ algorithm can handle multiple networks, and in that case `A` would be a list of graphs."
   ],
   "metadata": {
    "collapsed": false
   }
  },
  {
   "cell_type": "code",
   "execution_count": 13,
   "outputs": [
    {
     "data": {
      "text/plain": "1"
     },
     "execution_count": 13,
     "metadata": {},
     "output_type": "execute_result"
    }
   ],
   "source": [
    "len(A)"
   ],
   "metadata": {
    "collapsed": false,
    "ExecuteTime": {
     "end_time": "2023-12-04T11:05:08.865248981Z",
     "start_time": "2023-12-04T11:05:08.818352655Z"
    }
   }
  },
  {
   "cell_type": "markdown",
   "source": [
    "The basic statistics related to the data have been shown after importing them. But if we are interested in seeing them again, we can compute them using the `statistics` module:"
   ],
   "metadata": {
    "collapsed": false
   }
  },
  {
   "cell_type": "code",
   "execution_count": 14,
   "outputs": [
    {
     "name": "stdout",
     "output_type": "stream",
     "text": [
      "Number of nodes = 600\n",
      "Number of layers = 1\n",
      "Number of edges and average degree in each layer:\n",
      "E[0] = 5512 - <k> = 18.373\n",
      "M[0] = 5899 - <k_weighted> = 19.663\n",
      "Reciprocity (networkX) = 0.423\n",
      "Reciprocity (intended as the proportion of bi-directional edges over the unordered pairs) = 0.268\n",
      "Reciprocity (considering the weights of the edges) = 0\n"
     ]
    }
   ],
   "source": [
    "from pgm.input.statistics import print_graph_stat\n",
    "\n",
    "rw = [0]\n",
    "print_graph_stat(A, rw)"
   ],
   "metadata": {
    "collapsed": false,
    "ExecuteTime": {
     "end_time": "2023-12-04T11:05:19.833808781Z",
     "start_time": "2023-12-04T11:05:19.743681447Z"
    }
   }
  },
  {
   "cell_type": "markdown",
   "source": [
    "The list `rw` consists of the reciprocity values of each of the graphs in the list `A`. Since we do not have this information yet, we can simply set it to zero. \n",
    "\n",
    "We can see now that the network has 600 nodes, 5512 edges, average degree of 18.3733, and reciprocity of 0.423. "
   ],
   "metadata": {
    "collapsed": false
   }
  },
  {
   "cell_type": "markdown",
   "source": [
    "Let's take a look at the graph. Since it has a very large number of edges, we will show its adjacency matrix instead:"
   ],
   "metadata": {
    "collapsed": false
   }
  },
  {
   "cell_type": "code",
   "execution_count": 15,
   "outputs": [
    {
     "data": {
      "text/plain": "sktensor.sptensor.sptensor"
     },
     "execution_count": 15,
     "metadata": {},
     "output_type": "execute_result"
    }
   ],
   "source": [
    "type(B)"
   ],
   "metadata": {
    "collapsed": false,
    "ExecuteTime": {
     "end_time": "2023-12-04T11:05:42.984645228Z",
     "start_time": "2023-12-04T11:05:42.940066509Z"
    }
   }
  },
  {
   "cell_type": "code",
   "execution_count": 16,
   "outputs": [],
   "source": [
    "B_reshaped = B.toarray().reshape(B.shape[1], B.shape[2])"
   ],
   "metadata": {
    "collapsed": false,
    "ExecuteTime": {
     "end_time": "2023-12-04T11:05:43.680000417Z",
     "start_time": "2023-12-04T11:05:43.673043931Z"
    }
   }
  },
  {
   "cell_type": "code",
   "execution_count": 17,
   "outputs": [
    {
     "data": {
      "text/plain": "<Figure size 640x480 with 2 Axes>",
      "image/png": "[encoded data removed]"
     },
     "metadata": {},
     "output_type": "display_data"
    }
   ],
   "source": [
    "import matplotlib.pyplot as plt\n",
    "\n",
    "plt.imshow(B_reshaped, cmap='Greys', interpolation='none')\n",
    "\n",
    "# Add a color bar for reference\n",
    "plt.colorbar()\n",
    "\n",
    "plt.show()"
   ],
   "metadata": {
    "collapsed": false,
    "ExecuteTime": {
     "end_time": "2023-12-04T11:05:47.361203697Z",
     "start_time": "2023-12-04T11:05:44.966368873Z"
    }
   }
  },
  {
   "cell_type": "markdown",
   "source": [
    "## Running the Model\n",
    "Finally, we are ready to run the _CRep_ model! The way this works is in a two-step process: first, we called the `CRep` class, which initializes the model. Then, we call the `fit` method, which runs the algorithm. "
   ],
   "metadata": {
    "collapsed": false
   }
  },
  {
   "cell_type": "code",
   "execution_count": 18,
   "outputs": [
    {
     "name": "stdout",
     "output_type": "stream",
     "text": [
      "{'inf': 10000000000.0, 'err_max': 1e-12, 'err': 0.1, 'num_realizations': 5, 'convergence_tol': 0.0001, 'decision': 10, 'max_iter': 1000, 'verbose': True, 'flag_conv': 'log'}\n"
     ]
    }
   ],
   "source": [
    "from pgm.model.crep import CRep\n",
    "import time\n",
    "\n",
    "nodes = A[0].nodes()\n",
    "\n",
    "model = CRep()\n",
    "\n",
    "# Print all the attributes of the model\n",
    "print(model.__dict__)"
   ],
   "metadata": {
    "collapsed": false,
    "ExecuteTime": {
     "end_time": "2023-12-04T11:06:10.872758194Z",
     "start_time": "2023-12-04T11:06:10.431490951Z"
    }
   }
  },
  {
   "cell_type": "markdown",
   "source": [
    "Model created! Now, we can run the model using the `fit` method. As mentioned before, this method takes as input the data, and the configuration parameters."
   ],
   "metadata": {
    "collapsed": false
   }
  },
  {
   "cell_type": "code",
   "execution_count": 19,
   "outputs": [
    {
     "name": "stdout",
     "output_type": "stream",
     "text": [
      "\n",
      "### Run CRep ###\n",
      "eta is initialized randomly.\n",
      "u, v and w are initialized randomly.\n",
      "Updating realization 0 ...\n",
      "Nreal = 0 - Pseudo Log-likelihood = -20988.30573077476 - iterations = 100 - time = 0.28 seconds\n",
      "Nreal = 0 - Pseudo Log-likelihood = -20926.578289217818 - iterations = 200 - time = 0.54 seconds\n",
      "Nreal = 0 - Pseudo Log-likelihood = -20921.298815149363 - iterations = 300 - time = 0.8 seconds\n",
      "Nreal = 0 - Pseudo Log-likelihood = -20918.29123068266 - iterations = 400 - time = 1.07 seconds\n",
      "Nreal = 0 - Pseudo Log-likelihood = -20917.130041963468 - iterations = 500 - time = 1.33 seconds\n",
      "Nreal = 0 - Pseudo Log-likelihood = -20916.836494211893 - iterations = 600 - time = 1.6 seconds\n",
      "Nreal = 0 - Pseudo Log-likelihood = -20916.774912488054 - iterations = 700 - time = 1.86 seconds\n",
      "Nreal = 0 - Pseudo Log-likelihood = -20916.774960752904 - iterations = 721 - time = 1.92 seconds\n",
      "\n",
      "eta is initialized randomly.\n",
      "u, v and w are initialized randomly.\n",
      "Updating realization 1 ...\n",
      "Nreal = 1 - Pseudo Log-likelihood = -21361.677495765187 - iterations = 100 - time = 0.27 seconds\n",
      "Nreal = 1 - Pseudo Log-likelihood = -21343.22918142981 - iterations = 200 - time = 0.55 seconds\n",
      "Nreal = 1 - Pseudo Log-likelihood = -21335.932611399578 - iterations = 300 - time = 0.81 seconds\n",
      "Nreal = 1 - Pseudo Log-likelihood = -21333.814748491874 - iterations = 400 - time = 1.07 seconds\n",
      "Nreal = 1 - Pseudo Log-likelihood = -21332.15366559305 - iterations = 500 - time = 1.33 seconds\n",
      "Nreal = 1 - Pseudo Log-likelihood = -21331.781667155505 - iterations = 600 - time = 1.61 seconds\n",
      "Nreal = 1 - Pseudo Log-likelihood = -21331.74210450326 - iterations = 700 - time = 1.87 seconds\n",
      "Nreal = 1 - Pseudo Log-likelihood = -21331.736870168657 - iterations = 800 - time = 2.15 seconds\n",
      "Nreal = 1 - Pseudo Log-likelihood = -21331.10601946157 - iterations = 900 - time = 2.46 seconds\n",
      "Nreal = 1 - Pseudo Log-likelihood = -21331.10606006226 - iterations = 961 - time = 2.63 seconds\n",
      "\n",
      "eta is initialized randomly.\n",
      "u, v and w are initialized randomly.\n",
      "Updating realization 2 ...\n",
      "Nreal = 2 - Pseudo Log-likelihood = -21333.956687485785 - iterations = 100 - time = 0.27 seconds\n",
      "Nreal = 2 - Pseudo Log-likelihood = -21300.750449595263 - iterations = 200 - time = 0.55 seconds\n",
      "Nreal = 2 - Pseudo Log-likelihood = -21296.66941757183 - iterations = 300 - time = 0.82 seconds\n",
      "Nreal = 2 - Pseudo Log-likelihood = -21293.78939918855 - iterations = 400 - time = 1.08 seconds\n",
      "Nreal = 2 - Pseudo Log-likelihood = -21293.789260352212 - iterations = 500 - time = 1.34 seconds\n",
      "Nreal = 2 - Pseudo Log-likelihood = -21293.789268400677 - iterations = 501 - time = 1.35 seconds\n",
      "\n",
      "eta is initialized randomly.\n",
      "u, v and w are initialized randomly.\n",
      "Updating realization 3 ...\n",
      "Nreal = 3 - Pseudo Log-likelihood = -21913.126653951786 - iterations = 100 - time = 0.26 seconds\n",
      "Nreal = 3 - Pseudo Log-likelihood = -21857.843766394395 - iterations = 200 - time = 0.54 seconds\n",
      "Nreal = 3 - Pseudo Log-likelihood = -21855.818482750485 - iterations = 300 - time = 0.8 seconds\n",
      "Nreal = 3 - Pseudo Log-likelihood = -21850.910663047907 - iterations = 400 - time = 1.06 seconds\n",
      "Nreal = 3 - Pseudo Log-likelihood = -21850.888625629657 - iterations = 500 - time = 1.32 seconds\n",
      "Nreal = 3 - Pseudo Log-likelihood = -21850.88856955885 - iterations = 531 - time = 1.41 seconds\n",
      "\n",
      "eta is initialized randomly.\n",
      "u, v and w are initialized randomly.\n",
      "Updating realization 4 ...\n",
      "Nreal = 4 - Pseudo Log-likelihood = -22006.513150107185 - iterations = 100 - time = 0.28 seconds\n",
      "Nreal = 4 - Pseudo Log-likelihood = -21988.606026705544 - iterations = 200 - time = 0.55 seconds\n",
      "Nreal = 4 - Pseudo Log-likelihood = -21980.94068105182 - iterations = 300 - time = 0.81 seconds\n",
      "Nreal = 4 - Pseudo Log-likelihood = -21975.622469887363 - iterations = 400 - time = 1.09 seconds\n",
      "Nreal = 4 - Pseudo Log-likelihood = -21975.622439589362 - iterations = 500 - time = 1.35 seconds\n",
      "Nreal = 4 - Pseudo Log-likelihood = -21975.622428762847 - iterations = 501 - time = 1.36 seconds\n",
      "\n",
      "\n",
      "Inferred parameters saved in: /home/dtheuerkauf/toolkit/prob-gen-model-for-nets/doc/source/tutorials/CRep_output/theta_test.npz\n",
      "To load: theta=np.load(filename), then e.g. theta[\"u\"]\n",
      "\n",
      "Time elapsed: 8.67 seconds.\n"
     ]
    }
   ],
   "source": [
    "print(f'\\n### Run {algorithm} ###')\n",
    "time_start = time.time()\n",
    "_ = model.fit(data=B,\n",
    "              data_T=B_T,\n",
    "              data_T_vals=data_T_vals,\n",
    "              nodes=nodes,\n",
    "              **conf)\n",
    "\n",
    "print(f'\\nTime elapsed: {np.round(time.time() - time_start, 2)} seconds.')"
   ],
   "metadata": {
    "collapsed": false,
    "ExecuteTime": {
     "end_time": "2023-12-04T11:06:47.988614892Z",
     "start_time": "2023-12-04T11:06:39.317145405Z"
    }
   }
  },
  {
   "cell_type": "markdown",
   "source": [
    "## Analyzing the results\n",
    "Next, we will examine the outcomes produced by the model. To accomplish this, it is necessary to load the contents from the file `CRep_output/theta_CRep.npz.`"
   ],
   "metadata": {
    "collapsed": false
   }
  },
  {
   "cell_type": "code",
   "execution_count": 20,
   "outputs": [],
   "source": [
    "filename = Path('./CRep_output/theta_CRep.npz')\n",
    "theta = np.load(filename)"
   ],
   "metadata": {
    "collapsed": false,
    "ExecuteTime": {
     "end_time": "2023-12-04T11:06:51.552308103Z",
     "start_time": "2023-12-04T11:06:50.730903344Z"
    }
   }
  },
  {
   "cell_type": "markdown",
   "source": [
    "Once this is done, we can unpack the latent variables as follows:"
   ],
   "metadata": {
    "collapsed": false
   }
  },
  {
   "cell_type": "code",
   "execution_count": 21,
   "outputs": [],
   "source": [
    "u, v, w, eta = theta['u'], theta['v'], theta['w'], theta['eta']"
   ],
   "metadata": {
    "collapsed": false,
    "ExecuteTime": {
     "end_time": "2023-12-04T11:06:53.148136529Z",
     "start_time": "2023-12-04T11:06:53.139581358Z"
    }
   }
  },
  {
   "cell_type": "markdown",
   "source": [
    "As outlined in [1], the variables _u_ and _v_ characterize the in-coming and out-going memberships of the nodes in the graph. In this specific demonstration, it's important to recall that we configured the model parameter _K_, representing the number of communities, to be 3. Consequently, by examining the values of _u_ for each node in _G_, we can ascertain the probability that the respective node belongs to either the first, second, or third community."
   ],
   "metadata": {
    "collapsed": false
   }
  },
  {
   "cell_type": "code",
   "execution_count": 21,
   "outputs": [
    {
     "name": "stdout",
     "output_type": "stream",
     "text": [
      "The probability that the node 0 belongs to one of the communities is given as [0. 1. 0.]\n",
      "The probability that the node 1 belongs to one of the communities is given as [0.         0.66586587 0.33413413]\n",
      "The probability that the node 2 belongs to one of the communities is given as [0. 0. 1.]\n",
      "The probability that the node 3 belongs to one of the communities is given as [0.18678271 0.81321729 0.        ]\n",
      "The probability that the node 4 belongs to one of the communities is given as [0. 1. 0.]\n",
      "The probability that the node 5 belongs to one of the communities is given as [0.         0.59552389 0.40447611]\n",
      "The probability that the node 6 belongs to one of the communities is given as [0. 1. 0.]\n",
      "The probability that the node 7 belongs to one of the communities is given as [0. 0. 1.]\n",
      "The probability that the node 8 belongs to one of the communities is given as [0. 1. 0.]\n",
      "The probability that the node 9 belongs to one of the communities is given as [0. 0. 1.]\n"
     ]
    }
   ],
   "source": [
    "for idx, values in enumerate(u[:10]):  # Only for the 10 first nodes\n",
    "    print(f'The probability that the node {idx} belongs to one of the communities is given as {values}')"
   ],
   "metadata": {
    "collapsed": false,
    "ExecuteTime": {
     "end_time": "2023-12-01T10:18:29.232776865Z",
     "start_time": "2023-12-01T10:18:29.216655716Z"
    }
   }
  },
  {
   "cell_type": "markdown",
   "source": [
    "For more details about the meaning of the latent variables, we refer the user to the publication [1]. \n",
    "\n",
    "### References\n",
    "\n",
    "[1] Hadiseh Safdari, Martina Contisciani, Caterina De Bacco. “A generative model for reciprocity and community detection in networks.” _Phys. Rev. Research_ Vol 3, 023209, 2021."
   ],
   "metadata": {
    "collapsed": false
   }
  },
  {
   "cell_type": "code",
   "execution_count": null,
   "outputs": [],
   "source": [],
   "metadata": {
    "collapsed": false
   }
  }
 ],
 "metadata": {
  "kernelspec": {
   "display_name": "Python 3",
   "language": "python",
   "name": "python3"
  },
  "language_info": {
   "codemirror_mode": {
    "name": "ipython",
    "version": 2
   },
   "file_extension": ".py",
   "mimetype": "text/x-python",
   "name": "python",
   "nbconvert_exporter": "python",
   "pygments_lexer": "ipython2",
   "version": "2.7.6"
  }
 },
 "nbformat": 4,
 "nbformat_minor": 0
}
