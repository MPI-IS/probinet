{
 "cells": [
  {
   "cell_type": "markdown",
   "metadata": {},
   "source": [
    "# Tutorial: A beginner's guide to the Probabilistic Generative Models package using the `MTCOV` algorithm \n",
    "\n",
    "This tutorial demonstrates the application of the _Probabilistic Generative Models_ (`pgm`) package by executing the `MTCOV` algorithm on a sample dataset.  \n",
    "\n",
    "The `MTCOV` algorithm, an acronym for **M**ulti**t**ensor and **Cov**ariates, is a probabilistic generative model. It is specifically designed to perform community detection and broader inference in attributed multilayer networks. These networks are characterized by their enrichment with node and edge metadata."
   ]
  },
  {
   "cell_type": "markdown",
   "metadata": {},
   "source": [
    "## Package Structure\n",
    "Before explaining how to use the `MTCOV` algorithm, let's explore the structure of the `pgm` \n",
    "package, which is organized into four main modules.\n",
    "\n",
    "### 1. Input\n",
    "The `input` module handles data input for subsequent use by the algorithms in the `model` module. It comprises the following submodules:  \n",
    "\n",
    "- `loader`: Functions to load data from input files.  \n",
    "- `preprocessing`: Functions for data preprocessing, such as converting NetworkX graphs to sparse adjacency matrices.  \n",
    "- `tools`: Utility functions for working with matrices, tensors, and sparsity.  \n",
    "- `stats`: Functions for computing statistics on the data.  \n",
    "- `generate_networks`: Functions for generating synthetic networks.  \n",
    "\n",
    "In most cases where users have their own data, they typically use only the `loader` and `preprocessing` modules. The other modules serve as internal components supporting these primary functionalities. The `generate_networks` is instead utilized to generate synthetic networks.\n",
    "\n",
    "### 2. Model\n",
    "The `model` module encompasses the implementation of various algorithms, including the following submodules:  \n",
    "\n",
    "- `MTCOV`: Implementation of the `MTCOV` algorithm.\n",
    "- `CRep`: Implementation of the `CRep` algorithm.  \n",
    "- `JointCRep`: Implementation of the `JointCRep` algorithm. \n",
    "- `cv_CRep`: Cross-validation for the CRep algorithm.\n",
    "- `cv`: Implementation of the general cross-validation routine.  \n",
    "\n",
    "\n",
    "### 3. Output\n",
    "The `output` module contains functions responsible for handling the outputs of the models. It consists of the following submodules:\n",
    "\n",
    "- `evaluate`: Essential functions for computing quantities related to the model and its assessment, such as conditional and marginal expectations, the data log-likelihood, and the AUC for link prediction. \n",
    "- `plot`: Functions for visualizing the results and performance metrics of the models.\n",
    "\n",
    "### 4. Data\n",
    "The `data` module contains the data files used by the package. It consists of the following submodules:\n",
    "\n",
    "- `input`: Input data files.\n",
    "- `model`: Configuration files for the models."
   ]
  },
  {
   "cell_type": "markdown",
   "metadata": {},
   "source": "Having explored the package structure, let's see how to use it to run the `MTCOV` algorithm."
  },
  {
   "cell_type": "markdown",
   "metadata": {},
   "source": [
    "## Configuration\n",
    "Let's start by configuring the algorithm and the parameters needed. The pipeline works based on two types of parameters:\n",
    "\n",
    "**Numerical Parameters:** These are operational parameters that control the execution of the algorithm. They are not directly related to the model's theoretical framework but are crucial for its practical implementation. Examples include:\n",
    "\n",
    "- **Convergence tolerance (convergence_tol):** This is a threshold used to determine when the algorithm has converged, i.e., when the changes in the model's likelihood or parameters between iterations are small enough to consider the model as having reached its final state.\n",
    "\n",
    "- **Maximum number of iterations (max_iter):** This is the maximum number of times the algorithm will update the model's parameters. If the model hasn't converged by this point, the algorithm will stop anyway.\n",
    "\n",
    "- **Number of realizations (num_realizations):** In the context of the `MTCOV` algorithm, this refers to the number of times the entire process (initialization and iterative updates) is repeated. The algorithm will then return the best realization, that is, for instance, the one with the highest likelihood upon convergence. This is done to account for the randomness in the initialization step and to ensure a more robust final model. \n",
    "\n",
    "These are set by default in the model's class definition, but they can be changed by the user.\n",
    "\n",
    "**Model parameters:**  These are parameters that are part of the model's theoretical framework. They have a direct impact on the model's behavior and the results it produces. Examples include:\n",
    "\n",
    "- **Number of communities (K)**: This is a fundamental parameter of the `MTCOV` algorithm. It determines the number of communities the algorithm will try to find in the network. Each node in the network will be assigned to one of these communities, at least.\n",
    "\n",
    "- **Scaling parameter (gamma)**: This is another fundamental parameter of the `MTCOV` algorithm. \n",
    "It controls the relative contribution of the two terms in the likelihood, which accounts for network topology and node covariates, respectively. When `gamma=0`, the inference is performed by analyzing the data purely in terms of the network topology. Vice versa, when `gamma=1`, the algorithm only uses the attribute information.\n",
    "\n",
    "These are set by the user in the configuration file corresponding to the used model. In the case of the `MTCOV` algorithm, this file is `setting_MTCOV.yaml`.  \n",
    "\n",
    "Notice that the data is not a parameter, but an input to the algorithm, hence, it is not included in the default configuration of the class nor in the configuration file. This will be shown later in the tutorial."
   ]
  },
  {
   "cell_type": "markdown",
   "metadata": {},
   "source": [
    "As a first step, let's configure the logger to show the information about the execution of the algorithm."
   ]
  },
  {
   "cell_type": "code",
   "metadata": {
    "ExecuteTime": {
     "end_time": "2024-04-24T12:36:18.723473Z",
     "start_time": "2024-04-24T12:36:18.706902Z"
    }
   },
   "source": [
    "# Import the logging module\n",
    "import logging\n",
    "\n",
    "# Get the root logger and set its level to INFO\n",
    "logging.getLogger().setLevel(logging.INFO)"
   ],
   "outputs": [],
   "execution_count": 1
  },
  {
   "cell_type": "code",
   "metadata": {
    "ExecuteTime": {
     "end_time": "2024-04-24T12:36:18.928341Z",
     "start_time": "2024-04-24T12:36:18.739898Z"
    }
   },
   "source": [
    "from pathlib import Path\n",
    "\n",
    "import numpy as np\n",
    "import yaml"
   ],
   "outputs": [],
   "execution_count": 2
  },
  {
   "cell_type": "markdown",
   "metadata": {},
   "source": [
    "Let's start by loading the configuration file for the `MTCOV` algorithm. This file is located in \n",
    "the `pgm/data/model` folder. "
   ]
  },
  {
   "cell_type": "code",
   "metadata": {
    "ExecuteTime": {
     "end_time": "2024-04-24T12:36:18.937638Z",
     "start_time": "2024-04-24T12:36:18.932266Z"
    }
   },
   "source": [
    "# Set the algorithm to 'MTCOV'\n",
    "algorithm = \"MTCOV\"\n",
    "\n",
    "# Define the path to the configuration file for the `MTCOV` algorithm\n",
    "config_path = \"setting_\" + algorithm + \".yaml\""
   ],
   "outputs": [],
   "execution_count": 3
  },
  {
   "cell_type": "markdown",
   "metadata": {},
   "source": [
    "We load the configuration file using the data files in the `pgm` package instead of a relative path to it."
   ]
  },
  {
   "cell_type": "code",
   "metadata": {
    "ExecuteTime": {
     "end_time": "2024-04-24T12:36:20.501325Z",
     "start_time": "2024-04-24T12:36:20.488047Z"
    }
   },
   "source": [
    "# Import the `open_binary` function from the `importlib.resources` module\n",
    "# This function is used to open a binary file included in a package\n",
    "from importlib.resources import open_binary\n",
    "\n",
    "# Open the configuration file for the `MTCOV` algorithm\n",
    "# The `open_binary` function takes two arguments:\n",
    "# - The name of the package where the file is located (`pgm.data.model`)\n",
    "# - The name of the file to open (`config_path`)\n",
    "# The function returns a binary file object, which is opened in read mode\n",
    "with open_binary(\"pgm.data.model\", config_path) as fp:\n",
    "    # Load the content of the configuration file into a dictionary\n",
    "    # The `load` function from the `yaml` module is used to\n",
    "    # convert the data from a YAML formatted string into a Python dictionary.\n",
    "    # The `Loader=yaml.Loader` argument specifies the loader class to use for\n",
    "    # loading the data.\n",
    "    conf = yaml.load(fp, Loader=yaml.Loader)"
   ],
   "outputs": [],
   "execution_count": 4
  },
  {
   "cell_type": "code",
   "metadata": {
    "ExecuteTime": {
     "end_time": "2024-04-24T12:36:21.693223Z",
     "start_time": "2024-04-24T12:36:21.684435Z"
    }
   },
   "source": [
    "# Print the configuration file\n",
    "print(yaml.dump(conf))"
   ],
   "outputs": [
    {
     "name": "stdout",
     "output_type": "stream",
     "text": [
      "K: 2\n",
      "assortative: false\n",
      "end_file: _MTCOV\n",
      "files: ../data/input/theta.npz\n",
      "gamma: 0.5\n",
      "initialization: 0\n",
      "out_folder: outputs/\n",
      "out_inference: true\n",
      "rseed: 107261\n",
      "\n"
     ]
    }
   ],
   "execution_count": 5
  },
  {
   "cell_type": "markdown",
   "metadata": {},
   "source": [
    "The previous file shows the parameters actually needed to _run_ the model. These parameters set the algorithm basic needs to work.  \n",
    "\n",
    " "
   ]
  },
  {
   "cell_type": "markdown",
   "metadata": {},
   "source": [
    "Now, let's change the path to the output folder, so we can save the results into the same folder where this notebook is. "
   ]
  },
  {
   "cell_type": "code",
   "execution_count": 82,
   "metadata": {
    "ExecuteTime": {
     "end_time": "2024-04-04T09:04:33.806198Z",
     "start_time": "2024-04-04T09:04:33.800481Z"
    }
   },
   "outputs": [],
   "source": [
    "# Set the output folder for the `MTCOV` algorithm\n",
    "# The output folder is set to the current directory, with\n",
    "# the folder name being the algorithm name followed by '_output/'\n",
    "conf[\"out_folder\"] = \"./tutorial_outputs/\" + algorithm\n",
    "\n",
    "# Set the end file for the `MTCOV` algorithm\n",
    "# The end file is set to be '_' followed by the algorithm name\n",
    "conf[\"end_file\"] = \"_\" + algorithm"
   ]
  },
  {
   "cell_type": "code",
   "execution_count": 83,
   "metadata": {
    "ExecuteTime": {
     "end_time": "2024-04-04T09:04:33.825514Z",
     "start_time": "2024-04-04T09:04:33.821168Z"
    }
   },
   "outputs": [],
   "source": [
    "# Define the output folder\n",
    "out_folder = Path(conf[\"out_folder\"])\n",
    "\n",
    "# Ensure the output folder exists\n",
    "out_folder.mkdir(parents=True, exist_ok=True)"
   ]
  },
  {
   "cell_type": "markdown",
   "metadata": {},
   "source": [
    "Finally, let's save this configuration file to the output folder, so we can keep track of the parameters used to run the model."
   ]
  },
  {
   "cell_type": "code",
   "execution_count": 84,
   "metadata": {
    "ExecuteTime": {
     "end_time": "2024-04-04T09:04:33.885762Z",
     "start_time": "2024-04-04T09:04:33.877173Z"
    }
   },
   "outputs": [],
   "source": [
    "# Define the path for the output configuration file\n",
    "# The output configuration file is located in the output folder for\n",
    "# the `MTCOV` algorithm.\n",
    "# The file name is 'setting_' followed by the algorithm name with\n",
    "# a '.yaml' extension.\n",
    "output_config_path = conf[\"out_folder\"] + \"/setting_\" + algorithm + \".yaml\"\n",
    "\n",
    "# Open the output configuration file in write mode\n",
    "with open(output_config_path, \"w\") as f:\n",
    "    # Write the contents of the `conf` dictionary to the file\n",
    "    # The `dump` function from the `yaml` module is used to convert\n",
    "    # the data from a Python dictionary into a YAML formatted string.\n",
    "    # The `f` argument specifies the file object where the\n",
    "    # data should be written.\n",
    "    yaml.dump(conf, f)"
   ]
  },
  {
   "cell_type": "markdown",
   "metadata": {},
   "source": [
    "## Importing Data\n",
    "Once the configuration file is set, we can import the data. \n",
    "Now, let's import the data using the `pgm` package."
   ]
  },
  {
   "cell_type": "code",
   "execution_count": 96,
   "metadata": {
    "ExecuteTime": {
     "end_time": "2024-04-04T09:04:58.939679Z",
     "start_time": "2024-04-04T09:04:57.980580Z"
    }
   },
   "outputs": [
    {
     "name": "stderr",
     "output_type": "stream",
     "text": [
      "INFO:root:Number of nodes = 300\n",
      "INFO:root:Number of layers = 4\n"
     ]
    }
   ],
   "source": [
    "from pgm.input.loader import import_data_mtcov\n",
    "\n",
    "# Define the names of the columns in the input file that\n",
    "# represent the source and target nodes of each edge.\n",
    "ego = \"source\"\n",
    "alter = \"target\"\n",
    "egoX = \"Name\"\n",
    "\n",
    "# Set the `force_dense` flag to False\n",
    "# This flag determines whether the adjacency matrices\n",
    "# should be stored as dense matrices.\n",
    "# If set to False, the adjacency matrices will be stored\n",
    "# as sparse matrices, which is more memory-efficient\n",
    "# for large networks with few edges.\n",
    "force_dense = False\n",
    "\n",
    "# Get the absolute path of the root directory of the project\n",
    "root_dir = Path.cwd().parent.parent.parent.resolve()\n",
    "\n",
    "# Define the path to the input folder\n",
    "in_folder = str(root_dir / \"pgm/data/input/\")\n",
    "\n",
    "# Define the name of the network file\n",
    "adj_name = \"adj.csv\"\n",
    "\n",
    "# Define the name of the covariates file\n",
    "cov_name = \"X.csv\"\n",
    "\n",
    "# Define the attribute name\n",
    "attr_name = \"Metadata\"\n",
    "\n",
    "# Flag to treat the network as undirected\n",
    "undirected = False\n",
    "\n",
    "# Call the `import_data_mtcov` function to load the data from the input file\n",
    "# The function takes several arguments:\n",
    "# - in_folder: the path to the data\n",
    "# - adj_name: the name of the file with the adjacency matrix\n",
    "# - cov_name: the name of the file with the design matrix\n",
    "# - ego: the name of the column that references the node in one extreme of the directed edge\n",
    "# - alter: the name of the column that references the other node\n",
    "# - attr_name: name of the attribute to consider in the analysis\n",
    "# - undirected: the flag that signals if the network is undirected\n",
    "# - force_dense: if set to True, the algorithm is forced to consider a dense adjacency tensor\n",
    "# - noselfloop : if set to True, the algorithm removes the self-loops\n",
    "\n",
    "A, B, X, nodes = import_data_mtcov(\n",
    "    in_folder,\n",
    "    adj_name=adj_name,\n",
    "    cov_name=cov_name,\n",
    "    ego=ego,\n",
    "    alter=alter,\n",
    "    egoX=egoX,\n",
    "    attr_name=attr_name,\n",
    "    undirected=undirected,\n",
    "    force_dense=force_dense,\n",
    "    noselfloop=True,\n",
    ")"
   ]
  },
  {
   "cell_type": "markdown",
   "metadata": {},
   "source": [
    "The previous call to `import_data_mtcov` loads the data from the input folder, and returns the \n",
    "following:\n",
    "\n",
    "- `A`: A list of MultiGraph (or MultiDiGraph if `undirected=False`) NetworkX objects\n",
    "- `B`: The adjacency tensor describing the graphs in `A`\n",
    "- `X`: A pandas DataFrame object representing the one-hot encoding version of the design matrix\n",
    "- `nodes`: A list of the nodes in the graph\n",
    "    "
   ]
  },
  {
   "cell_type": "markdown",
   "metadata": {},
   "source": [
    "To get some information about the data, we can call the `print_graph_stat` function from the `input.stats` module."
   ]
  },
  {
   "cell_type": "code",
   "execution_count": 86,
   "metadata": {
    "scrolled": true,
    "ExecuteTime": {
     "end_time": "2024-04-04T09:04:35.192737Z",
     "start_time": "2024-04-04T09:04:35.072432Z"
    }
   },
   "outputs": [
    {
     "name": "stderr",
     "output_type": "stream",
     "text": [
      "INFO:root:Number of edges and average degree in each layer:\n",
      "INFO:root:E[0] = 1294 - <k> = 8.627\n",
      "INFO:root:Sparsity [0] = 0.014\n",
      "INFO:root:Reciprocity (networkX) = 0.028\n",
      "INFO:root:E[1] = 1340 - <k> = 8.933\n",
      "INFO:root:Sparsity [1] = 0.015\n",
      "INFO:root:Reciprocity (networkX) = 0.021\n",
      "INFO:root:E[2] = 724 - <k> = 4.827\n",
      "INFO:root:Sparsity [2] = 0.008\n",
      "INFO:root:Reciprocity (networkX) = 0.03\n",
      "INFO:root:E[3] = 742 - <k> = 4.947\n",
      "INFO:root:Sparsity [3] = 0.008\n",
      "INFO:root:Reciprocity (networkX) = 0.003\n"
     ]
    }
   ],
   "source": [
    "from pgm.input.stats import print_graph_stat\n",
    "\n",
    "# Call the `print_graph_stat` function to print the basic\n",
    "# statistics of the graphs in the list `A`.\n",
    "# The function takes one argument:\n",
    "# - A list of NetworkX graphs ('A')\n",
    "print_graph_stat(A)"
   ]
  },
  {
   "cell_type": "markdown",
   "metadata": {},
   "source": [
    "Let's now show the adjacency matrix of one of the four layers."
   ]
  },
  {
   "cell_type": "code",
   "execution_count": 87,
   "metadata": {
    "ExecuteTime": {
     "end_time": "2024-04-04T09:04:35.206409Z",
     "start_time": "2024-04-04T09:04:35.194530Z"
    }
   },
   "outputs": [],
   "source": [
    "import networkx as nx\n",
    "\n",
    "# Get the first graph\n",
    "graph = A[0]\n",
    "\n",
    "# Get the adjacency matrix\n",
    "adjacency_matrix = nx.adjacency_matrix(graph)"
   ]
  },
  {
   "cell_type": "code",
   "execution_count": 88,
   "metadata": {
    "ExecuteTime": {
     "end_time": "2024-04-04T09:04:35.575136Z",
     "start_time": "2024-04-04T09:04:35.208724Z"
    }
   },
   "outputs": [
    {
     "data": {
      "text/plain": "<matplotlib.colorbar.Colorbar at 0x793137012f20>"
     },
     "execution_count": 88,
     "metadata": {},
     "output_type": "execute_result"
    },
    {
     "data": {
      "text/plain": "<Figure size 640x480 with 2 Axes>",
      "image/png": "[encoded data removed]"
     },
     "metadata": {},
     "output_type": "display_data"
    }
   ],
   "source": [
    "# Import the `pyplot` module from `matplotlib` for creating\n",
    "# static, animated, and interactive visualizations in Python.\n",
    "import matplotlib.pyplot as plt\n",
    "\n",
    "# Display the reshaped adjacency matrix `B_reshaped` as an image\n",
    "# The `imshow` function from the `pyplot` module is used to\n",
    "# display data as an image.\n",
    "# The `cmap` argument specifies the colormap to use for the image\n",
    "# The `interpolation` argument specifies the interpolation method\n",
    "# to use when resizing the image.\n",
    "plt.imshow(adjacency_matrix.toarray(), cmap=\"Greys\", interpolation=\"none\")\n",
    "\n",
    "# Add a color bar to the plot for reference\n",
    "# The colors in the color bar correspond to the values in the image:\n",
    "# black for 1, meaning a connection, and white for 0, meaning no connection.\n",
    "plt.colorbar()"
   ]
  },
  {
   "cell_type": "markdown",
   "metadata": {},
   "source": [
    "As we can see in the matrix, the network is not fully connected, i.e., there are nodes that are not \n",
    "connected to any other node. This is a common characteristic of real-world networks. More \n",
    "importantly, we can see that the network has two main clusters of nodes, which are represented by the two regions more densely connected. These are the communities that the `MTCOV` algorithm will try to detect."
   ]
  },
  {
   "cell_type": "markdown",
   "metadata": {},
   "source": [
    "## Running the Model\n",
    "Finally, we are ready to run the `MTCOV` model! The way this works is in a two-step process: <br>\n",
    "i) first, we call the `MTCOV` class, which initializes the model; <br>\n",
    "ii) then, we call the `fit` method, which runs the algorithm. "
   ]
  },
  {
   "cell_type": "code",
   "execution_count": 89,
   "metadata": {
    "ExecuteTime": {
     "end_time": "2024-04-04T09:04:35.583285Z",
     "start_time": "2024-04-04T09:04:35.577174Z"
    }
   },
   "outputs": [
    {
     "name": "stdout",
     "output_type": "stream",
     "text": [
      "{'inf': 10000000000.0, 'err_max': 1e-07, 'err': 0.1, 'num_realizations': 1, 'convergence_tol': 0.0001, 'decision': 10, 'max_iter': 500, 'plot_loglik': False, 'flag_conv': 'log'}\n"
     ]
    }
   ],
   "source": [
    "# Import the `MTCOV` class from the `pgm.model.mtcov` module\n",
    "# This class is used to create an instance of the `MTCOV` algorithm\n",
    "from pgm.model.mtcov import MTCOV\n",
    "\n",
    "# Import the `time` module\n",
    "# This module provides various time-related functions\n",
    "import time\n",
    "\n",
    "# Create an instance of the `MTCOV` class\n",
    "# The `MTCOV` class takes no arguments, unless the user wants\n",
    "# to change the default of the numerical parameters.\n",
    "model = MTCOV()\n",
    "\n",
    "# Print all the attributes of the `MTCOV` instance\n",
    "# The `__dict__` attribute of an object is a dictionary containing\n",
    "# the object's attributes.\n",
    "# These correspond to the numerical parameters\n",
    "print(model.__dict__)"
   ]
  },
  {
   "cell_type": "markdown",
   "metadata": {},
   "source": [
    "Model created! Now, we can run the model using the `fit` method. As mentioned before, this method takes as input the data, and the configuration parameters."
   ]
  },
  {
   "cell_type": "code",
   "execution_count": 90,
   "metadata": {
    "ExecuteTime": {
     "end_time": "2024-04-04T09:04:37.833144Z",
     "start_time": "2024-04-04T09:04:35.585806Z"
    }
   },
   "outputs": [
    {
     "name": "stdout",
     "output_type": "stream",
     "text": [
      "\n",
      "### Run MTCov ###\n"
     ]
    },
    {
     "name": "stderr",
     "output_type": "stream",
     "text": [
      "INFO:root:Inferred parameters saved in: /home/dtheuerkauf/software-workshop/prob-gen-model-for-nets/doc/source/tutorials/tutorial_outputs/MTCov/theta_MTCov.npz\n",
      "INFO:root:To load: theta=np.load(filename), then e.g. theta[\"u\"]\n"
     ]
    },
    {
     "name": "stdout",
     "output_type": "stream",
     "text": [
      "\n",
      "Time elapsed: 2.23 seconds.\n"
     ]
    }
   ],
   "source": [
    "# Print a message indicating the start of the `MTCOV` algorithm\n",
    "print(f\"\\n### Run {algorithm} ###\")\n",
    "\n",
    "# Get the current time\n",
    "time_start = time.time()\n",
    "\n",
    "# Run the `MTCOV` model\n",
    "# The `fit` method of the `MTCOV` class takes several arguments:\n",
    "# - data: The adjacency tensor\n",
    "# - data_X: The covariate matrix\n",
    "# - nodes: The list of nodes in the graph\n",
    "\n",
    "_ = model.fit(data=B, data_X=np.array(X), nodes=nodes, **conf)\n",
    "\n",
    "# Print the time elapsed since the start of the `MTCOV` algorithm\n",
    "print(f\"\\nTime elapsed: {np.round(time.time() - time_start, 2)} seconds.\")"
   ]
  },
  {
   "cell_type": "markdown",
   "metadata": {},
   "source": [
    "Done! The final state of the model is not returned, but it is saved to the output folder."
   ]
  },
  {
   "cell_type": "markdown",
   "metadata": {},
   "source": [
    "## Analyzing the results\n",
    "Next, we will examine the outcomes produced by the model. To do this, it is necessary to load the\n",
    " contents from the file `MTCOV_output/theta_MTCOV.npz.`"
   ]
  },
  {
   "cell_type": "code",
   "execution_count": 91,
   "metadata": {
    "ExecuteTime": {
     "end_time": "2024-04-04T09:04:37.842199Z",
     "start_time": "2024-04-04T09:04:37.835731Z"
    }
   },
   "outputs": [],
   "source": [
    "# Define the path to the file containing the results of the `MTCOV` model\n",
    "# The file is located in the 'MTCOV_output' folder and has a '.npz' extension\n",
    "filename = conf[\"out_folder\"] + \"/theta_\" + algorithm + \".npz\"\n",
    "\n",
    "# Load the contents of the file into a dictionary\n",
    "theta = np.load(filename)"
   ]
  },
  {
   "cell_type": "markdown",
   "metadata": {},
   "source": [
    "Once this is done, we can unpack the latent variables."
   ]
  },
  {
   "cell_type": "code",
   "execution_count": 92,
   "metadata": {
    "ExecuteTime": {
     "end_time": "2024-04-04T09:04:37.853840Z",
     "start_time": "2024-04-04T09:04:37.844366Z"
    }
   },
   "outputs": [],
   "source": [
    "# Unpack the latent variables from the results of the `MTCOV` model\n",
    "# The `u` variable represents the out-going memberships of the\n",
    "# nodes in the graph.\n",
    "# The `v` variable represents the in-coming memberships of the\n",
    "# nodes in the graph.\n",
    "# The `w` variable represents the affinity of the communities\n",
    "# for each layer.\n",
    "# The `beta` variable represents the relationships between\n",
    "# communities and covariates.\n",
    "u, v, w, beta = theta[\"u\"], theta[\"v\"], theta[\"w\"], theta[\"beta\"]"
   ]
  },
  {
   "cell_type": "markdown",
   "metadata": {},
   "source": [
    "As outlined in [1], `MTCOV` assumes a mixed-membership community structure, which means that \n",
    "every node can belong to more than one community with a different strength. The variables `u` and `v` are $N\\times K$ membership matrices that represent the out-going and in-coming node memberships, respectively. In this specific demonstration, it's important to recall that we configured the model parameter `K`, representing the number of communities, to be $2$. Consequently, by examining the values of `u` for each node, we expect to obtain vector of length two, where the first entry is the probability of node $i$ to belong to community $1$ and the second one represents the probability to belong to community $2$."
   ]
  },
  {
   "cell_type": "code",
   "execution_count": 93,
   "metadata": {
    "ExecuteTime": {
     "end_time": "2024-04-04T09:04:37.866419Z",
     "start_time": "2024-04-04T09:04:37.856277Z"
    }
   },
   "outputs": [
    {
     "name": "stdout",
     "output_type": "stream",
     "text": [
      "The probability that the node 0 belongs to the two communities is: [0.00163062 0.99836938]\n",
      "The probability that the node 1 belongs to the two communities is: [0. 1.]\n",
      "The probability that the node 2 belongs to the two communities is: [0. 1.]\n",
      "The probability that the node 3 belongs to the two communities is: [0. 1.]\n",
      "The probability that the node 4 belongs to the two communities is: [0. 1.]\n",
      "The probability that the node 5 belongs to the two communities is: [0.06063502 0.93936498]\n",
      "The probability that the node 6 belongs to the two communities is: [0. 1.]\n",
      "The probability that the node 7 belongs to the two communities is: [0. 1.]\n",
      "The probability that the node 8 belongs to the two communities is: [0.06281463 0.93718537]\n",
      "The probability that the node 9 belongs to the two communities is: [0. 1.]\n"
     ]
    }
   ],
   "source": [
    "# Iterate over the first 10 nodes in the graph\n",
    "for idx, values in enumerate(u[:10]):\n",
    "    # Print the probability that the node belongs to the two communities\n",
    "    print(\n",
    "        f\"The probability that the node {idx} belongs to the two communities is: {values}\"\n",
    "    )"
   ]
  },
  {
   "cell_type": "markdown",
   "metadata": {},
   "source": [
    "To visualize the hard-membership for the out-going case, we can assign each node to the community with the highest probability in `u`. We can then print the community assignments for the first $10$ nodes."
   ]
  },
  {
   "cell_type": "code",
   "execution_count": 94,
   "metadata": {
    "scrolled": true,
    "ExecuteTime": {
     "end_time": "2024-04-04T09:04:37.881302Z",
     "start_time": "2024-04-04T09:04:37.871279Z"
    }
   },
   "outputs": [
    {
     "name": "stdout",
     "output_type": "stream",
     "text": [
      "Some nodes in community 1:\n",
      "[150 151 152 153 154 155 156 157 158 159]\n",
      "\n",
      "Some nodes in community 2:\n",
      "[0 1 2 3 4 5 6 7 8 9]\n"
     ]
    }
   ],
   "source": [
    "# Calculate the hard-membership for the out-going case\n",
    "u_hard = np.argmax(u, axis=1)\n",
    "\n",
    "# Get the indices of nodes in community 1 and community 2\n",
    "community1_nodes = np.where(u_hard == 0)[0]  # Community 1 corresponds to index 0\n",
    "community2_nodes = np.where(u_hard == 1)[0]  # Community 2 corresponds to index 1\n",
    "\n",
    "# Print some nodes from community 1\n",
    "print(\"Some nodes in community 1:\")\n",
    "print(community1_nodes[:10])\n",
    "\n",
    "# Print some nodes from community 2\n",
    "print(\"\\nSome nodes in community 2:\")\n",
    "print(community2_nodes[0:10])"
   ]
  },
  {
   "cell_type": "markdown",
   "metadata": {},
   "source": [
    "We have learned this way to assign each node to a community, using the results given by the \n",
    "`MTCOV` algorithm. For a more graphical approach, we invite the reader to see the tutorial on the \n",
    "[`JointCRep` algorithm](./JointCRep.ipynb), where we show how to plot the communities in the \n",
    "network."
   ]
  },
  {
   "cell_type": "markdown",
   "metadata": {},
   "source": [
    "In addition to investigate the node memberships, we can interpret the relationships between the inferred communities and the node covariate through the variable `beta`. As outlined in [1], `beta` is a $K\\times Z$ dimensional matrix, where $Z$ denotes the total number of different categories of the node attribute. In this example, the attribute Metadata has $2$ categories. Then, every row $k$ of the beta matrix denotes how much information of the different categories is used to create the $k$-th community. Also, this variable is normalized such that every row sums to $1$."
   ]
  },
  {
   "cell_type": "code",
   "execution_count": 95,
   "metadata": {
    "ExecuteTime": {
     "end_time": "2024-04-04T09:04:38.288062Z",
     "start_time": "2024-04-04T09:04:37.884066Z"
    }
   },
   "outputs": [
    {
     "data": {
      "text/plain": "<matplotlib.colorbar.Colorbar at 0x79312f372ce0>"
     },
     "execution_count": 95,
     "metadata": {},
     "output_type": "execute_result"
    },
    {
     "data": {
      "text/plain": "<Figure size 640x480 with 2 Axes>",
      "image/png": "[encoded data removed]"
     },
     "metadata": {},
     "output_type": "display_data"
    }
   ],
   "source": [
    "plt.imshow(beta, cmap=\"Greys\", interpolation=\"none\", vmin=0, vmax=1)\n",
    "\n",
    "plt.xticks([0, 1], [\"Metadata 0\", \"Metadata 1\"])\n",
    "plt.yticks([0, 1], [\"Community 0\", \"Community 1\"])\n",
    "\n",
    "plt.colorbar()"
   ]
  },
  {
   "cell_type": "markdown",
   "metadata": {},
   "source": [
    "Through this plot, we can infer that community $0$ is mainly related to nodes with Metadata $0$, while community $1$ groups together primarily nodes with attribute Metadata $1$."
   ]
  },
  {
   "cell_type": "markdown",
   "metadata": {},
   "source": [
    "For more details about the meaning of the latent variables, we refer the user to the publication [1]. And, for a tutorial on how to generate networks that follow a particular probabilistic model, \n",
    "please check the notebook [`CRep` algorithm](./CRep.ipynb)."
   ]
  },
  {
   "cell_type": "markdown",
   "metadata": {},
   "source": [
    "## Summary\n",
    "\n",
    "This tutorial provides a comprehensive guide on using the Probabilistic Generative Models (`pgm`) package, specifically focusing on the `MTCOV` algorithm. The `MTCOV` \n",
    "algorithm is a probabilistic generative model used for network analysis, designed to detect \n",
    "communities within a multilayer network where node attributes are considered.\n",
    "\n",
    "The tutorial begins by explaining the structure of the `pgm` package, which is organized into four main modules: `input`, `model`, `output`, and `data`. Each module has its own submodules and functionalities.\n",
    "\n",
    "The tutorial then proceeds to demonstrate how to configure the `MTCOV` algorithm using a YAML \n",
    "configuration file. It shows how to load the configuration file, modify the output folder path, and save the updated configuration.\n",
    "\n",
    "Next, the tutorial guides the user on how to import data using the `pgm` package. It demonstrates how to load data from an input file and print basic statistics of the loaded data. It also shows how to visualize the adjacency matrix of the network.\n",
    "\n",
    "The tutorial then explains how to run the `MTCOV` model. It demonstrates how to create an \n",
    "instance of the `MTCOV` class and run the model using the `fit` method.\n",
    "\n",
    "Finally, the tutorial shows how to analyze the results produced by the model. It explains how to load the results from a file, unpack the latent variables, and calculate the hard membership for the out-going case. It also shows how to interpret the relationships between communities and attribute categories. It concludes by referring the user to other tutorials for additional visualizations and functionalities, and to the publication where `MTCOV` was presented for more details about the meaning of the latent variables.\n",
    "\n",
    "## References\n",
    "\n",
    "[1] Contisciani, M., Power, E. A., & De Bacco, C. (2020). Community detection with node \n",
    "attributes in multilayer networks. _Scientific reports_, 10(1), 15736."
   ]
  }
 ],
 "metadata": {
  "jupytext": {
   "formats": "ipynb,md"
  },
  "kernelspec": {
   "display_name": "Python 3",
   "language": "python",
   "name": "python3"
  },
  "language_info": {
   "codemirror_mode": {
    "name": "ipython",
    "version": 3
   },
   "file_extension": ".py",
   "mimetype": "text/x-python",
   "name": "python",
   "nbconvert_exporter": "python",
   "pygments_lexer": "ipython3",
   "version": "3.10.11"
  }
 },
 "nbformat": 4,
 "nbformat_minor": 1
}
