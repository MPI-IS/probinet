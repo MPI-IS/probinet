{
 "cells": [
  {
   "cell_type": "markdown",
   "metadata": {},
   "source": [
    "# A Beginner's Guide to the `MTCOV` Algorithm in the `probinet` Package\n",
    "\n",
    "In this tutorial, we demonstrate how to use the _Probabilistic Generative Models_ (`probinet`) package to\n",
    " run the `MTCOV` algorithm on a sample dataset.\n",
    "\n",
    "The `MTCOV` (**M**ulti**t**ensor and **Cov**ariates) algorithm is a \n",
    "probabilistic generative model designed to perform community detection and broader inference in \n",
    "attributed multilayer networks, which are networks enriched with node and edge metadata  {cite}`contisciani2020community`."
   ]
  },
  {
   "cell_type": "markdown",
   "metadata": {},
   "source": [
    "## Package Structure\n",
    "Before explaining how to use the `MTCOV` algorithm, let's explore the structure of the `probinet` package, which is organized into several main modules.\n",
    "\n",
    "### 1. Input\n",
    "The `input` module handles data input for subsequent use by the algorithms in the `model` module. It comprises the following submodules:\n",
    "\n",
    "- `loader`: Functions to load data from input files.\n",
    "- `preprocessing`: Functions for data preprocessing, such as converting NetworkX graphs to sparse adjacency matrices.\n",
    "- `stats`: Functions for computing statistics on the data.\n",
    "\n",
    "### 2. Models\n",
    "The `models` module contains the implementation of various algorithms, including the following\n",
    " submodules:\n",
    "\n",
    "- `crep`: Implementation of the `CRep` algorithm.\n",
    "- `jointcrep`: Implementation of the `JointCRep` algorithm.\n",
    "- `dyncrep`: Implementation of the `DynCRep` algorithm.\n",
    "- `mtcov`: Implementation of the `MTCOV` algorithm.\n",
    "- `acd`: Implementation of the `AnomalyCommunityDetection` algorithm.\n",
    "- `base`: Base classes and utilities for the models.\n",
    "- `constants`: Constants used across the models.\n",
    "- `classes`: Classes used across the models.\n",
    "\n",
    "### 3. Evaluation\n",
    "The `evaluation` module contains functions responsible for handling the outputs of the models. It\n",
    "consists of the following submodules:\n",
    "\n",
    "- `community_detection`: Functions to evaluate the performance of community detection algorithms.\n",
    "- `expectation_computation`: Functions  for computing expectations and related metrics.\n",
    "- `likelihood`: Functions for computing the likelihood of the model given the data.\n",
    "- `link_prediction`: Functions for evaluating link prediction algorithms.\n",
    "\n",
    "### 4. Synthetic\n",
    "The `synthetic` module contains functions to generate synthetic data. It consists of the following submodules:\n",
    "\n",
    "- `base`: Create a synthetic, directed, and weighted network (possibly multilayer) by a standard\n",
    "mixed-membership stochastic block-model.\n",
    "- `reciprocity`: Generate a directed, possibly weighted, network with reciprocity.\n",
    "- `dynamic`: Create synthetic networks that change over time.\n",
    "- `anomaly`: Generation of synthetic networks with anomalies.\n",
    "- `multilayer`: Generate synthetic multilayer networks.\n",
    "\n",
    "An example of how to use the `reciprocity` submodule is shown in the tutorial on the `CRep` algorithm.\n",
    "\n",
    "### 5. Model Selection\n",
    "The `model_selection` module contains functions for model selection and cross-validation. It consists of the following submodules:\n",
    "\n",
    "- `parameter_search`: Functions for searching model parameters.\n",
    "- `cross_validation`: Functions for performing cross-validation.\n",
    "- `mtcov_cross_validation`: Cross-validation specific to the `MTCOV` algorithm.\n",
    "- `dyncrep_cross_validation`: Cross-validation specific to the `DynCRep` algorithm.\n",
    "- `acd_cross_validation`: Cross-validation specific to the `ACD` algorithm.\n",
    "- `crep_cross_validation`: Cross-validation specific to the `CRep` algorithm.\n",
    "- `jointcrep_cross_validation`: Cross-validation specific to the `JointCRep` algorithm.\n",
    "- `masking`: Functions for masking data during cross-validation.\n",
    "- `labeling`: Functions for labeling data.\n",
    "- `main`: Main entry points for running model selection.\n",
    "\n",
    "### 6. Utils\n",
    "The `utils` module contains utility functions used across the package. It consists of the following submodules:\n",
    "- `matrix_operations`: Functions for matrix operations.\n",
    "- `tools`: General utility functions.\n",
    "\n",
    "### 7. Main\n",
    "The `main` module contains the main entry points for running the algorithms.\n",
    "\n",
    "### 8. Data\n",
    "The `data` module contains the data files used by the package. It consists of the following submodules:\n",
    "\n",
    "- `input`: Input data files.\n",
    "- `model`: Configuration files for the models.\n",
    "\n",
    "### 9. Visualization\n",
    "The `visualization` module contains functions for visualizing the results of the models. It\n",
    "consists of the following submodule:\n",
    "- `plot`: the main module used for plotting.\n",
    "\n"
   ]
  },
  {
   "cell_type": "markdown",
   "metadata": {},
   "source": [
    "Having explored the package structure, let's see how to use it to run the `MTCOV` algorithm."
   ]
  },
  {
   "cell_type": "markdown",
   "metadata": {},
   "source": [
    "## Configuration\n",
    "Let's start by configuring the algorithm and the parameters needed. The pipeline works based on two types of parameters:\n",
    "\n",
    "**Numerical Parameters:** These are operational parameters that control the execution of the algorithm. They are not directly related to the model's theoretical framework but are crucial for its practical implementation. Examples include:\n",
    "\n",
    "- **Convergence tolerance (`convergence_tol`):** This is a threshold used to determine when the\n",
    "algorithm has converged, i.e., when the changes in the model's likelihood or parameters between iterations are small enough to consider the model as having reached its final state.\n",
    "\n",
    "- **Maximum number of iterations (`max_iter`):** This is the maximum number of times the algorithm will update the model's parameters. If the model hasn't converged by this point, the algorithm will stop anyway.\n",
    "\n",
    "- **Number of realizations (`num_realizations`):** This refers to the number of times the entire\n",
    "process (initialization and iterative updates) is repeated. The algorithm will then return the best realization, that is, for instance, the one with the highest likelihood upon convergence. This is done to account for the randomness in the initialization step and to ensure a more robust final model.\n",
    "\n",
    "These are set by default in the model's class definition, but they can be changed by the user.\n",
    "\n",
    "**Model parameters:**  These are parameters that are part of the model's theoretical framework. They have a direct impact on the model's behavior and the results it produces. Examples include:\n",
    "\n",
    "- **Number of communities (`K`)**: This is a fundamental parameter of the algorithms presented in\n",
    "this package. It determines the number of communities the algorithm will try to find in the network.\n",
    "\n",
    "- **Scaling parameter (`gamma`)**: This is a fundamental parameter of the `MTCOV` algorithm.\n",
    "It controls the relative contribution of the two terms in the likelihood, which accounts for network topology and node covariates, respectively. When `gamma=0`, the inference is performed by analyzing the data purely in terms of the network topology. Vice versa, when `gamma=1`, the algorithm only uses the attribute information.\n",
    "\n",
    "\n",
    "Notice that the data is not a parameter, but an input to the algorithm, hence, it is not included in the default configuration of the class nor in the configuration file. This will be shown later in the tutorial."
   ]
  },
  {
   "cell_type": "markdown",
   "metadata": {},
   "source": [
    "As a first step, let's configure the logger to show the information about the execution of the algorithm."
   ]
  },
  {
   "cell_type": "code",
   "metadata": {
    "ExecuteTime": {
     "end_time": "2024-10-25T15:30:12.013300Z",
     "start_time": "2024-10-25T15:30:12.005968Z"
    }
   },
   "source": [
    "# Import the logging module\n",
    "import logging\n",
    "\n",
    "# Get the root logger and set its level to INFO\n",
    "logging.getLogger().setLevel(logging.INFO)"
   ],
   "outputs": [],
   "execution_count": 1
  },
  {
   "metadata": {},
   "cell_type": "markdown",
   "source": [
    "## Importing the data\n",
    "We can now import the data using the `probinet` package."
   ]
  },
  {
   "cell_type": "code",
   "metadata": {
    "ExecuteTime": {
     "end_time": "2024-10-25T15:31:15.689497Z",
     "start_time": "2024-10-25T15:31:14.997223Z"
    }
   },
   "source": [
    "from pathlib import Path\n",
    "from probinet.input.loader import build_adjacency_and_design_from_file\n",
    "from probinet.models.classes import GraphData\n",
    "\n",
    "# Define the names of the columns in the input file that\n",
    "# represent the source and target nodes of each edge.\n",
    "ego = \"source\"\n",
    "alter = \"target\"\n",
    "egoX = \"Name\"\n",
    "\n",
    "# Set the `force_dense` flag to False\n",
    "# This flag determines whether the adjacency matrices\n",
    "# should be stored as dense matrices.\n",
    "# If set to False, the adjacency matrices will be stored\n",
    "# as sparse matrices, which is more memory-efficient\n",
    "# for large networks with few edges.\n",
    "force_dense = False\n",
    "\n",
    "# Get the absolute path of the root directory of the project\n",
    "root_dir = Path.cwd().parent.parent.parent.resolve()\n",
    "\n",
    "# Define the path to the input folder\n",
    "in_folder = str(root_dir / \"probinet/data/input/\")\n",
    "\n",
    "# Define the name of the network file\n",
    "adj_name = \"multilayer_network.csv\"\n",
    "\n",
    "# Define the name of the covariates file\n",
    "cov_name = \"X.csv\"\n",
    "\n",
    "# Define the attribute name\n",
    "attr_name = \"Metadata\"\n",
    "\n",
    "# Flag to treat the network as undirected\n",
    "undirected = False\n",
    "\n",
    "# Call the `build_adjacency_and_design_from_file` function to load the data from the input file\n",
    "# The function takes several arguments:\n",
    "# - in_folder: the path to the data\n",
    "# - adj_name: the name of the file with the adjacency matrix\n",
    "# - cov_name: the name of the file with the design matrix\n",
    "# - ego: the name of the column that references the node in one extreme of the directed edge\n",
    "# - alter: the name of the column that references the other node\n",
    "# - attr_name: name of the attribute to consider in the analysis\n",
    "# - undirected: the flag that signals if the network is undirected\n",
    "# - force_dense: if set to True, the algorithm is forced to consider a dense adjacency tensor\n",
    "# - noselfloop : if set to True, the algorithm removes the self-loops\n",
    "gdata: GraphData = build_adjacency_and_design_from_file(\n",
    "    in_folder,\n",
    "    adj_name=adj_name,\n",
    "    cov_name=cov_name,\n",
    "    ego=ego,\n",
    "    alter=alter,\n",
    "    egoX=egoX,\n",
    "    attr_name=attr_name,\n",
    "    undirected=undirected,\n",
    "    force_dense=force_dense,\n",
    "    noselfloop=True,\n",
    ")"
   ],
   "outputs": [],
   "execution_count": 4
  },
  {
   "cell_type": "markdown",
   "metadata": {},
   "source": ""
  },
  {
   "cell_type": "markdown",
   "metadata": {},
   "source": [
    "To get some information about the data, we can call the `print_graph_stats` function from the \n",
    "`input.stats` module."
   ]
  },
  {
   "cell_type": "code",
   "metadata": {
    "scrolled": true,
    "ExecuteTime": {
     "end_time": "2024-10-25T15:31:45.167826Z",
     "start_time": "2024-10-25T15:31:45.019445Z"
    }
   },
   "source": [
    "from probinet.input.stats import print_graph_stats\n",
    "\n",
    "# Extract the graph list from the `GraphData` object\n",
    "A = gdata.graph_list\n",
    "\n",
    "# Call the `print_graph_stats` function to print the basic\n",
    "# statistics of the graphs in the list `A`.\n",
    "print_graph_stats(A)"
   ],
   "outputs": [
    {
     "name": "stderr",
     "output_type": "stream",
     "text": [
      "INFO:root:Number of nodes = 300\n",
      "INFO:root:Number of layers = 4\n",
      "INFO:root:Number of edges and average degree in each layer:\n",
      "INFO:root:E[0] = 1294 - <k> = 8.63\n",
      "INFO:root:Sparsity [0] = 0.014\n",
      "INFO:root:Reciprocity (networkX) = 0.028\n",
      "INFO:root:E[1] = 1340 - <k> = 8.93\n",
      "INFO:root:Sparsity [1] = 0.015\n",
      "INFO:root:Reciprocity (networkX) = 0.021\n",
      "INFO:root:E[2] = 724 - <k> = 4.83\n",
      "INFO:root:Sparsity [2] = 0.008\n",
      "INFO:root:Reciprocity (networkX) = 0.030\n",
      "INFO:root:E[3] = 742 - <k> = 4.95\n",
      "INFO:root:Sparsity [3] = 0.008\n",
      "INFO:root:Reciprocity (networkX) = 0.003\n"
     ]
    }
   ],
   "execution_count": 5
  },
  {
   "cell_type": "markdown",
   "metadata": {},
   "source": [
    "Let's now show the adjacency matrix of one of the four layers."
   ]
  },
  {
   "cell_type": "code",
   "metadata": {
    "ExecuteTime": {
     "end_time": "2024-10-25T15:32:01.070753Z",
     "start_time": "2024-10-25T15:32:01.060678Z"
    }
   },
   "source": [
    "import networkx as nx\n",
    "\n",
    "# Create a graph from the first adjacency matrix in the list A\n",
    "graph = A[0]\n",
    "\n",
    "# Get the adjacency matrix\n",
    "adjacency_matrix = nx.adjacency_matrix(graph)"
   ],
   "outputs": [],
   "execution_count": 6
  },
  {
   "cell_type": "code",
   "metadata": {
    "ExecuteTime": {
     "end_time": "2024-10-25T15:32:05.555444Z",
     "start_time": "2024-10-25T15:32:04.427713Z"
    }
   },
   "source": [
    "# Import the `pyplot` module from `matplotlib` for creating\n",
    "# static, animated, and interactive visualizations in Python.\n",
    "import matplotlib.pyplot as plt\n",
    "\n",
    "# Display the reshaped adjacency matrix as an image\n",
    "# The `imshow` function from the `pyplot` module is used to\n",
    "# display data as an image.\n",
    "# The `cmap` argument specifies the colormap to use for the image\n",
    "# The `interpolation` argument specifies the interpolation method\n",
    "# to use when resizing the image.\n",
    "plt.imshow(adjacency_matrix.toarray(), cmap=\"Greys\", interpolation=\"none\")\n",
    "\n",
    "# Add a color bar to the plot for reference\n",
    "# The colors in the color bar correspond to the values in the image:\n",
    "# black for 1, meaning a connection, and white for 0, meaning no connection.\n",
    "plt.colorbar()\n",
    "plt.show()"
   ],
   "outputs": [
    {
     "data": {
      "text/plain": [
       "<Figure size 640x480 with 2 Axes>"
      ],
      "image/png": "[encoded data removed]"
     },
     "metadata": {},
     "output_type": "display_data"
    }
   ],
   "execution_count": 7
  },
  {
   "cell_type": "markdown",
   "metadata": {},
   "source": [
    "As we can see in the matrix, the network is not fully connected, i.e., there are nodes that are not \n",
    "connected to any other node. This is a common characteristic of real-world networks. More \n",
    "importantly, we can see that the network has two main clusters of nodes, which are represented by the two regions more densely connected. These are the communities that the `MTCOV` algorithm will try to detect."
   ]
  },
  {
   "cell_type": "markdown",
   "metadata": {},
   "source": [
    "## Running the Model\n",
    "Finally, we are ready to run the `MTCOV` model! The way this works is in a two-step process: <br>\n",
    "1. Initialize the `MTCOV` model by creating an instance of the `MTCOV` class.\n",
    "2. Execute the `fit` method on the created instance to run the algorithm."
   ]
  },
  {
   "cell_type": "code",
   "metadata": {
    "ExecuteTime": {
     "end_time": "2024-10-25T15:32:11.347566Z",
     "start_time": "2024-10-25T15:32:10.606914Z"
    }
   },
   "source": [
    "# Import the `MTCOV` class from the `probinet.models.mtcov` module\n",
    "# This class is used to create an instance of the `MTCOV` algorithm\n",
    "from probinet.models.mtcov import MTCOV\n",
    "\n",
    "# Create an instance of the `MTCOV` class\n",
    "# The `MTCOV` class takes no arguments, unless the user wants\n",
    "# to change the default of the numerical parameters.\n",
    "model = MTCOV()\n",
    "\n",
    "# Print all the attributes of the `MTCOV` instance\n",
    "# The `__dict__` attribute of an object is a dictionary containing\n",
    "# the object's attributes.\n",
    "# These correspond to the numerical parameters\n",
    "print(model.__dict__)"
   ],
   "outputs": [
    {
     "name": "stdout",
     "output_type": "stream",
     "text": [
      "{'inf': 10000000000.0, 'err_max': 1e-07, 'err': 0.1, 'num_realizations': 1, 'convergence_tol': 0.0001, 'decision': 10, 'max_iter': 500, 'plot_loglik': False, 'flag_conv': 'log', 'attributes_to_save_names': ['u_f', 'v_f', 'w_f', 'eta_f', 'final_it', 'maxL', 'maxPSL', 'beta_f', 'nodes', 'pibr', 'mupr'], 'u_f': array([], dtype=float64), 'v_f': array([], dtype=float64), 'w_f': array([], dtype=float64), 'use_unit_uniform': False, 'theta': {}, 'normalize_rows': False, 'nodes': [], 'rng': RandomState(MT19937) at 0x781E78162A40, 'beta_hat': array([], dtype=float64), 'best_r': 0, 'final_it': 0}\n"
     ]
    }
   ],
   "execution_count": 8
  },
  {
   "cell_type": "markdown",
   "metadata": {},
   "source": [
    "Model created! Now, we can run the model using the `fit` method. As mentioned before, this method\n",
    " takes as input the data, and model parameters."
   ]
  },
  {
   "cell_type": "code",
   "metadata": {
    "ExecuteTime": {
     "end_time": "2024-10-25T15:32:26.372086Z",
     "start_time": "2024-10-25T15:32:24.782458Z"
    }
   },
   "source": [
    "# Import the `time` module\n",
    "import time\n",
    "\n",
    "# Import the `numpy` module\n",
    "import numpy as np\n",
    "\n",
    "# Define the output folder\n",
    "out_folder = \"tutorial_outputs/MTCOV/\"\n",
    "\n",
    "# Get the current time\n",
    "time_start = time.time()\n",
    "\n",
    "# Run the `MTCOV` model\n",
    "# The `fit` method of the `MTCOV` class takes several arguments:\n",
    "# - gdata: the data to be analyzed\n",
    "# - out_inference: if set to True, the algorithm saves the final state of the models\n",
    "# - out_folder: the folder where the output files will be saved\n",
    "# - end_file: the ending of the file name\n",
    "\n",
    "_ = model.fit(\n",
    "    gdata,\n",
    "    out_inference=True,\n",
    "    out_folder=out_folder,\n",
    "    end_file=\"_MTCOV\",\n",
    ")\n",
    "\n",
    "# Print the time elapsed since the start of the `MTCOV` algorithm\n",
    "print(f\"\\nTime elapsed: {np.round(time.time() - time_start, 2)} seconds.\")"
   ],
   "outputs": [
    {
     "name": "stderr",
     "output_type": "stream",
     "text": [
      "INFO:root:gamma = 0.5\n",
      "INFO:root:Inferred parameters saved in: /home/dtheuerkauf/software-workshop/prob-gen-model-for-nets/doc/source/tutorials/tutorial_outputs/MTCOV/theta_MTCOV.npz\n",
      "INFO:root:To load: theta=np.load(filename), then e.g. theta[\"u\"]\n"
     ]
    },
    {
     "name": "stdout",
     "output_type": "stream",
     "text": [
      "\n",
      "Time elapsed: 1.58 seconds.\n"
     ]
    }
   ],
   "execution_count": 9
  },
  {
   "cell_type": "markdown",
   "metadata": {},
   "source": [
    "Done! The final state of the model is not returned, but it is saved to the output folder."
   ]
  },
  {
   "cell_type": "markdown",
   "metadata": {},
   "source": [
    "## Analyzing the results\n",
    "Next, we will examine the outcomes produced by the model. To do this, it is necessary to load the\n",
    " contents from the file `theta_MTCOV.npz`, generated by the `fit` method."
   ]
  },
  {
   "cell_type": "code",
   "metadata": {
    "ExecuteTime": {
     "end_time": "2024-10-25T15:32:31.842417Z",
     "start_time": "2024-10-25T15:32:31.837219Z"
    }
   },
   "source": [
    "# Define the path to the file containing the results of the `MTCOV` models\n",
    "filename = out_folder + \"/theta_MTCOV.npz\"\n",
    "\n",
    "# Load the contents of the file into a dictionary\n",
    "theta = np.load(filename)"
   ],
   "outputs": [],
   "execution_count": 10
  },
  {
   "cell_type": "markdown",
   "metadata": {},
   "source": [
    "Once this is done, we can unpack the latent variables."
   ]
  },
  {
   "cell_type": "code",
   "metadata": {
    "ExecuteTime": {
     "end_time": "2024-08-12T15:54:54.078103Z",
     "start_time": "2024-08-12T15:54:54.073469Z"
    }
   },
   "source": [
    "# Unpack the latent variables from the results of the `MTCOV` models\n",
    "# The `u` variable represents the out-going memberships of the\n",
    "# nodes in the graph.\n",
    "# The `v` variable represents the in-coming memberships of the\n",
    "# nodes in the graph.\n",
    "# The `w` variable represents the affinity of the communities\n",
    "# for each layer.\n",
    "# The `beta` variable represents the relationships between\n",
    "# communities and covariates.\n",
    "u, v, w, beta = theta[\"u\"], theta[\"v\"], theta[\"w\"], theta[\"beta\"]"
   ],
   "outputs": [],
   "execution_count": 11
  },
  {
   "cell_type": "markdown",
   "metadata": {},
   "source": [
    "As outlined in the main reference {cite}`contisciani2020community`, `MTCOV` assumes a mixed-membership community structure, which \n",
    "means that \n",
    "every node can belong to more than one community with a different strength. The variables `u` and\n",
    " `v` are _NxK_ membership matrices that represent the out-going and in-coming node memberships, \n",
    " respectively. In this specific demonstration, it's important to recall that we configured the \n",
    " model parameter `K`, representing the number of communities, to be 2. Consequently, by examining the values of `u` for each node, we expect to obtain vector of length two, where the first entry is the probability of node _i_ to belong to community 1 and the second one represents the probability to belong to community 2."
   ]
  },
  {
   "cell_type": "code",
   "metadata": {
    "ExecuteTime": {
     "end_time": "2024-08-12T15:54:55.097097Z",
     "start_time": "2024-08-12T15:54:55.091319Z"
    }
   },
   "source": [
    "# Iterate over the first 10 nodes in the graph\n",
    "for idx, values in enumerate(u[:10]):\n",
    "    # Print the probability that the node belongs to the two communities\n",
    "    print(\n",
    "        f\"The probability that the node {idx} belongs to the two communities is: {values}\"\n",
    "    )"
   ],
   "outputs": [
    {
     "name": "stdout",
     "output_type": "stream",
     "text": [
      "The probability that the node 0 belongs to the two communities is: [1. 0.]\n",
      "The probability that the node 1 belongs to the two communities is: [1. 0.]\n",
      "The probability that the node 2 belongs to the two communities is: [1. 0.]\n",
      "The probability that the node 3 belongs to the two communities is: [1. 0.]\n",
      "The probability that the node 4 belongs to the two communities is: [1. 0.]\n",
      "The probability that the node 5 belongs to the two communities is: [1. 0.]\n",
      "The probability that the node 6 belongs to the two communities is: [1. 0.]\n",
      "The probability that the node 7 belongs to the two communities is: [1. 0.]\n",
      "The probability that the node 8 belongs to the two communities is: [1. 0.]\n",
      "The probability that the node 9 belongs to the two communities is: [1. 0.]\n"
     ]
    }
   ],
   "execution_count": 12
  },
  {
   "cell_type": "markdown",
   "metadata": {},
   "source": [
    "To visualize the hard-memberships for the out-going case, we can assign each node to the \n",
    "community with the highest probability in `u`. We can then print the community assignments for the first 10 nodes."
   ]
  },
  {
   "cell_type": "code",
   "metadata": {
    "scrolled": true,
    "ExecuteTime": {
     "end_time": "2024-08-12T15:54:56.386907Z",
     "start_time": "2024-08-12T15:54:56.382781Z"
    }
   },
   "source": [
    "# Calculate the hard-memberships for the out-going case\n",
    "u_hard = np.argmax(u, axis=1)\n",
    "\n",
    "# Get the indices of nodes in community 1 and community 2\n",
    "community1_nodes = np.where(u_hard == 0)[0]  # Community 1 corresponds to index 0\n",
    "community2_nodes = np.where(u_hard == 1)[0]  # Community 2 corresponds to index 1\n",
    "\n",
    "# Print some nodes from community 1\n",
    "print(\"Some nodes in community 1:\")\n",
    "print(community1_nodes[:10])\n",
    "\n",
    "# Print some nodes from community 2\n",
    "print(\"\\nSome nodes in community 2:\")\n",
    "print(community2_nodes[0:10])"
   ],
   "outputs": [
    {
     "name": "stdout",
     "output_type": "stream",
     "text": [
      "Some nodes in community 1:\n",
      "[0 1 2 3 4 5 6 7 8 9]\n",
      "\n",
      "Some nodes in community 2:\n",
      "[150 151 152 153 154 155 156 157 158 159]\n"
     ]
    }
   ],
   "execution_count": 13
  },
  {
   "cell_type": "markdown",
   "metadata": {},
   "source": [
    "We have learned this way to assign each node to a community, using the results given by the \n",
    "`MTCOV` algorithm. For a more graphical approach, we invite the reader to take a look at the tutorial on the \n",
    "[`JointCRep` algorithm](./JointCRep.ipynb), where we show how to plot the communities in the \n",
    "network."
   ]
  },
  {
   "cell_type": "markdown",
   "metadata": {},
   "source": [
    "In addition to investigate the node memberships, we can interpret the relationships between the \n",
    "inferred communities and the node covariate through the variable `beta`. As outlined in the main\n",
    " reference, \n",
    "`beta` is a _KxZ_ dimensional matrix, where _Z_ denotes the total number of different categories \n",
    "of the node attribute. In this example, the attribute Metadata has 2 categories. Then, every row \n",
    "_k_ of the beta matrix denotes how much information of the different categories is used to create\n",
    " the _k_-th community. Also, this variable is normalized such that every row sums to 1."
   ]
  },
  {
   "cell_type": "code",
   "metadata": {
    "ExecuteTime": {
     "end_time": "2024-08-12T15:54:58.139296Z",
     "start_time": "2024-08-12T15:54:58.001888Z"
    }
   },
   "source": [
    "plt.imshow(beta, cmap=\"Greys\", interpolation=\"none\", vmin=0, vmax=1)\n",
    "\n",
    "plt.xticks([0, 1], [\"Metadata 0\", \"Metadata 1\"])\n",
    "plt.yticks([0, 1], [\"Community 0\", \"Community 1\"])\n",
    "\n",
    "plt.colorbar()\n",
    "plt.show()"
   ],
   "outputs": [
    {
     "data": {
      "text/plain": [
       "<Figure size 640x480 with 2 Axes>"
      ],
      "image/png": "[encoded data removed]"
     },
     "metadata": {},
     "output_type": "display_data"
    }
   ],
   "execution_count": 14
  },
  {
   "cell_type": "markdown",
   "metadata": {},
   "source": "Through this plot, we can infer that community 0 is mainly related to nodes with Metadata 0, while community 1 groups together primarily nodes with attribute Metadata 1."
  },
  {
   "metadata": {},
   "cell_type": "markdown",
   "source": [
    "## Summary\n",
    "\n",
    "This tutorial provides a comprehensive guide on using the `probinet` package. Specifically, it focuses on the `MTCOV` algorithm, which is a probabilistic generative model used for network analysis, designed to detect communities within a multilayer network where node attributes are considered.\n",
    "\n",
    "The tutorial explains the structure of the `probinet` package, which is organized into several main modules, such as `input`, `models`, `evaluation`, `synthetic`, `model_selection`, and `utils`. It also demonstrates how to configure and run the `MTCOV` algorithm on the input data imported using the `probinet` package.\n",
    "\n",
    "Furthermore, it shows how to analyze the results produced by the model. It explains how to load the inferred parameters from a file, unpack the latent variables, and calculate the out-going hard-memberships. It also shows how to interpret the relationships between communities and attribute categories. \n",
    "\n"
   ]
  },
  {
   "metadata": {},
   "cell_type": "code",
   "outputs": [],
   "execution_count": null,
   "source": ""
  }
 ],
 "metadata": {
  "jupytext": {
   "formats": "ipynb,md"
  },
  "kernelspec": {
   "display_name": "Python 3 (ipykernel)",
   "language": "python",
   "name": "python3"
  },
  "language_info": {
   "codemirror_mode": {
    "name": "ipython",
    "version": 3
   },
   "file_extension": ".py",
   "mimetype": "text/x-python",
   "name": "python",
   "nbconvert_exporter": "python",
   "pygments_lexer": "ipython3",
   "version": "3.10.11"
  }
 },
 "nbformat": 4,
 "nbformat_minor": 1
}
