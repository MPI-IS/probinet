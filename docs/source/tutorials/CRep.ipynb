{
 "cells": [
  {
   "cell_type": "markdown",
   "metadata": {},
   "source": [
    "# Generation of Synthetic Networks using the `CRep` Algorithm\n",
    "\n",
    "In this tutorial, we show how to use the _Probabilistic Generative Models_ (`probinet`) package for generating synthetic network data. \n",
    "\n",
    "We use the `CRep` (**C**ommunity and **Re**ci**p**rocity) algorithm {cite}`safdari2021generative`, which is a probabilistic generative method designed to model directed networks. The main assumption of this approach is that communities and reciprocity are the main mechanisms for tie formation. "
   ]
  },
  {
   "cell_type": "markdown",
   "metadata": {},
   "source": [
    "Let's first configure the logger to show the information about the execution of the algorithms."
   ]
  },
  {
   "cell_type": "code",
   "metadata": {
    "ExecuteTime": {
     "end_time": "2024-10-29T15:59:43.038118Z",
     "start_time": "2024-10-29T15:59:43.025902Z"
    }
   },
   "source": [
    "# Import the logging module\n",
    "import logging\n",
    "\n",
    "# Get the root logger and set its level to INFO\n",
    "logging.getLogger().setLevel(logging.INFO)"
   ],
   "outputs": [],
   "execution_count": 1
  },
  {
   "cell_type": "markdown",
   "metadata": {},
   "source": [
    "## Generating a synthetic network using the `CRep` algorithm"
   ]
  },
  {
   "cell_type": "markdown",
   "metadata": {},
   "source": ""
  },
  {
   "cell_type": "code",
   "metadata": {
    "ExecuteTime": {
     "end_time": "2024-10-29T16:00:01.844258Z",
     "start_time": "2024-10-29T16:00:01.830879Z"
    }
   },
   "source": [
    "# Import the `open_binary` function from the `importlib.resources` module\n",
    "# This function is used to open a binary file included in a package\n",
    "from importlib.resources import open_binary\n",
    "\n",
    "# Import the `yaml` module to convert the data from a YAML formatted string into a Python dictionary\n",
    "import yaml\n",
    "\n",
    "# Define the path to the configuration file for the `CRep` algorithm\n",
    "config_path = \"setting_syn_data_CRep.yaml\"\n",
    "\n",
    "# Open the configuration file for the `CRep` algorithm\n",
    "with open_binary(\"probinet.data.model\", config_path) as fp:\n",
    "    # Load the content of the configuration file into a dictionary\n",
    "    synthetic_configuration = yaml.load(fp, Loader=yaml.Loader)"
   ],
   "outputs": [],
   "execution_count": 4
  },
  {
   "cell_type": "code",
   "metadata": {
    "ExecuteTime": {
     "end_time": "2024-10-29T16:00:03.264540Z",
     "start_time": "2024-10-29T16:00:03.248285Z"
    }
   },
   "source": [
    "synthetic_configuration"
   ],
   "outputs": [
    {
     "data": {
      "text/plain": [
       "{'N': 600,\n",
       " 'K': 3,\n",
       " 'eta': 0.5,\n",
       " 'k': 20,\n",
       " 'ExpM': None,\n",
       " 'over': 0.0,\n",
       " 'corr': 0.0,\n",
       " 'seed': 0,\n",
       " 'alpha': 0.1,\n",
       " 'ag': 0.1,\n",
       " 'beta': 0.1,\n",
       " 'Normalization': 0,\n",
       " 'structure': 'assortative',\n",
       " 'end_file': '',\n",
       " 'out_folder': '../data/input/',\n",
       " 'output_parameters': True,\n",
       " 'output_adj': True,\n",
       " 'outfile_adj': None}"
      ]
     },
     "execution_count": 5,
     "metadata": {},
     "output_type": "execute_result"
    }
   ],
   "execution_count": 5
  },
  {
   "cell_type": "markdown",
   "metadata": {},
   "source": "As we can see in the dictionary, the reciprocity coefficient `eta` is set to 0.5, meaning that the network will have a moderate level of reciprocity. Nevertheless, we are interested in generating a network with a higher level of reciprocity, thus we increase this value to 0.8. We also modify some details regarding the output of the algorithm."
  },
  {
   "cell_type": "code",
   "metadata": {
    "ExecuteTime": {
     "end_time": "2024-10-29T16:00:04.249526Z",
     "start_time": "2024-10-29T16:00:04.242287Z"
    }
   },
   "source": [
    "# Increase the reciprocity coefficient\n",
    "synthetic_configuration[\"eta\"] = 0.8\n",
    "# The flag `output_parameters` determines whether the models parameters\n",
    "# should be saved to a file\n",
    "synthetic_configuration[\"output_parameters\"] = False\n",
    "# The flag `output_adj` determines whether the adjacency matrix should\n",
    "# be saved to a file\n",
    "synthetic_configuration[\"output_adj\"] = True\n",
    "# The argument `outfile_adj` determines the name of the file for the\n",
    "# adjacency matrix\n",
    "synthetic_configuration[\"outfile_adj\"] = \"syn_dataframe.dat\"\n",
    "# The argument `out_folder` determines the output folder for the adjacency\n",
    "# matrix\n",
    "synthetic_configuration[\"out_folder\"] = \"tutorial_outputs/CRep_synthetic/\""
   ],
   "outputs": [],
   "execution_count": 6
  },
  {
   "cell_type": "markdown",
   "metadata": {},
   "source": [
    "Once the parameters are set, we can generate a synthetic network using the `GM_reciprocity` class. For a better understanding of the structure of the package and its configuration, we invite the reader to take a look at the tutorial on the [`MTCOV` algorithm](./MTCOV.ipynb)."
   ]
  },
  {
   "cell_type": "code",
   "metadata": {
    "ExecuteTime": {
     "end_time": "2024-10-29T16:00:04.960121Z",
     "start_time": "2024-10-29T16:00:04.954780Z"
    }
   },
   "source": [
    "# Load the `GM_reciprocity` class from the `probinet.synthetic.syn_rep` module\n",
    "from probinet.synthetic.reciprocity import GM_reciprocity\n",
    "\n",
    "# Define the class `gen` as an instance of the `GM_reciprocity` class using the\n",
    "# configuration parameters\n",
    "gen = GM_reciprocity(**synthetic_configuration)"
   ],
   "outputs": [],
   "execution_count": 7
  },
  {
   "cell_type": "markdown",
   "metadata": {},
   "source": [
    "We can check that the model parameters have been set correctly as attributes of the `gen` object."
   ]
  },
  {
   "cell_type": "code",
   "metadata": {
    "ExecuteTime": {
     "end_time": "2024-10-29T15:29:47.283084Z",
     "start_time": "2024-10-29T15:29:47.270271Z"
    }
   },
   "source": [
    "gen.__dict__"
   ],
   "outputs": [
    {
     "data": {
      "text/plain": [
       "{'N': 600,\n",
       " 'K': 3,\n",
       " 'k': 20,\n",
       " 'seed': 0,\n",
       " 'alpha': 0.1,\n",
       " 'ag': 0.1,\n",
       " 'beta': 0.1,\n",
       " 'end_file': '',\n",
       " 'out_folder': 'tutorial_outputs/CRep_synthetic/',\n",
       " 'output_parameters': False,\n",
       " 'output_adj': True,\n",
       " 'outfile_adj': 'syn_dataframe.dat',\n",
       " 'eta': 0.8,\n",
       " 'ExpM': 6000,\n",
       " 'over': 0.0,\n",
       " 'corr': 0.0,\n",
       " 'Normalization': 0,\n",
       " 'structure': 'assortative'}"
      ]
     },
     "execution_count": 6,
     "metadata": {},
     "output_type": "execute_result"
    }
   ],
   "execution_count": 6
  },
  {
   "cell_type": "markdown",
   "metadata": {},
   "source": [
    "We can now generate a synthetic network using the `reciprocity_planted_network` method, which follows the assumptions of the `CRep` algorithm. Notice that a network generated with this method is directed and weighted. The function returns a MultiDiGraph NetworkX object `G` and its adjacency matrix `A`."
   ]
  },
  {
   "cell_type": "code",
   "metadata": {
    "scrolled": true,
    "ExecuteTime": {
     "end_time": "2024-10-29T15:29:53.124067Z",
     "start_time": "2024-10-29T15:29:47.341127Z"
    }
   },
   "source": [
    "# Generate the network using the `reciprocity_planted_network` method\n",
    "G, A = gen.reciprocity_planted_network()"
   ],
   "outputs": [
    {
     "name": "stderr",
     "output_type": "stream",
     "text": [
      "INFO:root:Number of links in the upper triangular matrix: 2620\n",
      "INFO:root:Number of links in the lower triangular matrix: 2597\n",
      "INFO:root:Sum of weights in the upper triangular matrix: 3018.000\n",
      "INFO:root:Sum of weights in the lower triangular matrix: 2998.000\n",
      "INFO:root:Number of possible unordered pairs: 179700\n",
      "INFO:root:Removed 0 nodes, because not part of the largest connected component\n",
      "INFO:root:Number of nodes: 600\n",
      "INFO:root:Number of edges: 5217\n",
      "INFO:root:Average degree (2E/N): 17.39\n",
      "INFO:root:Average weighted degree (2M/N): 20.053\n",
      "INFO:root:Expected reciprocity: 0.821\n",
      "INFO:root:Reciprocity (networkX) = 0.638\n",
      "INFO:root:Reciprocity (considering the weights of the edges) = 0.827\n",
      "INFO:root:Adjacency matrix saved in: tutorial_outputs/CRep_synthetic/syn_dataframe.dat\n"
     ]
    }
   ],
   "execution_count": 7
  },
  {
   "cell_type": "markdown",
   "metadata": {},
   "source": "Notice that, although we set the reciprocity coefficient to 0.8, the actual network reciprocity is 0.638. This mismatch is because `CRep` generates weighted networks. By considering the edge weights, the actual network reciprocity becomes 0.827, pretty close to the desired one. "
  },
  {
   "cell_type": "markdown",
   "metadata": {},
   "source": [
    "We can now inspect how the network looks like."
   ]
  },
  {
   "cell_type": "code",
   "metadata": {
    "scrolled": false,
    "ExecuteTime": {
     "end_time": "2024-10-29T15:29:54.409821Z",
     "start_time": "2024-10-29T15:29:53.150569Z"
    }
   },
   "source": [
    "import matplotlib.pyplot as plt\n",
    "\n",
    "# Plot the adjacency matrix\n",
    "plt.imshow(A.toarray(), cmap=\"Greys\", interpolation=\"none\")\n",
    "plt.colorbar()"
   ],
   "outputs": [
    {
     "data": {
      "text/plain": [
       "<matplotlib.colorbar.Colorbar at 0x79f3bdb73310>"
      ]
     },
     "execution_count": 8,
     "metadata": {},
     "output_type": "execute_result"
    },
    {
     "data": {
      "text/plain": [
       "<Figure size 640x480 with 2 Axes>"
      ],
      "image/png": "[encoded data removed]"
     },
     "metadata": {},
     "output_type": "display_data"
    }
   ],
   "execution_count": 8
  },
  {
   "cell_type": "markdown",
   "metadata": {},
   "source": [
    "As we can see, the generated synthetic network reflects an assortative community structure as imposed with the parameter `structure`. In this setting, nodes tend to connect more within their own communities than with nodes from other communities, resulting in higher edge densities within the diagonal blocks of the adjacency matrix. "
   ]
  },
  {
   "cell_type": "markdown",
   "metadata": {},
   "source": [
    "When `output_adj=True`, the function saves the network edges as a dataframe into the `syn_dataframe.dat` file in the output folder. The first and the second columns of the dataframe describe the source and the target nodes, respectively, and the last column represents the weight of their interactions. "
   ]
  },
  {
   "cell_type": "code",
   "metadata": {
    "ExecuteTime": {
     "end_time": "2024-10-29T15:29:54.463524Z",
     "start_time": "2024-10-29T15:29:54.438652Z"
    }
   },
   "source": [
    "import pandas as pd\n",
    "\n",
    "# Load the dataframe\n",
    "df = pd.read_csv(\n",
    "    synthetic_configuration[\"out_folder\"] + synthetic_configuration[\"outfile_adj\"],\n",
    "    sep=\" \",\n",
    ")\n",
    "# Print the first 5 rows of the dataframe\n",
    "df.head()"
   ],
   "outputs": [
    {
     "data": {
      "text/plain": [
       "   source  target  w\n",
       "0       0      18  1\n",
       "1       0      50  1\n",
       "2       0      95  1\n",
       "3       0     196  1\n",
       "4       0     204  1"
      ],
      "text/html": [
       "<div>\n",
       "<style scoped>\n",
       "    .dataframe tbody tr th:only-of-type {\n",
       "        vertical-align: middle;\n",
       "    }\n",
       "\n",
       "    .dataframe tbody tr th {\n",
       "        vertical-align: top;\n",
       "    }\n",
       "\n",
       "    .dataframe thead th {\n",
       "        text-align: right;\n",
       "    }\n",
       "</style>\n",
       "<table border=\"1\" class=\"dataframe\">\n",
       "  <thead>\n",
       "    <tr style=\"text-align: right;\">\n",
       "      <th></th>\n",
       "      <th>source</th>\n",
       "      <th>target</th>\n",
       "      <th>w</th>\n",
       "    </tr>\n",
       "  </thead>\n",
       "  <tbody>\n",
       "    <tr>\n",
       "      <th>0</th>\n",
       "      <td>0</td>\n",
       "      <td>18</td>\n",
       "      <td>1</td>\n",
       "    </tr>\n",
       "    <tr>\n",
       "      <th>1</th>\n",
       "      <td>0</td>\n",
       "      <td>50</td>\n",
       "      <td>1</td>\n",
       "    </tr>\n",
       "    <tr>\n",
       "      <th>2</th>\n",
       "      <td>0</td>\n",
       "      <td>95</td>\n",
       "      <td>1</td>\n",
       "    </tr>\n",
       "    <tr>\n",
       "      <th>3</th>\n",
       "      <td>0</td>\n",
       "      <td>196</td>\n",
       "      <td>1</td>\n",
       "    </tr>\n",
       "    <tr>\n",
       "      <th>4</th>\n",
       "      <td>0</td>\n",
       "      <td>204</td>\n",
       "      <td>1</td>\n",
       "    </tr>\n",
       "  </tbody>\n",
       "</table>\n",
       "</div>"
      ]
     },
     "execution_count": 9,
     "metadata": {},
     "output_type": "execute_result"
    }
   ],
   "execution_count": 9
  },
  {
   "cell_type": "markdown",
   "metadata": {},
   "source": "In the next section, we will use the `probinet` package to analyze the network and extract the community structure and reciprocity coefficient."
  },
  {
   "cell_type": "markdown",
   "metadata": {},
   "source": [
    "## Analyzing the network using the `probinet` package\n",
    "\n",
    "First, we start by importing the data using the `probinet` package. This means, we will load the data \n",
    "from the `syn_dataframe.dat` file and generate the adjacency matrices needed to run the `CRep` algorithm."
   ]
  },
  {
   "cell_type": "code",
   "metadata": {
    "scrolled": false,
    "ExecuteTime": {
     "end_time": "2024-10-29T16:00:45.810476Z",
     "start_time": "2024-10-29T16:00:45.389657Z"
    }
   },
   "source": [
    "from probinet.input.loader import build_adjacency_from_file\n",
    "from pathlib import Path\n",
    "\n",
    "# Define the names of the columns in the input file that\n",
    "# represent the source and target nodes of each edge.\n",
    "ego = \"source\"\n",
    "alter = \"target\"\n",
    "\n",
    "# Set the `force_dense` flag to False\n",
    "force_dense = False\n",
    "\n",
    "# Set the `binary` flag to False to load the edge weights\n",
    "binary = False\n",
    "\n",
    "# Call the `import_data` function to load the data from the input file\n",
    "graph_data = build_adjacency_from_file(\n",
    "    Path(synthetic_configuration[\"out_folder\"])\n",
    "    / synthetic_configuration[\"outfile_adj\"],\n",
    "    ego=ego,\n",
    "    alter=alter,\n",
    "    force_dense=force_dense,\n",
    "    binary=binary,\n",
    "    header=0,\n",
    ")"
   ],
   "outputs": [],
   "execution_count": 8
  },
  {
   "cell_type": "markdown",
   "metadata": {},
   "source": [
    "To get some information about the data, we can call the `print_graph_stat` function from the `input.stats` module."
   ]
  },
  {
   "cell_type": "code",
   "metadata": {
    "ExecuteTime": {
     "end_time": "2024-10-29T15:29:55.368855979Z",
     "start_time": "2024-10-29T13:19:21.911398Z"
    }
   },
   "source": [
    "from probinet.input.stats import print_graph_stat\n",
    "\n",
    "# Extract the list of graphs\n",
    "A = graph_data.graph_list\n",
    "# Call the `print_graph_stat` function to print the basic\n",
    "# statistics of the graphs in the list `A`.\n",
    "print_graph_stat(A)"
   ],
   "outputs": [
    {
     "name": "stderr",
     "output_type": "stream",
     "text": [
      "INFO:root:Number of nodes = 600\n",
      "INFO:root:Number of layers = 1\n",
      "INFO:root:Number of edges and average degree in each layer:\n",
      "INFO:root:E[0] = 5217 - <k> = 17.39\n",
      "INFO:root:M[0] = 6016 - <k_weighted> = 20.053\n",
      "INFO:root:Sparsity [0] = 0.014\n",
      "INFO:root:Reciprocity (networkX) = 0.638\n"
     ]
    }
   ],
   "execution_count": 11
  },
  {
   "cell_type": "markdown",
   "metadata": {},
   "source": [
    "Once the network is loaded, we can give it as input to the `CRep` algorithm to obtain estimates of the latent\n",
    "variables describing the communities and the reciprocity. "
   ]
  },
  {
   "cell_type": "markdown",
   "metadata": {},
   "source": [
    "## Running the model\n",
    "Finally, we are ready to run the `CRep` model! The way this works is in a two-step process: <br>\n",
    "1. Initialize the `CRep` model by creating an instance of the `CRep` class.\n",
    "2. Execute the `fit` method on the created instance to run the algorithm.\n"
   ]
  },
  {
   "cell_type": "code",
   "metadata": {
    "ExecuteTime": {
     "end_time": "2024-10-29T15:29:55.403674241Z",
     "start_time": "2024-10-29T13:19:22.021930Z"
    }
   },
   "source": [
    "# Import the `CRep` class from the `probinet.models.crep` module\n",
    "from probinet.models.crep import CRep\n",
    "\n",
    "# Create an instance of the `CRep` class\n",
    "model = CRep()\n",
    "\n",
    "# Print all the attributes of the `CRep` instance\n",
    "# The `__dict__` attribute of an object is a dictionary containing\n",
    "# the object's attributes.\n",
    "print(model.__dict__)"
   ],
   "outputs": [
    {
     "name": "stdout",
     "output_type": "stream",
     "text": [
      "{'inf': 10000000000.0, 'err_max': 1e-12, 'err': 0.1, 'num_realizations': 5, 'convergence_tol': 0.0001, 'decision': 10, 'max_iter': 1000, 'plot_loglik': False, 'flag_conv': 'log', 'attributes_to_save_names': ['u_f', 'v_f', 'w_f', 'eta_f', 'final_it', 'maxL', 'maxPSL', 'beta_f', 'nodes', 'pibr', 'mupr'], 'u_f': array([], dtype=float64), 'v_f': array([], dtype=float64), 'w_f': array([], dtype=float64), 'use_unit_uniform': False, 'theta': {}, 'normalize_rows': False, 'nodes': [], 'rng': RandomState(MT19937) at 0x7DD9DCAC7740, 'beta_hat': array([], dtype=float64), 'best_r': 0, 'final_it': 0, 'eta_f': 0.0}\n"
     ]
    }
   ],
   "execution_count": 12
  },
  {
   "cell_type": "markdown",
   "metadata": {},
   "source": "Model created! Now, we can run the model using the `fit` method."
  },
  {
   "cell_type": "code",
   "metadata": {
    "scrolled": true,
    "ExecuteTime": {
     "end_time": "2024-10-29T15:29:55.404495768Z",
     "start_time": "2024-10-29T13:19:23.200059Z"
    }
   },
   "source": [
    "# Import the `time` module\n",
    "import time\n",
    "\n",
    "# Import the `numpy` module\n",
    "import numpy as np\n",
    "\n",
    "# Get the current time\n",
    "time_start = time.time()\n",
    "\n",
    "# Run the `CRep` models\n",
    "inferred_parameters = model.fit(\n",
    "    graph_data,\n",
    "    out_inference=True,\n",
    "    out_folder=synthetic_configuration[\"out_folder\"],\n",
    ")\n",
    "\n",
    "# Print the time elapsed since the start of the `CRep` algorithm\n",
    "print(f\"\\nTime elapsed: {np.round(time.time() - time_start, 2)} seconds.\")"
   ],
   "outputs": [
    {
     "name": "stderr",
     "output_type": "stream",
     "text": [
      "INFO:root:Inferred parameters saved in: /home/dtheuerkauf/software-workshop/prob-gen-model-for-nets/docs/source/tutorials/tutorial_outputs/CRep_synthetic/theta.npz\n",
      "INFO:root:To load: theta=np.load(filename), then e.g. theta[\"u\"]\n"
     ]
    },
    {
     "name": "stdout",
     "output_type": "stream",
     "text": [
      "\n",
      "Time elapsed: 134.16 seconds.\n"
     ]
    }
   ],
   "execution_count": 13
  },
  {
   "cell_type": "markdown",
   "metadata": {},
   "source": [
    "Done! The model has been run and the results are stored into the variable `inferred_parameters` and saved into the file `theta_CRep.npz` in the output folder."
   ]
  },
  {
   "cell_type": "markdown",
   "metadata": {},
   "source": [
    "## Analyzing the results\n",
    "We can now retrieve the results from the saved file. "
   ]
  },
  {
   "cell_type": "code",
   "metadata": {
    "ExecuteTime": {
     "end_time": "2024-10-29T15:29:55.405068550Z",
     "start_time": "2024-10-29T13:21:37.968069Z"
    }
   },
   "source": [
    "filename = synthetic_configuration[\"out_folder\"] + \"/theta.npz\"\n",
    "# Load the contents of the file into a dictionary\n",
    "theta = np.load(filename)"
   ],
   "outputs": [],
   "execution_count": 14
  },
  {
   "cell_type": "code",
   "metadata": {
    "ExecuteTime": {
     "end_time": "2024-10-29T15:29:55.405565634Z",
     "start_time": "2024-10-29T13:21:40.708908Z"
    }
   },
   "source": [
    "# Unpack the latent variables from the results of the `CRep` models\n",
    "# The `u` variable represents the out-going memberships of the\n",
    "# nodes in the graph.\n",
    "# The `v` variable represents the in-coming memberships of the\n",
    "# nodes in the graph.\n",
    "# The `w` variable represents the affinity of the communities\n",
    "# The `eta` variable represents the reciprocity coefficient\n",
    "u, v, w, eta = theta[\"u\"], theta[\"v\"], theta[\"w\"], theta[\"eta\"]"
   ],
   "outputs": [],
   "execution_count": 15
  },
  {
   "cell_type": "markdown",
   "metadata": {},
   "source": [
    "At this point, one could compare the inferred parameters with the ones used to generate the synthetic network. \n",
    "\n",
    "Notice that we don't expect good results in retrieving the communities because we are in a regime with high reciprocity. Indeed, as explained in reference [1], the `CRep` algorithm gives increasingly less weight to the communities as reciprocity increases, resulting in poor community detection performance when the communities are not fully determining edge formation. On the other hand, it well summarizes the network reciprocity."
   ]
  },
  {
   "cell_type": "code",
   "metadata": {
    "ExecuteTime": {
     "end_time": "2024-10-29T15:29:55.406094952Z",
     "start_time": "2024-10-29T13:21:45.940369Z"
    }
   },
   "source": [
    "import networkx as nx\n",
    "\n",
    "# Print the actual network reciprocity\n",
    "print(f\"Actual network reciprocity: {np.round(nx.reciprocity(A[0]),3)}\")\n",
    "# Print the inferred reciprocity coefficient\n",
    "print(f\"Inferred reciprocity coefficient: {np.round(eta, 3)}\")"
   ],
   "outputs": [
    {
     "name": "stdout",
     "output_type": "stream",
     "text": [
      "Actual network reciprocity: 0.638\n",
      "Inferred reciprocity coefficient: 0.678\n"
     ]
    }
   ],
   "execution_count": 16
  },
  {
   "cell_type": "markdown",
   "metadata": {},
   "source": [
    "For a more graphical approach on how to investigate the results, we invite the reader to take a look at the tutorial on the \n",
    "[`JointCRep` algorithm](./JointCRep.ipynb).\n",
    "\n",
    "Notice also that the `GM_reciprocity` class provides various methods to create synthetic data according different generative assumptions, and the `reciprocity_planted_network` method used in this tutorial is just an example."
   ]
  },
  {
   "cell_type": "markdown",
   "metadata": {},
   "source": [
    "## Summary\n",
    "\n",
    "This tutorial provides a guide on using the Probabilistic Generative Models (`probinet`) package to \n",
    "generate synthetic network data. In particular, it uses the `CRep` algorithm, which is a probabilistic generative method designed to model directed networks assuming that communities and reciprocity are the main mechanisms for tie formation. \n",
    "\n",
    "The tutorial also shows how to analyze the generated network with the `probinet` package, and how to infer the latent variables using the `CRep` algorithm. In addition, it guides the user on how to import the inferred results.\n"
   ]
  },
  {
   "metadata": {
    "ExecuteTime": {
     "end_time": "2024-10-29T15:29:55.406681552Z",
     "start_time": "2024-10-29T13:21:49.037520Z"
    }
   },
   "cell_type": "code",
   "source": "",
   "outputs": [],
   "execution_count": null
  }
 ],
 "metadata": {
  "jupytext": {
   "formats": "ipynb,md"
  },
  "kernelspec": {
   "display_name": "Python 3 (ipykernel)",
   "language": "python",
   "name": "python3"
  },
  "language_info": {
   "codemirror_mode": {
    "name": "ipython",
    "version": 3
   },
   "file_extension": ".py",
   "mimetype": "text/x-python",
   "name": "python",
   "nbconvert_exporter": "python",
   "pygments_lexer": "ipython3",
   "version": "3.10.11"
  }
 },
 "nbformat": 4,
 "nbformat_minor": 1
}
